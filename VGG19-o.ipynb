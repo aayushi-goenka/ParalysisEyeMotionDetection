{
 "cells": [
  {
   "cell_type": "code",
   "execution_count": 1,
   "metadata": {
    "id": "t4rJMKwxvjLT"
   },
   "outputs": [],
   "source": [
    "from tensorflow.keras.layers import Conv2D,Flatten,Dense,MaxPool2D,GlobalAveragePooling2D\n",
    "from tensorflow.keras.applications.resnet50 import preprocess_input, decode_predictions\n",
    "from tensorflow.keras.applications.resnet_v2 import preprocess_input, decode_predictions\n",
    "from tensorflow.keras.preprocessing.image import ImageDataGenerator,load_img\n",
    "from tensorflow.keras.applications.vgg19 import VGG19\n",
    "from tensorflow.keras.preprocessing import image\n",
    "from tensorflow.keras.models import Sequential\n",
    "from tensorflow.keras.models import Model\n",
    "import matplotlib.pyplot as plt\n",
    "from tensorflow import keras \n",
    "from sklearn import metrics\n",
    "from sklearn.metrics import roc_curve, auc\n",
    "import sklearn\n",
    "from sklearn.metrics import roc_auc_score\n",
    "from sklearn.tree import DecisionTreeClassifier\n",
    "from sklearn import tree\n",
    "import tensorflow as tf\n",
    "import pandas as pd\n",
    "import numpy as np\n",
    "import os\n",
    "import tensorflow"
   ]
  },
  {
   "cell_type": "code",
   "execution_count": null,
   "metadata": {},
   "outputs": [],
   "source": []
  },
  {
   "cell_type": "markdown",
   "metadata": {
    "id": "65EkSh00xrrs"
   },
   "source": [
    "EXTRACTION OF PRETRAINED NETWORK FROM KERAS\n"
   ]
  },
  {
   "cell_type": "code",
   "execution_count": 2,
   "metadata": {
    "id": "csu2JXTkv2HF"
   },
   "outputs": [],
   "source": [
    "img_height, img_width = (224,224)\n",
    "batch_size = 32\n",
    "IMG_SHAPE = (img_height, img_width, 3)#1ST CHANGE\n",
    "train_data_dir = r\"C:/Users/user/Desktop/vcg/Output_folder/train\"\n",
    "valid_data_dir = r\"C:/Users/user/Desktop/vcg/Output_folder/val\"\n",
    "test_data_dir = r\"C:/Users/user/Desktop/vcg/Output_folder/test\"\n",
    "#test_data_dir = r\"/content/drive/MyDrive/outputfolder/test\"\n",
    "#image.open()"
   ]
  },
  {
   "cell_type": "code",
   "execution_count": 3,
   "metadata": {
    "colab": {
     "base_uri": "https://localhost:8080/"
    },
    "id": "wUp4rWgrv49r",
    "outputId": "8568414d-492b-4eba-ec80-42f43f13cae6"
   },
   "outputs": [
    {
     "name": "stdout",
     "output_type": "stream",
     "text": [
      "Found 3221 images belonging to 4 classes.\n",
      "Found 399 images belonging to 4 classes.\n"
     ]
    }
   ],
   "source": [
    "\n",
    "train_datagen = ImageDataGenerator(\n",
    "                                   shear_range=0.2,zoom_range=0.2,\n",
    "                                   horizontal_flip=True,\n",
    "                                   validation_split=0.4)\n",
    "                                   # rescale=1/255)\n",
    "\n",
    "train_generator = train_datagen.flow_from_directory(train_data_dir,\n",
    "                                                    target_size=(img_height, img_width),\n",
    "                                                    batch_size = batch_size, \n",
    "                                                    class_mode='categorical')\n",
    "                                                 #   subset='training')# set as training data\n",
    "\n",
    "valid_generator = train_datagen.flow_from_directory(valid_data_dir,\n",
    "                                                    target_size=(img_height, img_width),\n",
    "                                                    batch_size = batch_size, \n",
    "                                                    class_mode='categorical')\n",
    "                                                    #subset='validation') #set as validation data  \n",
    "                                                                  "
   ]
  },
  {
   "cell_type": "code",
   "execution_count": 4,
   "metadata": {},
   "outputs": [
    {
     "data": {
      "text/plain": [
       "{'Closed Eyes': 0,\n",
       " 'center_eyes_aug': 1,\n",
       " 'left_eyes_aug': 2,\n",
       " 'right_eyes_aug': 3}"
      ]
     },
     "execution_count": 4,
     "metadata": {},
     "output_type": "execute_result"
    }
   ],
   "source": [
    "train_generator.class_indices"
   ]
  },
  {
   "cell_type": "code",
   "execution_count": 5,
   "metadata": {},
   "outputs": [
    {
     "data": {
      "text/plain": [
       "3221"
      ]
     },
     "execution_count": 5,
     "metadata": {},
     "output_type": "execute_result"
    }
   ],
   "source": [
    "y_train = train_generator.classes\n",
    "len(y_train)"
   ]
  },
  {
   "cell_type": "code",
   "execution_count": 6,
   "metadata": {
    "id": "6MmduzRyzcfg"
   },
   "outputs": [],
   "source": [
    "nb_validation_samples = 399"
   ]
  },
  {
   "cell_type": "code",
   "execution_count": 8,
   "metadata": {
    "colab": {
     "base_uri": "https://localhost:8080/"
    },
    "id": "5YngzGFaK_2b",
    "outputId": "046109a4-d1f3-4c12-a2b1-a421deaeba4e"
   },
   "outputs": [
    {
     "name": "stdout",
     "output_type": "stream",
     "text": [
      "[0 0 0 ... 3 3 3]\n"
     ]
    },
    {
     "data": {
      "text/plain": [
       "(3221,)"
      ]
     },
     "execution_count": 8,
     "metadata": {},
     "output_type": "execute_result"
    }
   ],
   "source": [
    "dir(train_generator)\n",
    "#type(train_generator.labels)\n",
    "print(train_generator.classes)\n",
    "#y_train = train_generator.classes\n",
    "y_train = train_generator.classes\n",
    "y_train.shape"
   ]
  },
  {
   "cell_type": "code",
   "execution_count": 9,
   "metadata": {
    "colab": {
     "base_uri": "https://localhost:8080/"
    },
    "id": "OlH7y6Jlv75r",
    "outputId": "cdbd42a2-63f3-4aad-8814-c65ae013ea3a"
   },
   "outputs": [
    {
     "name": "stdout",
     "output_type": "stream",
     "text": [
      "Found 404 images belonging to 4 classes.\n"
     ]
    }
   ],
   "source": [
    "test_generator = train_datagen.flow_from_directory(test_data_dir,\n",
    "                                                    target_size=(img_height, img_width),\n",
    "                                   \n",
    "                                                   batch_size = 1, \n",
    "                                                    class_mode='categorical')\n",
    "                                                    #subset='validation') #set as testing data"
   ]
  },
  {
   "cell_type": "code",
   "execution_count": 10,
   "metadata": {
    "colab": {
     "base_uri": "https://localhost:8080/"
    },
    "id": "9LH8g1p0v8sH",
    "outputId": "a2476232-4be4-4e8c-dfa9-22d7e4a1a0bc"
   },
   "outputs": [
    {
     "name": "stdout",
     "output_type": "stream",
     "text": [
      "(1, 224, 224, 3)\n",
      "(1, 4)\n"
     ]
    }
   ],
   "source": [
    "x,y = test_generator.next()\n",
    "print(x.shape)\n",
    "#print(type(x))\n",
    "#x\n",
    "print(y.shape)"
   ]
  },
  {
   "cell_type": "markdown",
   "metadata": {
    "id": "i3pf_ALNw9Ht"
   },
   "source": [
    "VGG19\n",
    "ARCHITECTURE"
   ]
  },
  {
   "cell_type": "code",
   "execution_count": 11,
   "metadata": {
    "id": "fmQSnbOswYOD"
   },
   "outputs": [
    {
     "name": "stdout",
     "output_type": "stream",
     "text": [
      "Model: \"model\"\n",
      "_________________________________________________________________\n",
      " Layer (type)                Output Shape              Param #   \n",
      "=================================================================\n",
      " input_1 (InputLayer)        [(None, 224, 224, 3)]     0         \n",
      "                                                                 \n",
      " block1_conv1 (Conv2D)       (None, 224, 224, 64)      1792      \n",
      "                                                                 \n",
      " block1_conv2 (Conv2D)       (None, 224, 224, 64)      36928     \n",
      "                                                                 \n",
      " block1_pool (MaxPooling2D)  (None, 112, 112, 64)      0         \n",
      "                                                                 \n",
      " block2_conv1 (Conv2D)       (None, 112, 112, 128)     73856     \n",
      "                                                                 \n",
      " block2_conv2 (Conv2D)       (None, 112, 112, 128)     147584    \n",
      "                                                                 \n",
      " block2_pool (MaxPooling2D)  (None, 56, 56, 128)       0         \n",
      "                                                                 \n",
      " block3_conv1 (Conv2D)       (None, 56, 56, 256)       295168    \n",
      "                                                                 \n",
      " block3_conv2 (Conv2D)       (None, 56, 56, 256)       590080    \n",
      "                                                                 \n",
      " block3_conv3 (Conv2D)       (None, 56, 56, 256)       590080    \n",
      "                                                                 \n",
      " block3_conv4 (Conv2D)       (None, 56, 56, 256)       590080    \n",
      "                                                                 \n",
      " block3_pool (MaxPooling2D)  (None, 28, 28, 256)       0         \n",
      "                                                                 \n",
      " block4_conv1 (Conv2D)       (None, 28, 28, 512)       1180160   \n",
      "                                                                 \n",
      " block4_conv2 (Conv2D)       (None, 28, 28, 512)       2359808   \n",
      "                                                                 \n",
      " block4_conv3 (Conv2D)       (None, 28, 28, 512)       2359808   \n",
      "                                                                 \n",
      " block4_conv4 (Conv2D)       (None, 28, 28, 512)       2359808   \n",
      "                                                                 \n",
      " block4_pool (MaxPooling2D)  (None, 14, 14, 512)       0         \n",
      "                                                                 \n",
      " block5_conv1 (Conv2D)       (None, 14, 14, 512)       2359808   \n",
      "                                                                 \n",
      " block5_conv2 (Conv2D)       (None, 14, 14, 512)       2359808   \n",
      "                                                                 \n",
      " block5_conv3 (Conv2D)       (None, 14, 14, 512)       2359808   \n",
      "                                                                 \n",
      " block5_conv4 (Conv2D)       (None, 14, 14, 512)       2359808   \n",
      "                                                                 \n",
      " block5_pool (MaxPooling2D)  (None, 7, 7, 512)         0         \n",
      "                                                                 \n",
      " global_average_pooling2d (G  (None, 512)              0         \n",
      " lobalAveragePooling2D)                                          \n",
      "                                                                 \n",
      " dense (Dense)               (None, 1024)              525312    \n",
      "                                                                 \n",
      " dense_1 (Dense)             (None, 4)                 4100      \n",
      "                                                                 \n",
      "=================================================================\n",
      "Total params: 20,553,796\n",
      "Trainable params: 529,412\n",
      "Non-trainable params: 20,024,384\n",
      "_________________________________________________________________\n"
     ]
    }
   ],
   "source": [
    "def create_model():\n",
    "\n",
    "  base_model_3 = VGG19(include_top = False, weights='imagenet',input_shape=IMG_SHAPE)#2ND CHANGE\n",
    " \n",
    " #the top layer is false coz we want to classify our own classes\n",
    "#we use weights from imagenet(pre-trained weights) to classify our model\n",
    "  x = base_model_3.output\n",
    "#taking the top layer of Resnet50 and connecting with dense layers\n",
    "  x = GlobalAveragePooling2D()(x)\n",
    "\n",
    "  x = Dense(1024, activation='relu')(x)\n",
    "  predictions = Dense(train_generator.num_classes, activation='softmax')(x)\n",
    "  model = Model(inputs=base_model_3.input, outputs=predictions)\n",
    "\n",
    "  for layer in base_model_3.layers:\n",
    "    layer.trainable = False\n",
    "    \n",
    "  opt = keras.optimizers.Adam(learning_rate=0.0001)#learning rate as 0.01\n",
    "  model.compile(loss='categorical_crossentropy', optimizer=opt,\n",
    "               metrics = ['accuracy','mse'])\n",
    "\n",
    "  #model.compile(optimizer='adam', loss='categorical_crossentropy', \n",
    "            #   metrics = ['accuracy','mse'])\n",
    " # model.fit(train_generator, epochs = 10)\n",
    "  return model\n",
    "\n",
    "model = create_model()\n",
    "model.summary()\n",
    "\n",
    "#plot_model(model, show_layer_names=True, show_shapes =True, to_file='model.png', dpi=350)"
   ]
  },
  {
   "cell_type": "code",
   "execution_count": null,
   "metadata": {},
   "outputs": [],
   "source": []
  },
  {
   "cell_type": "code",
   "execution_count": 11,
   "metadata": {
    "colab": {
     "base_uri": "https://localhost:8080/"
    },
    "id": "1N9LKP3RIqqr",
    "outputId": "a334e2b8-60e7-4b35-eaea-2846c577436e"
   },
   "outputs": [
    {
     "name": "stdout",
     "output_type": "stream",
     "text": [
      "Epoch 1/50\n",
      "101/101 [==============================] - ETA: 0s - loss: 1.3670 - accuracy: 0.4710 - mse: 0.1754\n",
      "Epoch 00001: val_accuracy improved from -inf to 0.57031, saving model to C:/Users/user/Desktop/vcg\\cp-0021.ckpt.data-00000-of-00001\n",
      "101/101 [==============================] - 843s 8s/step - loss: 1.3670 - accuracy: 0.4710 - mse: 0.1754 - val_loss: 1.0035 - val_accuracy: 0.5703 - val_mse: 0.1387 - lr: 1.0000e-04\n",
      "Epoch 2/50\n",
      "101/101 [==============================] - ETA: 0s - loss: 0.9363 - accuracy: 0.5880 - mse: 0.1324\n",
      "Epoch 00002: val_accuracy improved from 0.57031 to 0.61719, saving model to C:/Users/user/Desktop/vcg\\cp-0021.ckpt.data-00000-of-00001\n",
      "101/101 [==============================] - 900s 9s/step - loss: 0.9363 - accuracy: 0.5880 - mse: 0.1324 - val_loss: 0.8635 - val_accuracy: 0.6172 - val_mse: 0.1257 - lr: 1.0000e-04\n",
      "Epoch 3/50\n",
      "101/101 [==============================] - ETA: 0s - loss: 0.7724 - accuracy: 0.6514 - mse: 0.1112\n",
      "Epoch 00003: val_accuracy did not improve from 0.61719\n",
      "101/101 [==============================] - 873s 9s/step - loss: 0.7724 - accuracy: 0.6514 - mse: 0.1112 - val_loss: 0.8540 - val_accuracy: 0.6068 - val_mse: 0.1222 - lr: 1.0000e-04\n",
      "Epoch 4/50\n",
      "101/101 [==============================] - ETA: 0s - loss: 0.7380 - accuracy: 0.6687 - mse: 0.1078\n",
      "Epoch 00004: val_accuracy did not improve from 0.61719\n",
      "101/101 [==============================] - 896s 9s/step - loss: 0.7380 - accuracy: 0.6687 - mse: 0.1078 - val_loss: 0.8707 - val_accuracy: 0.6068 - val_mse: 0.1271 - lr: 1.0000e-04\n",
      "Epoch 5/50\n",
      "101/101 [==============================] - ETA: 0s - loss: 0.6471 - accuracy: 0.7144 - mse: 0.0938\n",
      "Epoch 00005: val_accuracy improved from 0.61719 to 0.66667, saving model to C:/Users/user/Desktop/vcg\\cp-0021.ckpt.data-00000-of-00001\n",
      "101/101 [==============================] - 948s 9s/step - loss: 0.6471 - accuracy: 0.7144 - mse: 0.0938 - val_loss: 0.7813 - val_accuracy: 0.6667 - val_mse: 0.1116 - lr: 2.0000e-05\n",
      "Epoch 6/50\n",
      "101/101 [==============================] - ETA: 0s - loss: 0.6197 - accuracy: 0.7308 - mse: 0.0896\n",
      "Epoch 00006: val_accuracy did not improve from 0.66667\n",
      "101/101 [==============================] - 995s 10s/step - loss: 0.6197 - accuracy: 0.7308 - mse: 0.0896 - val_loss: 0.7991 - val_accuracy: 0.6432 - val_mse: 0.1151 - lr: 2.0000e-05\n",
      "Epoch 7/50\n",
      "101/101 [==============================] - ETA: 0s - loss: 0.6104 - accuracy: 0.7408 - mse: 0.0886 \n",
      "Epoch 00007: val_accuracy did not improve from 0.66667\n",
      "101/101 [==============================] - 2559s 25s/step - loss: 0.6104 - accuracy: 0.7408 - mse: 0.0886 - val_loss: 0.8000 - val_accuracy: 0.6484 - val_mse: 0.1127 - lr: 2.0000e-05\n",
      "Epoch 8/50\n",
      "101/101 [==============================] - ETA: 0s - loss: 0.5910 - accuracy: 0.7476 - mse: 0.0853\n",
      "Epoch 00008: val_accuracy improved from 0.66667 to 0.67448, saving model to C:/Users/user/Desktop/vcg\\cp-0021.ckpt.data-00000-of-00001\n",
      "101/101 [==============================] - 1047s 10s/step - loss: 0.5910 - accuracy: 0.7476 - mse: 0.0853 - val_loss: 0.7753 - val_accuracy: 0.6745 - val_mse: 0.1110 - lr: 1.0000e-05\n",
      "Epoch 9/50\n",
      "101/101 [==============================] - ETA: 0s - loss: 0.5851 - accuracy: 0.7501 - mse: 0.0841\n",
      "Epoch 00009: val_accuracy improved from 0.67448 to 0.67969, saving model to C:/Users/user/Desktop/vcg\\cp-0021.ckpt.data-00000-of-00001\n",
      "101/101 [==============================] - 967s 10s/step - loss: 0.5851 - accuracy: 0.7501 - mse: 0.0841 - val_loss: 0.7526 - val_accuracy: 0.6797 - val_mse: 0.1099 - lr: 1.0000e-05\n",
      "Epoch 10/50\n",
      "101/101 [==============================] - ETA: 0s - loss: 0.5872 - accuracy: 0.7526 - mse: 0.0848\n",
      "Epoch 00010: val_accuracy did not improve from 0.67969\n",
      "101/101 [==============================] - 1043s 10s/step - loss: 0.5872 - accuracy: 0.7526 - mse: 0.0848 - val_loss: 0.7411 - val_accuracy: 0.6745 - val_mse: 0.1069 - lr: 1.0000e-05\n",
      "Epoch 11/50\n",
      "101/101 [==============================] - ETA: 0s - loss: 0.5810 - accuracy: 0.7572 - mse: 0.0834\n",
      "Epoch 00011: val_accuracy improved from 0.67969 to 0.68229, saving model to C:/Users/user/Desktop/vcg\\cp-0021.ckpt.data-00000-of-00001\n",
      "101/101 [==============================] - 880s 9s/step - loss: 0.5810 - accuracy: 0.7572 - mse: 0.0834 - val_loss: 0.7264 - val_accuracy: 0.6823 - val_mse: 0.1057 - lr: 1.0000e-05\n",
      "Epoch 12/50\n",
      "101/101 [==============================] - ETA: 0s - loss: 0.5800 - accuracy: 0.7473 - mse: 0.0837\n",
      "Epoch 00012: val_accuracy did not improve from 0.68229\n",
      "101/101 [==============================] - 884s 9s/step - loss: 0.5800 - accuracy: 0.7473 - mse: 0.0837 - val_loss: 0.7213 - val_accuracy: 0.6562 - val_mse: 0.1072 - lr: 1.0000e-05\n",
      "Epoch 13/50\n",
      "101/101 [==============================] - ETA: 0s - loss: 0.5706 - accuracy: 0.7622 - mse: 0.0826\n",
      "Epoch 00013: val_accuracy did not improve from 0.68229\n",
      "101/101 [==============================] - 899s 9s/step - loss: 0.5706 - accuracy: 0.7622 - mse: 0.0826 - val_loss: 0.7486 - val_accuracy: 0.6693 - val_mse: 0.1089 - lr: 1.0000e-05\n",
      "Epoch 14/50\n",
      "101/101 [==============================] - ETA: 0s - loss: 0.5650 - accuracy: 0.7569 - mse: 0.0818\n",
      "Epoch 00014: val_accuracy improved from 0.68229 to 0.68490, saving model to C:/Users/user/Desktop/vcg\\cp-0021.ckpt.data-00000-of-00001\n",
      "101/101 [==============================] - 911s 9s/step - loss: 0.5650 - accuracy: 0.7569 - mse: 0.0818 - val_loss: 0.7616 - val_accuracy: 0.6849 - val_mse: 0.1072 - lr: 1.0000e-05\n",
      "Epoch 15/50\n",
      "101/101 [==============================] - ETA: 0s - loss: 0.5669 - accuracy: 0.7578 - mse: 0.0820\n",
      "Epoch 00015: val_accuracy did not improve from 0.68490\n",
      "101/101 [==============================] - 918s 9s/step - loss: 0.5669 - accuracy: 0.7578 - mse: 0.0820 - val_loss: 0.7639 - val_accuracy: 0.6797 - val_mse: 0.1094 - lr: 1.0000e-05\n",
      "Epoch 16/50\n",
      "101/101 [==============================] - ETA: 0s - loss: 0.5492 - accuracy: 0.7746 - mse: 0.0787 \n",
      "Epoch 00016: val_accuracy did not improve from 0.68490\n",
      "101/101 [==============================] - 2000s 20s/step - loss: 0.5492 - accuracy: 0.7746 - mse: 0.0787 - val_loss: 0.7109 - val_accuracy: 0.6823 - val_mse: 0.1055 - lr: 1.0000e-05\n",
      "Epoch 17/50\n",
      "101/101 [==============================] - ETA: 0s - loss: 0.5519 - accuracy: 0.7668 - mse: 0.0794\n",
      "Epoch 00017: val_accuracy improved from 0.68490 to 0.70052, saving model to C:/Users/user/Desktop/vcg\\cp-0021.ckpt.data-00000-of-00001\n",
      "101/101 [==============================] - 1064s 11s/step - loss: 0.5519 - accuracy: 0.7668 - mse: 0.0794 - val_loss: 0.7534 - val_accuracy: 0.7005 - val_mse: 0.1064 - lr: 1.0000e-05\n",
      "Epoch 18/50\n",
      "101/101 [==============================] - ETA: 0s - loss: 0.5481 - accuracy: 0.7731 - mse: 0.0788\n",
      "Epoch 00018: val_accuracy did not improve from 0.70052\n",
      "101/101 [==============================] - 1057s 10s/step - loss: 0.5481 - accuracy: 0.7731 - mse: 0.0788 - val_loss: 0.7247 - val_accuracy: 0.6719 - val_mse: 0.1051 - lr: 1.0000e-05\n",
      "Epoch 19/50\n",
      "101/101 [==============================] - ETA: 0s - loss: 0.5278 - accuracy: 0.7758 - mse: 0.0760\n",
      "Epoch 00019: val_accuracy did not improve from 0.70052\n",
      "101/101 [==============================] - 1062s 11s/step - loss: 0.5278 - accuracy: 0.7758 - mse: 0.0760 - val_loss: 0.7455 - val_accuracy: 0.6745 - val_mse: 0.1081 - lr: 1.0000e-05\n",
      "Epoch 20/50\n",
      "101/101 [==============================] - ETA: 0s - loss: 0.5373 - accuracy: 0.7718 - mse: 0.0774\n",
      "Epoch 00020: val_accuracy did not improve from 0.70052\n",
      "101/101 [==============================] - 971s 10s/step - loss: 0.5373 - accuracy: 0.7718 - mse: 0.0774 - val_loss: 0.7520 - val_accuracy: 0.6771 - val_mse: 0.1080 - lr: 1.0000e-05\n",
      "Epoch 21/50\n",
      "101/101 [==============================] - ETA: 0s - loss: 0.5380 - accuracy: 0.7790 - mse: 0.0770\n",
      "Epoch 00021: val_accuracy improved from 0.70052 to 0.70312, saving model to C:/Users/user/Desktop/vcg\\cp-0021.ckpt.data-00000-of-00001\n",
      "101/101 [==============================] - 1081s 11s/step - loss: 0.5380 - accuracy: 0.7790 - mse: 0.0770 - val_loss: 0.7066 - val_accuracy: 0.7031 - val_mse: 0.1024 - lr: 1.0000e-05\n",
      "Epoch 22/50\n",
      "101/101 [==============================] - ETA: 0s - loss: 0.5399 - accuracy: 0.7768 - mse: 0.0774\n",
      "Epoch 00022: val_accuracy did not improve from 0.70312\n",
      "101/101 [==============================] - 1081s 11s/step - loss: 0.5399 - accuracy: 0.7768 - mse: 0.0774 - val_loss: 0.7303 - val_accuracy: 0.6693 - val_mse: 0.1067 - lr: 1.0000e-05\n"
     ]
    },
    {
     "name": "stdout",
     "output_type": "stream",
     "text": [
      "Epoch 23/50\n",
      "101/101 [==============================] - ETA: 0s - loss: 0.5284 - accuracy: 0.7907 - mse: 0.0757\n",
      "Epoch 00023: val_accuracy did not improve from 0.70312\n",
      "101/101 [==============================] - 1078s 11s/step - loss: 0.5284 - accuracy: 0.7907 - mse: 0.0757 - val_loss: 0.7361 - val_accuracy: 0.6979 - val_mse: 0.1045 - lr: 1.0000e-05\n",
      "Epoch 24/50\n",
      "101/101 [==============================] - ETA: 0s - loss: 0.5076 - accuracy: 0.7907 - mse: 0.0723\n",
      "Epoch 00024: val_accuracy did not improve from 0.70312\n",
      "101/101 [==============================] - 1083s 11s/step - loss: 0.5076 - accuracy: 0.7907 - mse: 0.0723 - val_loss: 0.7207 - val_accuracy: 0.6771 - val_mse: 0.1053 - lr: 1.0000e-05\n",
      "Epoch 25/50\n",
      "101/101 [==============================] - ETA: 0s - loss: 0.5056 - accuracy: 0.7951 - mse: 0.0725\n",
      "Epoch 00025: val_accuracy did not improve from 0.70312\n",
      "101/101 [==============================] - 1085s 11s/step - loss: 0.5056 - accuracy: 0.7951 - mse: 0.0725 - val_loss: 0.7238 - val_accuracy: 0.6719 - val_mse: 0.1058 - lr: 1.0000e-05\n",
      "Epoch 26/50\n",
      "101/101 [==============================] - ETA: 0s - loss: 0.5125 - accuracy: 0.7929 - mse: 0.0727\n",
      "Epoch 00026: val_accuracy did not improve from 0.70312\n",
      "101/101 [==============================] - 1080s 11s/step - loss: 0.5125 - accuracy: 0.7929 - mse: 0.0727 - val_loss: 0.7435 - val_accuracy: 0.6745 - val_mse: 0.1092 - lr: 1.0000e-05\n",
      "Epoch 27/50\n",
      "101/101 [==============================] - ETA: 0s - loss: 0.5103 - accuracy: 0.7935 - mse: 0.0729\n",
      "Epoch 00027: val_accuracy did not improve from 0.70312\n",
      "101/101 [==============================] - 1085s 11s/step - loss: 0.5103 - accuracy: 0.7935 - mse: 0.0729 - val_loss: 0.7211 - val_accuracy: 0.6901 - val_mse: 0.1043 - lr: 1.0000e-05\n",
      "Epoch 28/50\n",
      "101/101 [==============================] - ETA: 0s - loss: 0.5087 - accuracy: 0.7926 - mse: 0.0726\n",
      "Epoch 00028: val_accuracy did not improve from 0.70312\n",
      "101/101 [==============================] - 1089s 11s/step - loss: 0.5087 - accuracy: 0.7926 - mse: 0.0726 - val_loss: 0.7277 - val_accuracy: 0.6667 - val_mse: 0.1076 - lr: 1.0000e-05\n",
      "Epoch 29/50\n",
      "101/101 [==============================] - ETA: 0s - loss: 0.5003 - accuracy: 0.8001 - mse: 0.0714\n",
      "Epoch 00029: val_accuracy improved from 0.70312 to 0.71094, saving model to C:/Users/user/Desktop/vcg\\cp-0021.ckpt.data-00000-of-00001\n",
      "101/101 [==============================] - 1087s 11s/step - loss: 0.5003 - accuracy: 0.8001 - mse: 0.0714 - val_loss: 0.7470 - val_accuracy: 0.7109 - val_mse: 0.1080 - lr: 1.0000e-05\n",
      "Epoch 30/50\n",
      "101/101 [==============================] - ETA: 0s - loss: 0.4931 - accuracy: 0.8050 - mse: 0.0699 \n",
      "Epoch 00030: val_accuracy did not improve from 0.71094\n",
      "101/101 [==============================] - 1129s 11s/step - loss: 0.4931 - accuracy: 0.8050 - mse: 0.0699 - val_loss: 0.7393 - val_accuracy: 0.6797 - val_mse: 0.1050 - lr: 1.0000e-05\n",
      "Epoch 31/50\n",
      "101/101 [==============================] - ETA: 0s - loss: 0.5012 - accuracy: 0.7991 - mse: 0.0713\n",
      "Epoch 00031: val_accuracy did not improve from 0.71094\n",
      "101/101 [==============================] - 1074s 11s/step - loss: 0.5012 - accuracy: 0.7991 - mse: 0.0713 - val_loss: 0.7173 - val_accuracy: 0.6745 - val_mse: 0.1034 - lr: 1.0000e-05\n",
      "Epoch 32/50\n",
      "101/101 [==============================] - ETA: 0s - loss: 0.4985 - accuracy: 0.7994 - mse: 0.0706\n",
      "Epoch 00032: val_accuracy did not improve from 0.71094\n",
      "101/101 [==============================] - 1064s 11s/step - loss: 0.4985 - accuracy: 0.7994 - mse: 0.0706 - val_loss: 0.7363 - val_accuracy: 0.6823 - val_mse: 0.1054 - lr: 1.0000e-05\n",
      "Epoch 33/50\n",
      "101/101 [==============================] - ETA: 0s - loss: 0.4858 - accuracy: 0.8050 - mse: 0.0691\n",
      "Epoch 00033: val_accuracy did not improve from 0.71094\n",
      "101/101 [==============================] - 1121s 11s/step - loss: 0.4858 - accuracy: 0.8050 - mse: 0.0691 - val_loss: 0.7493 - val_accuracy: 0.6745 - val_mse: 0.1079 - lr: 1.0000e-05\n",
      "Epoch 34/50\n",
      "101/101 [==============================] - ETA: 0s - loss: 0.4873 - accuracy: 0.8081 - mse: 0.0694 \n",
      "Epoch 00034: val_accuracy did not improve from 0.71094\n",
      "101/101 [==============================] - 1229s 12s/step - loss: 0.4873 - accuracy: 0.8081 - mse: 0.0694 - val_loss: 0.7427 - val_accuracy: 0.6562 - val_mse: 0.1115 - lr: 1.0000e-05\n",
      "Epoch 35/50\n",
      "101/101 [==============================] - ETA: 0s - loss: 0.4835 - accuracy: 0.7994 - mse: 0.0687 \n",
      "Epoch 00035: val_accuracy did not improve from 0.71094\n",
      "101/101 [==============================] - 1220s 12s/step - loss: 0.4835 - accuracy: 0.7994 - mse: 0.0687 - val_loss: 0.7424 - val_accuracy: 0.6823 - val_mse: 0.1089 - lr: 1.0000e-05\n",
      "Epoch 36/50\n",
      "101/101 [==============================] - ETA: 0s - loss: 0.4800 - accuracy: 0.8115 - mse: 0.0682\n",
      "Epoch 00036: val_accuracy did not improve from 0.71094\n",
      "101/101 [==============================] - 1094s 11s/step - loss: 0.4800 - accuracy: 0.8115 - mse: 0.0682 - val_loss: 0.7218 - val_accuracy: 0.6953 - val_mse: 0.1023 - lr: 1.0000e-05\n",
      "Epoch 37/50\n",
      "101/101 [==============================] - ETA: 0s - loss: 0.4723 - accuracy: 0.8140 - mse: 0.0669\n",
      "Epoch 00037: val_accuracy did not improve from 0.71094\n",
      "101/101 [==============================] - 1071s 11s/step - loss: 0.4723 - accuracy: 0.8140 - mse: 0.0669 - val_loss: 0.6929 - val_accuracy: 0.6875 - val_mse: 0.1027 - lr: 1.0000e-05\n",
      "Epoch 38/50\n",
      "101/101 [==============================] - ETA: 0s - loss: 0.4677 - accuracy: 0.8131 - mse: 0.0665\n",
      "Epoch 00038: val_accuracy did not improve from 0.71094\n",
      "101/101 [==============================] - 1061s 11s/step - loss: 0.4677 - accuracy: 0.8131 - mse: 0.0665 - val_loss: 0.7064 - val_accuracy: 0.6719 - val_mse: 0.1026 - lr: 1.0000e-05\n",
      "Epoch 39/50\n",
      "101/101 [==============================] - ETA: 0s - loss: 0.4817 - accuracy: 0.8112 - mse: 0.0681\n",
      "Epoch 00039: val_accuracy did not improve from 0.71094\n",
      "101/101 [==============================] - 1064s 11s/step - loss: 0.4817 - accuracy: 0.8112 - mse: 0.0681 - val_loss: 0.7328 - val_accuracy: 0.6875 - val_mse: 0.1074 - lr: 1.0000e-05\n",
      "Epoch 40/50\n",
      "101/101 [==============================] - ETA: 0s - loss: 0.4736 - accuracy: 0.8128 - mse: 0.0676\n",
      "Epoch 00040: val_accuracy did not improve from 0.71094\n",
      "101/101 [==============================] - 920s 9s/step - loss: 0.4736 - accuracy: 0.8128 - mse: 0.0676 - val_loss: 0.7051 - val_accuracy: 0.7057 - val_mse: 0.1014 - lr: 1.0000e-05\n",
      "Epoch 41/50\n",
      "101/101 [==============================] - ETA: 0s - loss: 0.4752 - accuracy: 0.8131 - mse: 0.0671\n",
      "Epoch 00041: val_accuracy did not improve from 0.71094\n",
      "101/101 [==============================] - 919s 9s/step - loss: 0.4752 - accuracy: 0.8131 - mse: 0.0671 - val_loss: 0.7337 - val_accuracy: 0.6849 - val_mse: 0.1050 - lr: 1.0000e-05\n",
      "Epoch 42/50\n",
      "101/101 [==============================] - ETA: 0s - loss: 0.4637 - accuracy: 0.8140 - mse: 0.0655\n",
      "Epoch 00042: val_accuracy did not improve from 0.71094\n",
      "101/101 [==============================] - 920s 9s/step - loss: 0.4637 - accuracy: 0.8140 - mse: 0.0655 - val_loss: 0.6970 - val_accuracy: 0.6875 - val_mse: 0.1037 - lr: 1.0000e-05\n",
      "Epoch 43/50\n",
      "101/101 [==============================] - ETA: 0s - loss: 0.4626 - accuracy: 0.8128 - mse: 0.0658\n",
      "Epoch 00043: val_accuracy did not improve from 0.71094\n",
      "101/101 [==============================] - 919s 9s/step - loss: 0.4626 - accuracy: 0.8128 - mse: 0.0658 - val_loss: 0.7384 - val_accuracy: 0.6901 - val_mse: 0.1061 - lr: 1.0000e-05\n",
      "Epoch 44/50\n",
      "101/101 [==============================] - ETA: 0s - loss: 0.4596 - accuracy: 0.8153 - mse: 0.0648\n",
      "Epoch 00044: val_accuracy did not improve from 0.71094\n",
      "101/101 [==============================] - 921s 9s/step - loss: 0.4596 - accuracy: 0.8153 - mse: 0.0648 - val_loss: 0.6758 - val_accuracy: 0.6979 - val_mse: 0.0993 - lr: 1.0000e-05\n",
      "Epoch 45/50\n",
      "101/101 [==============================] - ETA: 0s - loss: 0.4638 - accuracy: 0.8196 - mse: 0.0655\n",
      "Epoch 00045: val_accuracy did not improve from 0.71094\n",
      "101/101 [==============================] - 919s 9s/step - loss: 0.4638 - accuracy: 0.8196 - mse: 0.0655 - val_loss: 0.7279 - val_accuracy: 0.6953 - val_mse: 0.1041 - lr: 1.0000e-05\n",
      "Epoch 46/50\n",
      "101/101 [==============================] - ETA: 0s - loss: 0.4539 - accuracy: 0.8271 - mse: 0.0636\n",
      "Epoch 00046: val_accuracy did not improve from 0.71094\n",
      "101/101 [==============================] - 921s 9s/step - loss: 0.4539 - accuracy: 0.8271 - mse: 0.0636 - val_loss: 0.7015 - val_accuracy: 0.6979 - val_mse: 0.1019 - lr: 1.0000e-05\n",
      "Epoch 47/50\n",
      "101/101 [==============================] - ETA: 0s - loss: 0.4540 - accuracy: 0.8215 - mse: 0.0642\n",
      "Epoch 00047: val_accuracy improved from 0.71094 to 0.72396, saving model to C:/Users/user/Desktop/vcg\\cp-0021.ckpt.data-00000-of-00001\n",
      "101/101 [==============================] - 921s 9s/step - loss: 0.4540 - accuracy: 0.8215 - mse: 0.0642 - val_loss: 0.6910 - val_accuracy: 0.7240 - val_mse: 0.0981 - lr: 1.0000e-05\n",
      "Epoch 48/50\n",
      "101/101 [==============================] - ETA: 0s - loss: 0.4398 - accuracy: 0.8289 - mse: 0.0620\n",
      "Epoch 00048: val_accuracy did not improve from 0.72396\n",
      "101/101 [==============================] - 924s 9s/step - loss: 0.4398 - accuracy: 0.8289 - mse: 0.0620 - val_loss: 0.6833 - val_accuracy: 0.7083 - val_mse: 0.0979 - lr: 1.0000e-05\n",
      "Epoch 49/50\n",
      "101/101 [==============================] - ETA: 0s - loss: 0.4371 - accuracy: 0.8274 - mse: 0.0615\n",
      "Epoch 00049: val_accuracy did not improve from 0.72396\n",
      "101/101 [==============================] - 925s 9s/step - loss: 0.4371 - accuracy: 0.8274 - mse: 0.0615 - val_loss: 0.6729 - val_accuracy: 0.7005 - val_mse: 0.0982 - lr: 1.0000e-05\n",
      "Epoch 50/50\n",
      "101/101 [==============================] - ETA: 0s - loss: 0.4425 - accuracy: 0.8277 - mse: 0.0623\n",
      "Epoch 00050: val_accuracy did not improve from 0.72396\n",
      "101/101 [==============================] - 933s 9s/step - loss: 0.4425 - accuracy: 0.8277 - mse: 0.0623 - val_loss: 0.6953 - val_accuracy: 0.7109 - val_mse: 0.1002 - lr: 1.0000e-05\n"
     ]
    }
   ],
   "source": [
    "# 50 epochs for VGG19 model\n",
    "from tensorflow.keras.callbacks import ModelCheckpoint, EarlyStopping, ReduceLROnPlateau, CSVLogger\n",
    "\n",
    "#checkpointing\n",
    "#checkpoint_path = \"/content/drive/MyDrive/cp-0021.ckpt.data-00000-of-00001\"\n",
    "checkpoint_path = \"C:/Users/user/Desktop/vcg/cp-0021.ckpt.data-00000-of-00001\"\n",
    "checkpoint_dir = os.path.dirname(checkpoint_path)\n",
    "\n",
    "#Create a callback that saves the model's weights\n",
    "cp_callback = tensorflow.keras.callbacks.ModelCheckpoint(monitor = 'val_accuracy',\n",
    "   filepath=checkpoint_path, \n",
    "    verbose=1,\n",
    "    save_weights_only=True,\n",
    "    #save_freq=5*batch_size,\n",
    "     save_best_only = True,                                                    \n",
    "      mode='max')\n",
    "\n",
    "\n",
    "#Reduce learning rate when a metric has stopped improving.\n",
    "# Models often benefit \n",
    "#from reducing the learning rate by a factor of 2-10\n",
    "reduce_lr = ReduceLROnPlateau(monitor='val_accuracy', \n",
    "                              factor=0.2, patience=2, min_lr=0.00001)\n",
    "\n",
    "\n",
    "\n",
    "# Save the weights using the `checkpoint_path` format\n",
    "model.save_weights(checkpoint_path.format(epoch=0))\n",
    "\n",
    "# Train the model with the new callback\n",
    "model_history = model.fit(train_generator, epochs = 50,callbacks=[cp_callback, reduce_lr],\n",
    "                          validation_data=valid_generator,\n",
    "    validation_steps=nb_validation_samples // batch_size)\n",
    "           # Pass callback to training\n",
    "    "
   ]
  },
  {
   "cell_type": "code",
   "execution_count": 12,
   "metadata": {},
   "outputs": [],
   "source": [
    "#model.save('vgg19.h5')\n",
    "model_1 = tensorflow.keras.models.load_model('vgg19.h5')"
   ]
  },
  {
   "cell_type": "code",
   "execution_count": 15,
   "metadata": {},
   "outputs": [
    {
     "data": {
      "image/png": "[encoded data removed]",
      "text/plain": [
       "<Figure size 720x360 with 2 Axes>"
      ]
     },
     "metadata": {
      "needs_background": "light"
     },
     "output_type": "display_data"
    },
    {
     "data": {
      "text/plain": [
       "<Figure size 432x288 with 0 Axes>"
      ]
     },
     "metadata": {},
     "output_type": "display_data"
    },
    {
     "data": {
      "text/plain": [
       "<Figure size 432x288 with 0 Axes>"
      ]
     },
     "metadata": {},
     "output_type": "display_data"
    }
   ],
   "source": [
    "def plot_accuracy_loss(history):\n",
    "    \n",
    "    fig = plt.figure(figsize=(10,5))\n",
    "\n",
    "    plt.subplot(221)\n",
    "    #plt.plot(history.history['accuracy'],'bo--', label = \"train_acc\")\n",
    "    plt.plot(history.history['accuracy'],marker = ',',ms = 10, label = \"train_acc\")\n",
    "    plt.plot(history.history['val_accuracy'], marker = ',', label = \"val_acc\")\n",
    "    plt.title(\"(train_acc & val_acc) vs epoch\")\n",
    "    plt.ylabel(\"accuracy\")\n",
    "    plt.xlabel(\"epochs\")\n",
    "    plt.legend()\n",
    "\n",
    "    plt.subplot(222)\n",
    "    plt.plot(history.history['loss'],marker= ',', label = \"train_loss\")\n",
    "    plt.plot(history.history['val_loss'], marker=',' , label = \"val_loss\")\n",
    "    plt.title(\"(train_loss & val_loss) vs epoch\")\n",
    "    plt.ylabel(\"loss\")\n",
    "    plt.xlabel(\"epochs\")\n",
    "\n",
    "    plt.legend()\n",
    "    f = plt.figure()\n",
    "    plt.show()\n",
    "  \n",
    "\n",
    "\n",
    "plot_accuracy_loss(model_history)\n",
    "f = plt.figure()\n",
    "f.savefig('C:/Users/user/Desktop/vcg/', bbox_inches='tight', dpi=600)"
   ]
  },
  {
   "cell_type": "code",
   "execution_count": 16,
   "metadata": {},
   "outputs": [],
   "source": [
    "#model _1 = tensorflow.keras.models.load_model('ResNet50_100_epochs.h5')"
   ]
  },
  {
   "cell_type": "code",
   "execution_count": 13,
   "metadata": {
    "id": "y6dj7ILfHTCS"
   },
   "outputs": [
    {
     "data": {
      "image/png": "[encoded data removed]",
      "text/plain": [
       "<Figure size 432x288 with 2 Axes>"
      ]
     },
     "metadata": {
      "needs_background": "light"
     },
     "output_type": "display_data"
    },
    {
     "name": "stdout",
     "output_type": "stream",
     "text": [
      "test accuracy: 68.8118811881188\n"
     ]
    }
   ],
   "source": [
    "#to plot confusion matrix for 100 epochs\n",
    "import pandas as pd\n",
    "import seaborn as sn\n",
    "import tensorflow as tf\n",
    "\n",
    "#model = tf.keras.models.load_model(\"Reflection_dataset\\Saved_Model\\Mobilenet_reflection.h5\")\n",
    "model = model_1\n",
    "filenames = test_generator.filenames\n",
    "nb_samples = len(test_generator)\n",
    "y_prob=[]\n",
    "y_act=[]\n",
    "test_generator.reset()\n",
    "for _ in range(nb_samples):\n",
    "  X_test,Y_test = test_generator.next()\n",
    "  y_prob.append(model.predict(X_test))\n",
    "  y_act.append(Y_test)\n",
    "\n",
    "predicted_class = [list(train_generator.class_indices.keys())[i.argmax()]for i in y_prob]\n",
    "actual_class = [list(train_generator.class_indices.keys())[i.argmax()]for i in y_act]\n",
    "\n",
    "out_df = pd.DataFrame(np.vstack([predicted_class,actual_class]).T,columns = ['predicted_class','actual_class'])\n",
    "confusion_matrix = pd.crosstab(out_df['actual_class'],out_df['predicted_class'], rownames=['Actual'], colnames=['Predicted'])\n",
    "sn.heatmap(confusion_matrix,cmap=\"YlGnBu\", annot = True,fmt='d')\n",
    "plt.show()\n",
    "print('test accuracy: {}'.format((np.diagonal(confusion_matrix).sum()/confusion_matrix.sum().sum()*100)))"
   ]
  },
  {
   "cell_type": "code",
   "execution_count": 18,
   "metadata": {},
   "outputs": [
    {
     "data": {
      "text/plain": [
       "['Closed Eyes', 'center_eyes_aug', 'left_eyes_aug', 'right_eyes_aug']"
      ]
     },
     "execution_count": 18,
     "metadata": {},
     "output_type": "execute_result"
    }
   ],
   "source": [
    "target = []\n",
    "for x in train_generator.class_indices.keys():\n",
    "  target.append(x)\n",
    "\n",
    "target"
   ]
  },
  {
   "cell_type": "code",
   "execution_count": 19,
   "metadata": {},
   "outputs": [
    {
     "name": "stdout",
     "output_type": "stream",
     "text": [
      "ROC AUC score: 0.7955046940808639\n"
     ]
    },
    {
     "data": {
      "image/png": "[encoded data removed]",
      "text/plain": [
       "<Figure size 864x576 with 1 Axes>"
      ]
     },
     "metadata": {
      "needs_background": "light"
     },
     "output_type": "display_data"
    }
   ],
   "source": [
    "import matplotlib.pyplot as plt \n",
    "from sklearn.preprocessing import LabelBinarizer\n",
    "from sklearn.metrics import roc_curve, auc, roc_auc_score\n",
    "\n",
    "\n",
    "#target= ['airplane', 'automobile', 'bird', 'cat', 'deer',\n",
    "   #       'dog', 'frog', 'horse', 'ship', 'truck']\n",
    "\n",
    "# set plot figure size\n",
    "fig, c_ax = plt.subplots(1,1, figsize = (12, 8))\n",
    "\n",
    "# function for scoring roc auc score for multi-class\n",
    "def multiclass_roc_auc_score(y_test, ypred, average=\"weighted\"):\n",
    "    lb = LabelBinarizer()\n",
    "    lb.fit(y_test)\n",
    "    y_test = lb.transform(y_test)\n",
    "    ypred = lb.transform(ypred)\n",
    "\n",
    "    for (idx, c_label) in enumerate(target):\n",
    "        fpr, tpr, thresholds = roc_curve(y_test[:,idx].astype(int), ypred[:,idx])\n",
    "        c_ax.plot(fpr, tpr, label = '%s (AUC:%0.2f)'  % (c_label, auc(fpr, tpr)))\n",
    "    c_ax.plot(fpr, fpr, 'b-', label = 'Random Guessing')\n",
    "    return roc_auc_score(y_test, ypred, average=average)\n",
    "\n",
    "\n",
    "print('ROC AUC score:', multiclass_roc_auc_score(predicted_class, actual_class))\n",
    "\n",
    "c_ax.legend()\n",
    "c_ax.set_xlabel('False Positive Rate')\n",
    "c_ax.set_ylabel('True Positive Rate')\n",
    "plt.show()"
   ]
  },
  {
   "cell_type": "code",
   "execution_count": 3,
   "metadata": {},
   "outputs": [],
   "source": [
    "new_model = tf.keras.models.load_model('vgg19.h5')"
   ]
  },
  {
   "cell_type": "markdown",
   "metadata": {
    "id": "8cN2h-DRHBYD"
   },
   "source": []
  },
  {
   "cell_type": "code",
   "execution_count": 20,
   "metadata": {},
   "outputs": [],
   "source": [
    "#for image augmentation "
   ]
  },
  {
   "cell_type": "code",
   "execution_count": 21,
   "metadata": {},
   "outputs": [
    {
     "ename": "ModuleNotFoundError",
     "evalue": "No module named 'cv2'",
     "output_type": "error",
     "traceback": [
      "\u001b[1;31m---------------------------------------------------------------------------\u001b[0m",
      "\u001b[1;31mModuleNotFoundError\u001b[0m                       Traceback (most recent call last)",
      "\u001b[1;32m<ipython-input-21-39b5708f7432>\u001b[0m in \u001b[0;36m<module>\u001b[1;34m\u001b[0m\n\u001b[0;32m      1\u001b[0m \u001b[1;32mimport\u001b[0m \u001b[0mos\u001b[0m\u001b[1;33m\u001b[0m\u001b[1;33m\u001b[0m\u001b[0m\n\u001b[1;32m----> 2\u001b[1;33m \u001b[1;32mimport\u001b[0m \u001b[0mcv2\u001b[0m\u001b[1;33m\u001b[0m\u001b[1;33m\u001b[0m\u001b[0m\n\u001b[0m\u001b[0;32m      3\u001b[0m \u001b[1;32mimport\u001b[0m \u001b[0mnumpy\u001b[0m \u001b[1;32mas\u001b[0m \u001b[0mnp\u001b[0m\u001b[1;33m\u001b[0m\u001b[1;33m\u001b[0m\u001b[0m\n\u001b[0;32m      4\u001b[0m \u001b[1;32mfrom\u001b[0m \u001b[0mskimage\u001b[0m \u001b[1;32mimport\u001b[0m \u001b[0mio\u001b[0m\u001b[1;33m\u001b[0m\u001b[1;33m\u001b[0m\u001b[0m\n\u001b[0;32m      5\u001b[0m \u001b[1;32mfrom\u001b[0m \u001b[0mskimage\u001b[0m\u001b[1;33m.\u001b[0m\u001b[0mtransform\u001b[0m \u001b[1;32mimport\u001b[0m \u001b[0mrotate\u001b[0m\u001b[1;33m,\u001b[0m \u001b[0mAffineTransform\u001b[0m\u001b[1;33m,\u001b[0m \u001b[0mwarp\u001b[0m\u001b[1;33m\u001b[0m\u001b[1;33m\u001b[0m\u001b[0m\n",
      "\u001b[1;31mModuleNotFoundError\u001b[0m: No module named 'cv2'"
     ]
    }
   ],
   "source": [
    "import os\n",
    "import cv2\n",
    "import numpy as np\n",
    "from skimage import io \n",
    "from skimage.transform import rotate, AffineTransform, warp\n",
    "import matplotlib.pyplot as plt\n",
    "import random\n",
    "from skimage import img_as_ubyte\n",
    "import os\n",
    "from skimage.util import random_noise"
   ]
  },
  {
   "cell_type": "code",
   "execution_count": 22,
   "metadata": {},
   "outputs": [
    {
     "ename": "NameError",
     "evalue": "name 'cv2' is not defined",
     "output_type": "error",
     "traceback": [
      "\u001b[1;31m---------------------------------------------------------------------------\u001b[0m",
      "\u001b[1;31mNameError\u001b[0m                                 Traceback (most recent call last)",
      "\u001b[1;32m<ipython-input-22-d7f884aa830d>\u001b[0m in \u001b[0;36m<module>\u001b[1;34m\u001b[0m\n\u001b[0;32m      1\u001b[0m \u001b[1;31m#img= cv2.imread(r\"/content/drive/MyDrive/Datasets/window_shopping/5142_5141_M_0.png\")\u001b[0m\u001b[1;33m\u001b[0m\u001b[1;33m\u001b[0m\u001b[1;33m\u001b[0m\u001b[0m\n\u001b[1;32m----> 2\u001b[1;33m \u001b[0mimg\u001b[0m\u001b[1;33m=\u001b[0m \u001b[0mcv2\u001b[0m\u001b[1;33m.\u001b[0m\u001b[0mimread\u001b[0m\u001b[1;33m(\u001b[0m\u001b[1;34mr\"C:/Users/DHANVANTH/SAMSUNG/z/1.png\"\u001b[0m\u001b[1;33m)\u001b[0m\u001b[1;33m\u001b[0m\u001b[1;33m\u001b[0m\u001b[0m\n\u001b[0m\u001b[0;32m      3\u001b[0m \u001b[0mimg\u001b[0m\u001b[1;33m=\u001b[0m \u001b[0mcv2\u001b[0m\u001b[1;33m.\u001b[0m\u001b[0mcvtColor\u001b[0m\u001b[1;33m(\u001b[0m\u001b[0mimg\u001b[0m\u001b[1;33m,\u001b[0m \u001b[0mcv2\u001b[0m\u001b[1;33m.\u001b[0m\u001b[0mCOLOR_RGB2BGR\u001b[0m\u001b[1;33m)\u001b[0m \u001b[1;31m#we are converting image to BGR because matplotlib displays image BGR format\u001b[0m\u001b[1;33m\u001b[0m\u001b[1;33m\u001b[0m\u001b[0m\n\u001b[0;32m      4\u001b[0m \u001b[1;31m#if you are using cv2 for displaying image, no need to convert image to BGR\u001b[0m\u001b[1;33m\u001b[0m\u001b[1;33m\u001b[0m\u001b[1;33m\u001b[0m\u001b[0m\n\u001b[0;32m      5\u001b[0m \u001b[1;33m\u001b[0m\u001b[0m\n",
      "\u001b[1;31mNameError\u001b[0m: name 'cv2' is not defined"
     ]
    }
   ],
   "source": [
    "#img= cv2.imread(r\"/content/drive/MyDrive/Datasets/window_shopping/5142_5141_M_0.png\")\n",
    "img= cv2.imread(r\"C:/Users/DHANVANTH/SAMSUNG/z/1.png\")\n",
    "img= cv2.cvtColor(img, cv2.COLOR_RGB2BGR) #we are converting image to BGR because matplotlib displays image BGR format\n",
    "#if you are using cv2 for displaying image, no need to convert image to BGR\n",
    "\n",
    "plt.imshow(img)\n",
    "plt.show()"
   ]
  },
  {
   "cell_type": "code",
   "execution_count": 23,
   "metadata": {},
   "outputs": [],
   "source": [
    "\n",
    "#Lets define functions for each operation\n",
    "def anticlockwise_rotation(image):\n",
    "    angle= random.randint(0,180)\n",
    "    return rotate(image, angle)\n",
    "\n",
    "def clockwise_rotation(image):\n",
    "    angle= random.randint(0,180)\n",
    "    return rotate(image, -angle)\n",
    "\n",
    "def h_flip(image):\n",
    "    return  np.fliplr(image)\n",
    "\n",
    "def v_flip(image):\n",
    "    return np.flipud(image)\n",
    "\n",
    "def add_noise(image):\n",
    "    return random_noise(image)\n",
    "\n",
    "def blur_image(image):\n",
    "    return cv2.GaussianBlur(img, (9,9),0)\n",
    "\n",
    "#I would not recommend warp_shifting, because it distorts image, but can be used in many use case like \n",
    "#classifying blur and non-blur images\n",
    "def warp_shift(image): \n",
    "    transform = AffineTransform(translation=(0,40))  #chose x,y values according to your convinience\n",
    "    warp_image = warp(image, transform, mode=\"wrap\")\n",
    "    return warp_image"
   ]
  },
  {
   "cell_type": "code",
   "execution_count": null,
   "metadata": {},
   "outputs": [],
   "source": [
    "\n",
    "transformations = {#'rotate anticlockwise': anticlockwise_rotation,\n",
    "                  #    'rotate clockwise': clockwise_rotation,\n",
    "                      'horizontal flip': h_flip, \n",
    "                      'vertical flip': v_flip,\n",
    "                   'warp shift': warp_shift,\n",
    "                   'adding noise': add_noise,\n",
    "                  'blurring image':blur_image\n",
    "                 }                #use dictionary to store names of functions \n",
    "\n",
    "images_path=\"C:/Users/DHANVANTH/SAMSUNG/z\" #path to original images\n",
    "augmented_path=\"C:/Users/DHANVANTH/SAMSUNG/y\" # path to store aumented images\n",
    "images=[] # to store paths of images from folder\n",
    "\n",
    "for im in os.listdir(images_path):  # read image name from folder and append its path into \"images\" array     \n",
    "    images.append(os.path.join(images_path,im))\n",
    "\n",
    "images_to_generate=70\n",
    "i=1                        # variable to iterate till images_to_generate\n",
    "\n",
    "while i<=images_to_generate:    \n",
    "    image=random.choice(images)\n",
    "    original_image = io.imread(image)\n",
    "    transformed_image=None\n",
    "    print(i)\n",
    "    n = 0       #variable to iterate till number of transformation to apply\n",
    "    transformation_count = random.randint(1, len(transformations)) #choose random number of transformation to apply on the image\n",
    "    \n",
    "    while n <= transformation_count:\n",
    "        key = random.choice(list(transformations)) #randomly choosing method to call\n",
    "        transformed_image = transformations[key](original_image)\n",
    "        n = n + 1\n",
    "        \n",
    "    new_image_path= \"%s/augmented_image_%s.jpg\" %(augmented_path, i+2100)\n",
    "    transformed_image = img_as_ubyte(transformed_image)  #Convert an image to unsigned byte format, with values in [0, 255].\n",
    "    transformed_image=cv2.cvtColor(transformed_image, cv2.COLOR_BGR2RGB) #convert image to RGB before saving it\n",
    "    cv2.imwrite(new_image_path, transformed_image) # save transformed image to path\n",
    "    i =i+1\n",
    "#to generate more images, put above 3 statement inside while n<... loop"
   ]
  },
  {
   "cell_type": "code",
   "execution_count": null,
   "metadata": {},
   "outputs": [],
   "source": [
    "#to find the number of images in a file"
   ]
  },
  {
   "cell_type": "code",
   "execution_count": 87,
   "metadata": {},
   "outputs": [
    {
     "name": "stdout",
     "output_type": "stream",
     "text": [
      "Searching in :  G:/final_dataset/train/reflection absent\n",
      "Total number of files 800\n"
     ]
    }
   ],
   "source": [
    "APP_FOLDER = 'G:/final_dataset/train/'\n",
    "#APP_FOLDER = \"C:/Users/DHANVANTH/SAMSUNG/y\"\n",
    "totalFiles = 0\n",
    "totalDir = 0\n",
    "\n",
    "for base, dirs, files in os.walk(APP_FOLDER):\n",
    "    print('Searching in : ',base)\n",
    "    for directories in dirs:\n",
    "        totalDir += 1\n",
    "    for Files in files:\n",
    "        totalFiles += 1\n",
    "\n",
    "print('Total number of files',totalFiles)\n"
   ]
  }
 ],
 "metadata": {
  "accelerator": "GPU",
  "colab": {
   "collapsed_sections": [],
   "name": "mobilenet.ipynb",
   "provenance": []
  },
  "kernelspec": {
   "display_name": "Python 3",
   "language": "python",
   "name": "python3"
  },
  "language_info": {
   "codemirror_mode": {
    "name": "ipython",
    "version": 3
   },
   "file_extension": ".py",
   "mimetype": "text/x-python",
   "name": "python",
   "nbconvert_exporter": "python",
   "pygments_lexer": "ipython3",
   "version": "3.8.8"
  }
 },
 "nbformat": 4,
 "nbformat_minor": 1
}
