{
 "cells": [
  {
   "cell_type": "code",
   "execution_count": 1,
   "id": "7ff5afa1",
   "metadata": {},
   "outputs": [],
   "source": [
    "from tensorflow.keras.layers import Conv2D,Flatten,Dense,MaxPool2D,GlobalAveragePooling2D\n",
    "from tensorflow.keras.applications.resnet50 import preprocess_input, decode_predictions\n",
    "from tensorflow.keras.applications.resnet_v2 import preprocess_input, decode_predictions\n",
    "from tensorflow.keras.preprocessing.image import ImageDataGenerator,load_img\n",
    "from tensorflow.keras.applications import EfficientNetB4\n",
    "from tensorflow.keras.applications.resnet50 import ResNet50\n",
    "from tensorflow.keras.preprocessing import image\n",
    "from tensorflow.keras.models import Sequential\n",
    "from tensorflow.keras.models import Model\n",
    "import matplotlib.pyplot as plt\n",
    "from tensorflow import keras \n",
    "from sklearn import metrics\n",
    "from sklearn.metrics import roc_curve, auc\n",
    "import sklearn\n",
    "from sklearn.metrics import roc_auc_score\n",
    "from sklearn.tree import DecisionTreeClassifier\n",
    "from sklearn import tree\n",
    "import tensorflow as tf\n",
    "import pandas as pd\n",
    "import numpy as np\n",
    "import os\n",
    "import tensorflow"
   ]
  },
  {
   "cell_type": "code",
   "execution_count": 6,
   "id": "e9351fbe",
   "metadata": {},
   "outputs": [],
   "source": [
    "img_height, img_width = (224,224)\n",
    "batch_size = 15\n",
    "\n",
    "train_data_dir = r\"G:/GAIP/output_final/train\"\n",
    "valid_data_dir = r\"G:/GAIP/output_final/val\"\n",
    "test_data_dir = r\"G:/GAIP/output_final/test\"\n",
    "#test_data_dir = r\"/content/drive/MyDrive/outputfolder/test\"\n",
    "#image.open()"
   ]
  },
  {
   "cell_type": "code",
   "execution_count": 7,
   "id": "1045224b",
   "metadata": {},
   "outputs": [
    {
     "name": "stdout",
     "output_type": "stream",
     "text": [
      "Found 487 images belonging to 4 classes.\n",
      "Found 60 images belonging to 4 classes.\n"
     ]
    }
   ],
   "source": [
    "\n",
    "train_datagen = ImageDataGenerator(\n",
    "                                     shear_range=0.2,zoom_range=0.2,\n",
    "                                 horizontal_flip=True,\n",
    "                                   validation_split=0.4,\n",
    "                                    rescale=1/255)\n",
    "\n",
    "train_generator = train_datagen.flow_from_directory(train_data_dir,\n",
    "                                                    target_size=(img_height, img_width),\n",
    "                                                    batch_size = batch_size, \n",
    "                                                      class_mode='categorical')\n",
    "                       \n",
    "                                       #   subset='training')# set as training data\n",
    "\n",
    "valid_generator = train_datagen.flow_from_directory(valid_data_dir,\n",
    "                                                    target_size=(img_height, img_width),\n",
    "                                                    batch_size = batch_size, \n",
    "                                                    class_mode='categorical')\n",
    "                                                    #subset='validation') #set as validation data  \n",
    "                                                                                                       "
   ]
  },
  {
   "cell_type": "code",
   "execution_count": 8,
   "id": "b75eb5d2",
   "metadata": {},
   "outputs": [
    {
     "data": {
      "text/plain": [
       "{'Center Eyes': 0, 'closed_spare': 1, 'left_movement': 2, 'right_movement': 3}"
      ]
     },
     "execution_count": 8,
     "metadata": {},
     "output_type": "execute_result"
    }
   ],
   "source": [
    "train_generator.class_indices"
   ]
  },
  {
   "cell_type": "code",
   "execution_count": 9,
   "id": "f337fbe6",
   "metadata": {},
   "outputs": [
    {
     "data": {
      "text/plain": [
       "487"
      ]
     },
     "execution_count": 9,
     "metadata": {},
     "output_type": "execute_result"
    }
   ],
   "source": [
    "y_train = train_generator.classes\n",
    "len(y_train)"
   ]
  },
  {
   "cell_type": "code",
   "execution_count": 10,
   "id": "088a037a",
   "metadata": {},
   "outputs": [],
   "source": [
    "nb_validation_samples = 60"
   ]
  },
  {
   "cell_type": "code",
   "execution_count": 17,
   "id": "712ab1bb",
   "metadata": {},
   "outputs": [
    {
     "name": "stdout",
     "output_type": "stream",
     "text": [
      "[0 0 0 0 0 0 0 0 0 0 0 0 0 0 0 0 0 0 0 0 0 0 0 0 0 0 0 0 0 0 0 0 0 0 0 0 0\n",
      " 0 0 0 0 0 0 0 0 0 0 0 0 0 0 0 0 0 0 0 0 0 0 0 0 0 0 0 0 0 0 0 0 0 0 0 0 0\n",
      " 0 0 0 0 0 0 0 0 0 0 0 0 0 0 0 0 0 0 0 0 0 0 0 0 0 0 0 0 0 0 0 0 0 0 0 0 0\n",
      " 0 0 0 0 0 0 0 0 0 1 1 1 1 1 1 1 1 1 1 1 1 1 1 1 1 1 1 1 1 1 1 1 1 1 1 1 1\n",
      " 1 1 1 1 1 1 1 1 1 1 1 1 1 1 1 1 1 1 1 1 1 1 1 1 1 1 1 1 1 1 1 1 1 1 1 1 1\n",
      " 1 1 1 1 1 1 1 1 1 1 1 1 1 1 1 1 1 1 1 1 1 1 1 1 1 1 1 1 1 1 1 1 1 1 1 1 1\n",
      " 1 1 1 1 1 1 1 1 1 1 1 1 1 1 1 1 1 1 2 2 2 2 2 2 2 2 2 2 2 2 2 2 2 2 2 2 2\n",
      " 2 2 2 2 2 2 2 2 2 2 2 2 2 2 2 2 2 2 2 2 2 2 2 2 2 2 2 2 2 2 2 2 2 2 2 2 2\n",
      " 2 2 2 2 2 2 2 2 2 2 2 2 2 2 2 2 2 2 2 2 2 2 2 2 2 2 2 2 2 2 2 2 2 2 2 2 2\n",
      " 2 2 2 2 2 2 2 2 2 2 2 2 2 2 2 2 2 2 2 2 2 2 2 2 2 2 2 2 2 2 3 3 3 3 3 3 3\n",
      " 3 3 3 3 3 3 3 3 3 3 3 3 3 3 3 3 3 3 3 3 3 3 3 3 3 3 3 3 3 3 3 3 3 3 3 3 3\n",
      " 3 3 3 3 3 3 3 3 3 3 3 3 3 3 3 3 3 3 3 3 3 3 3 3 3 3 3 3 3 3 3 3 3 3 3 3 3\n",
      " 3 3 3 3 3 3 3 3 3 3 3 3 3 3 3 3 3 3 3 3 3 3 3 3 3 3 3 3 3 3 3 3 3 3 3 3 3\n",
      " 3 3 3 3 3 3]\n"
     ]
    },
    {
     "data": {
      "text/plain": [
       "(487,)"
      ]
     },
     "execution_count": 17,
     "metadata": {},
     "output_type": "execute_result"
    }
   ],
   "source": [
    "dir(train_generator)\n",
    "#type(train_generator.labels)\n",
    "print(train_generator.classes)\n",
    "#y_train = train_generator.classes\n",
    "y_train = train_generator.classes\n",
    "y_train.shape"
   ]
  },
  {
   "cell_type": "code",
   "execution_count": 18,
   "id": "d9df4c90",
   "metadata": {},
   "outputs": [
    {
     "name": "stdout",
     "output_type": "stream",
     "text": [
      "Found 63 images belonging to 4 classes.\n"
     ]
    }
   ],
   "source": [
    "test_generator = train_datagen.flow_from_directory(test_data_dir,\n",
    "                                                    target_size=(img_height, img_width),\n",
    "                                   \n",
    "                                                   batch_size = 1, \n",
    "                                                    class_mode='categorical')\n",
    "                                                    #subset='validation') #set as testing data"
   ]
  },
  {
   "cell_type": "code",
   "execution_count": 19,
   "id": "040fbb77",
   "metadata": {},
   "outputs": [
    {
     "data": {
      "text/plain": [
       "(1, 224, 224, 3)"
      ]
     },
     "execution_count": 19,
     "metadata": {},
     "output_type": "execute_result"
    }
   ],
   "source": [
    "x,y = test_generator.next()\n",
    "x.shape\n",
    "#print(type(x))\n",
    "#x"
   ]
  },
  {
   "cell_type": "code",
   "execution_count": 34,
   "id": "a71e286d",
   "metadata": {},
   "outputs": [],
   "source": [
    "import math\n",
    "import numpy as np\n",
    "import scipy\n",
    "import h5py\n",
    "from tensorflow.keras.layers import Input, Add, Dense, Activation, ZeroPadding2D, BatchNormalization  \n",
    "from tensorflow.keras.layers import Flatten, Conv2D, AveragePooling2D, MaxPooling2D\n",
    "from tensorflow.keras.models import Model\n",
    "from tensorflow.keras.preprocessing import image\n",
    "from tensorflow.keras.initializers import glorot_uniform\n",
    "from tensorflow.keras.applications.imagenet_utils import preprocess_input\n",
    "from matplotlib.pyplot import imshow\n",
    "def Gaip_model_1(input_shape, outputClasses):\n",
    "  \n",
    "    #X_input = keras.Input(shape=(224, 224, 3))\n",
    "    X_input = Input(input_shape)\n",
    "    X = ZeroPadding2D((3, 3))(X_input)\n",
    "   # X_2 = X\n",
    "    \n",
    "    # Stage 0\n",
    "    #X = Conv2D(16, (3, 3), strides=(1, 1), name='conv1', kernel_initializer=glorot_uniform(seed=0))(X)\n",
    "   # X = BatchNormalization(axis=3, name='bn_conv1')(X)\n",
    "   #X = Activation('relu')(X)\n",
    "    #X = MaxPooling2D((3, 3), strides=(2, 2))(X)\n",
    "    \n",
    "    X_2 = X\n",
    "    #stage1:\n",
    "    X = Conv2D(32, kernel_size=(3, 3), strides=(1, 1), padding='same', \n",
    "             kernel_initializer=glorot_uniform(seed=0))(X)\n",
    "    X = Conv2D(32, kernel_size=(3, 3), strides=(1, 1), padding='same', \n",
    "             kernel_initializer=glorot_uniform(seed=0))(X)\n",
    "    X = MaxPooling2D((3, 3), strides=(2, 2))(X)\n",
    "    X = BatchNormalization(axis=3)(X)\n",
    "    X = Activation('relu')(X)\n",
    "    #stage2:\n",
    "    X = Conv2D(64, kernel_size=(3, 3), strides=(1, 1), padding='same', \n",
    "             kernel_initializer=glorot_uniform(seed=0))(X)\n",
    "    X = Conv2D(64, kernel_size=(3, 3), strides=(1, 1), padding='same', \n",
    "             kernel_initializer=glorot_uniform(seed=0))(X)\n",
    "    X = BatchNormalization(axis=3)(X)\n",
    "    X = Activation('relu')(X)\n",
    "    \n",
    "    #stage3:\n",
    "    X = Conv2D(128, kernel_size=(3, 3), strides=(1, 1), padding='same', \n",
    "             kernel_initializer=glorot_uniform(seed=0))(X)\n",
    "    X = BatchNormalization(axis=3)(X)\n",
    "    \n",
    "    #shortpath:\n",
    "    X_2 = Conv2D(128, kernel_size=(3, 3), strides=(1, 1), padding='same', \n",
    "             kernel_initializer=glorot_uniform(seed=0))(X_2)\n",
    "    X_2 = MaxPooling2D((3, 3), strides=(2, 2))(X_2)\n",
    "    X_2 = BatchNormalization(axis=3)(X_2)\n",
    "    \n",
    "    X = Add()([X,X_2])\n",
    "    X = Activation('relu')(X)\n",
    "    \n",
    "    #avg_pooling\n",
    "    X = AveragePooling2D(pool_size=(2, 2), padding='same')(X)\n",
    "    \n",
    "    #flattening\n",
    "    X = Flatten()(X)\n",
    "    #fully_connected\n",
    "    X = Dense(128, activation='relu', kernel_initializer=glorot_uniform(seed=0))(X)\n",
    "    X = Dense(4, activation='softmax')(X)\n",
    "    \n",
    "    model = Model(inputs = X_input, outputs=X, name='define_model_4')\n",
    "    return model\n",
    "    \n",
    "   \n",
    "    "
   ]
  },
  {
   "cell_type": "code",
   "execution_count": 35,
   "id": "d33852fe",
   "metadata": {},
   "outputs": [
    {
     "name": "stdout",
     "output_type": "stream",
     "text": [
      "Model: \"define_model_4\"\n",
      "__________________________________________________________________________________________________\n",
      "Layer (type)                    Output Shape         Param #     Connected to                     \n",
      "==================================================================================================\n",
      "input_9 (InputLayer)            [(None, 224, 224, 3) 0                                            \n",
      "__________________________________________________________________________________________________\n",
      "zero_padding2d_8 (ZeroPadding2D (None, 230, 230, 3)  0           input_9[0][0]                    \n",
      "__________________________________________________________________________________________________\n",
      "conv2d_48 (Conv2D)              (None, 230, 230, 32) 896         zero_padding2d_8[0][0]           \n",
      "__________________________________________________________________________________________________\n",
      "conv2d_49 (Conv2D)              (None, 230, 230, 32) 9248        conv2d_48[0][0]                  \n",
      "__________________________________________________________________________________________________\n",
      "max_pooling2d_7 (MaxPooling2D)  (None, 114, 114, 32) 0           conv2d_49[0][0]                  \n",
      "__________________________________________________________________________________________________\n",
      "batch_normalization_32 (BatchNo (None, 114, 114, 32) 128         max_pooling2d_7[0][0]            \n",
      "__________________________________________________________________________________________________\n",
      "activation_22 (Activation)      (None, 114, 114, 32) 0           batch_normalization_32[0][0]     \n",
      "__________________________________________________________________________________________________\n",
      "conv2d_50 (Conv2D)              (None, 114, 114, 64) 18496       activation_22[0][0]              \n",
      "__________________________________________________________________________________________________\n",
      "conv2d_51 (Conv2D)              (None, 114, 114, 64) 36928       conv2d_50[0][0]                  \n",
      "__________________________________________________________________________________________________\n",
      "batch_normalization_33 (BatchNo (None, 114, 114, 64) 256         conv2d_51[0][0]                  \n",
      "__________________________________________________________________________________________________\n",
      "activation_23 (Activation)      (None, 114, 114, 64) 0           batch_normalization_33[0][0]     \n",
      "__________________________________________________________________________________________________\n",
      "conv2d_53 (Conv2D)              (None, 230, 230, 128 3584        zero_padding2d_8[0][0]           \n",
      "__________________________________________________________________________________________________\n",
      "conv2d_52 (Conv2D)              (None, 114, 114, 128 73856       activation_23[0][0]              \n",
      "__________________________________________________________________________________________________\n",
      "max_pooling2d_8 (MaxPooling2D)  (None, 114, 114, 128 0           conv2d_53[0][0]                  \n",
      "__________________________________________________________________________________________________\n",
      "batch_normalization_34 (BatchNo (None, 114, 114, 128 512         conv2d_52[0][0]                  \n",
      "__________________________________________________________________________________________________\n",
      "batch_normalization_35 (BatchNo (None, 114, 114, 128 512         max_pooling2d_8[0][0]            \n",
      "__________________________________________________________________________________________________\n",
      "add_8 (Add)                     (None, 114, 114, 128 0           batch_normalization_34[0][0]     \n",
      "                                                                 batch_normalization_35[0][0]     \n",
      "__________________________________________________________________________________________________\n",
      "activation_24 (Activation)      (None, 114, 114, 128 0           add_8[0][0]                      \n",
      "__________________________________________________________________________________________________\n",
      "average_pooling2d_6 (AveragePoo (None, 57, 57, 128)  0           activation_24[0][0]              \n",
      "__________________________________________________________________________________________________\n",
      "flatten_6 (Flatten)             (None, 415872)       0           average_pooling2d_6[0][0]        \n",
      "__________________________________________________________________________________________________\n",
      "dense_12 (Dense)                (None, 128)          53231744    flatten_6[0][0]                  \n",
      "__________________________________________________________________________________________________\n",
      "dense_13 (Dense)                (None, 4)            516         dense_12[0][0]                   \n",
      "==================================================================================================\n",
      "Total params: 53,376,676\n",
      "Trainable params: 53,375,972\n",
      "Non-trainable params: 704\n",
      "__________________________________________________________________________________________________\n"
     ]
    }
   ],
   "source": [
    "model = Gaip_model_1(input_shape = (224,224,3), outputClasses =4)\n",
    "\n",
    "model.compile(optimizer='adam', loss='categorical_crossentropy', metrics=['accuracy','mse'])\n",
    "model.summary()"
   ]
  },
  {
   "cell_type": "code",
   "execution_count": 37,
   "id": "30af2e23",
   "metadata": {},
   "outputs": [
    {
     "name": "stdout",
     "output_type": "stream",
     "text": [
      "Epoch 1/5\n",
      "33/33 [==============================] - ETA: 0s - loss: 45.9149 - accuracy: 0.3224 - mse: 0.3287\n",
      "Epoch 00001: val_accuracy improved from -inf to 0.25000, saving model to G:/GAIP/Gaip_model\\cp-0021.ckpt.data-00000-of-00001\n",
      "33/33 [==============================] - 169s 5s/step - loss: 45.9149 - accuracy: 0.3224 - mse: 0.3287 - val_loss: 1803.6641 - val_accuracy: 0.2500 - val_mse: 0.3750\n",
      "Epoch 2/5\n",
      "33/33 [==============================] - ETA: 0s - loss: 15.7465 - accuracy: 0.3901 - mse: 0.2924\n",
      "Epoch 00002: val_accuracy did not improve from 0.25000\n",
      "33/33 [==============================] - 149s 5s/step - loss: 15.7465 - accuracy: 0.3901 - mse: 0.2924 - val_loss: 226.8255 - val_accuracy: 0.1500 - val_mse: 0.4243\n",
      "Epoch 3/5\n",
      "33/33 [==============================] - ETA: 0s - loss: 9.4350 - accuracy: 0.4374 - mse: 0.2674\n",
      "Epoch 00003: val_accuracy did not improve from 0.25000\n",
      "33/33 [==============================] - 147s 4s/step - loss: 9.4350 - accuracy: 0.4374 - mse: 0.2674 - val_loss: 102.4804 - val_accuracy: 0.1333 - val_mse: 0.4281\n",
      "Epoch 4/5\n",
      "33/33 [==============================] - ETA: 0s - loss: 3.9617 - accuracy: 0.5544 - mse: 0.1931\n",
      "Epoch 00004: val_accuracy did not improve from 0.25000\n",
      "33/33 [==============================] - 140s 4s/step - loss: 3.9617 - accuracy: 0.5544 - mse: 0.1931 - val_loss: 43.5466 - val_accuracy: 0.1833 - val_mse: 0.3958\n",
      "Epoch 5/5\n",
      "33/33 [==============================] - ETA: 0s - loss: 3.0470 - accuracy: 0.5688 - mse: 0.1854\n",
      "Epoch 00005: val_accuracy did not improve from 0.25000\n",
      "33/33 [==============================] - 144s 4s/step - loss: 3.0470 - accuracy: 0.5688 - mse: 0.1854 - val_loss: 18.0661 - val_accuracy: 0.2167 - val_mse: 0.3811\n"
     ]
    }
   ],
   "source": [
    "# 100 epochs for Resnet50 model\n",
    "from tensorflow.keras.callbacks import ModelCheckpoint, EarlyStopping, ReduceLROnPlateau, CSVLogger\n",
    "\n",
    "#checkpointing\n",
    "#checkpoint_path = \"/content/drive/MyDrive/cp-0021.ckpt.data-00000-of-00001\"\n",
    "#checkpoint_path = \"C:/Users/DHANVANTH/SAMSUNG/Resnet/cp-0021.ckpt.data-00000-of-00001\"\n",
    "checkpoint_path = \"G:/GAIP/Gaip_model/cp-0021.ckpt.data-00000-of-00001\"\n",
    "checkpoint_dir = os.path.dirname(checkpoint_path)\n",
    "\n",
    "#Create a callback that saves the model's weights\n",
    "cp_callback = tensorflow.keras.callbacks.ModelCheckpoint(monitor = 'val_accuracy',\n",
    "   filepath=checkpoint_path, \n",
    "    verbose=1,\n",
    "    save_weights_only=True,\n",
    "    #save_freq=5*batch_size,\n",
    "     save_best_only = True,                                                    \n",
    "      mode='max')\n",
    "\n",
    "\n",
    "#Reduce learning rate when a metric has stopped improving.\n",
    "# Models often benefit \n",
    "#from reducing the learning rate by a factor of 2-10\n",
    "reduce_lr = ReduceLROnPlateau(monitor='val_accuracy', \n",
    "                              factor=0.2, patience=2, min_lr=0.00001)\n",
    "\n",
    "\n",
    "\n",
    "# Save the weights using the `checkpoint_path` format\n",
    "model.save_weights(checkpoint_path.format(epoch=0))\n",
    "\n",
    "# Train the model with the new callback\n",
    "model_history = model.fit(train_generator, epochs = 5,callbacks=[cp_callback, reduce_lr],\n",
    "                          validation_data=valid_generator,\n",
    "    validation_steps=nb_validation_samples // batch_size)\n",
    "           # Pass callback to training"
   ]
  },
  {
   "cell_type": "code",
   "execution_count": 38,
   "id": "cb54da9f",
   "metadata": {},
   "outputs": [
    {
     "data": {
      "image/png": "[encoded data removed]",
      "text/plain": [
       "<Figure size 1000x500 with 2 Axes>"
      ]
     },
     "metadata": {},
     "output_type": "display_data"
    },
    {
     "data": {
      "text/plain": [
       "<Figure size 640x480 with 0 Axes>"
      ]
     },
     "metadata": {},
     "output_type": "display_data"
    }
   ],
   "source": [
    "def plot_accuracy_loss(history):\n",
    "    \n",
    "    fig = plt.figure(figsize=(10,5))\n",
    "\n",
    "    plt.subplot(221)\n",
    "    #plt.plot(history.history['accuracy'],'bo--', label = \"train_acc\")\n",
    "    plt.plot(history.history['accuracy'],marker = ',',ms = 10, label = \"train_acc\")\n",
    "    plt.plot(history.history['val_accuracy'], marker = ',', label = \"val_acc\")\n",
    "    plt.title(\"(train_acc & val_acc) vs epoch\")\n",
    "    plt.ylabel(\"accuracy\")\n",
    "    plt.xlabel(\"epochs\")\n",
    "    plt.legend()\n",
    "\n",
    "    plt.subplot(222)\n",
    "    plt.plot(history.history['loss'],marker= ',', label = \"train_loss\")\n",
    "    plt.plot(history.history['val_loss'], marker=',' , label = \"val_loss\")\n",
    "    plt.title(\"(train_loss & val_loss) vs epoch\")\n",
    "    plt.ylabel(\"loss\")\n",
    "    plt.xlabel(\"epochs\")\n",
    "\n",
    "    plt.legend()\n",
    "    f = plt.figure()\n",
    "    plt.show()\n",
    "  \n",
    "\n",
    "\n",
    "plot_accuracy_loss(model_history)\n",
    "f = plt.figure()\n",
    "#f.savefig('C:/Users/DHANVANTH/SAMSUNG/resnet_50_epoch_vs_acc', bbox_inches='tight', dpi=600)"
   ]
  },
  {
   "cell_type": "code",
   "execution_count": 39,
   "id": "0c0f4f5f",
   "metadata": {},
   "outputs": [
    {
     "data": {
      "image/png": "[encoded data removed]",
      "text/plain": [
       "<Figure size 640x480 with 2 Axes>"
      ]
     },
     "metadata": {},
     "output_type": "display_data"
    },
    {
     "name": "stdout",
     "output_type": "stream",
     "text": [
      "test accuracy: 30.158730158730158\n"
     ]
    }
   ],
   "source": [
    "#to plot confusion matrix for 100 epochs\n",
    "import pandas as pd\n",
    "import seaborn as sn\n",
    "import tensorflow as tf\n",
    "\n",
    "#model = tf.keras.models.load_model(\"Reflection_dataset\\Saved_Model\\Mobilenet_reflection.h5\")\n",
    "#model = model_1\n",
    "filenames = test_generator.filenames\n",
    "nb_samples = len(test_generator)\n",
    "y_prob=[]\n",
    "y_act=[]\n",
    "test_generator.reset()\n",
    "for _ in range(nb_samples):\n",
    "  X_test,Y_test = test_generator.next()\n",
    "  y_prob.append(model.predict(X_test))\n",
    "  y_act.append(Y_test)\n",
    "\n",
    "predicted_class = [list(train_generator.class_indices.keys())[i.argmax()]for i in y_prob]\n",
    "actual_class = [list(train_generator.class_indices.keys())[i.argmax()]for i in y_act]\n",
    "\n",
    "out_df = pd.DataFrame(np.vstack([predicted_class,actual_class]).T,columns = ['predicted_class','actual_class'])\n",
    "confusion_matrix = pd.crosstab(out_df['actual_class'],out_df['predicted_class'], rownames=['Actual'], colnames=['Predicted'])\n",
    "sn.heatmap(confusion_matrix,cmap=\"YlGnBu\", annot = True,fmt='d')\n",
    "plt.show()\n",
    "print('test accuracy: {}'.format((np.diagonal(confusion_matrix).sum()/confusion_matrix.sum().sum()*100)))"
   ]
  },
  {
   "cell_type": "code",
   "execution_count": null,
   "id": "33327000",
   "metadata": {},
   "outputs": [],
   "source": [
    "model_json = classifier.to_json()\n",
    "with open(\"model_new.json\", \"w\") as json_file:\n",
    "    json_file.write(model_json)\n",
    "print('Model Saved')\n",
    "classifier.save_weights('model_new.h5')\n",
    "print('Weights saved')"
   ]
  },
  {
   "cell_type": "code",
   "execution_count": null,
   "id": "4dc9f0e6",
   "metadata": {},
   "outputs": [],
   "source": [
    "import math\n",
    "import numpy as np\n",
    "import scipy\n",
    "import h5py\n",
    "from tensorflow.keras.layers import Input, Add, Dense, Activation, ZeroPadding2D, BatchNormalization  \n",
    "from tensorflow.keras.layers import Flatten, Conv2D, AveragePooling2D, MaxPooling2D\n",
    "from tensorflow.keras.models import Model\n",
    "from tensorflow.keras.preprocessing import image\n",
    "from tensorflow.keras.initializers import glorot_uniform\n",
    "from tensorflow.keras.applications.imagenet_utils import preprocess_input\n",
    "from matplotlib.pyplot import imshow\n",
    "def Gaip_model_1(input_shape, outputClasses):\n",
    "  \n",
    "    #X_input = keras.Input(shape=(224, 224, 3))\n",
    "    X_input = Input(input_shape)\n",
    "    X = ZeroPadding2D((3, 3))(X_input)\n",
    "   # X_2 = X\n",
    "    \n",
    "    # Stage 0\n",
    "    #X = Conv2D(16, (3, 3), strides=(1, 1), name='conv1', kernel_initializer=glorot_uniform(seed=0))(X)\n",
    "   # X = BatchNormalization(axis=3, name='bn_conv1')(X)\n",
    "   #X = Activation('relu')(X)\n",
    "    #X = MaxPooling2D((3, 3), strides=(2, 2))(X)\n",
    "    \n",
    "    X_2 = X\n",
    "    #stage1:\n",
    "    X = Conv2D(32, kernel_size=(3, 3), strides=(1, 1), padding='same', \n",
    "             kernel_initializer=glorot_uniform(seed=0))(X)\n",
    "    X = Conv2D(32, kernel_size=(3, 3), strides=(1, 1), padding='same', \n",
    "             kernel_initializer=glorot_uniform(seed=0))(X)\n",
    "    X = MaxPooling2D((3, 3), strides=(2, 2))(X)\n",
    "    X = BatchNormalization(axis=3)(X)\n",
    "    X = Activation('relu')(X)\n",
    "    #stage2:\n",
    "    X = Conv2D(64, kernel_size=(3, 3), strides=(1, 1), padding='same', \n",
    "             kernel_initializer=glorot_uniform(seed=0))(X)\n",
    "    X = Conv2D(64, kernel_size=(3, 3), strides=(1, 1), padding='same', \n",
    "             kernel_initializer=glorot_uniform(seed=0))(X)\n",
    "    X = BatchNormalization(axis=3)(X)\n",
    "    X = Activation('relu')(X)\n",
    "    \n",
    "    #stage3:\n",
    "    X = Conv2D(128, kernel_size=(3, 3), strides=(1, 1), padding='same', \n",
    "             kernel_initializer=glorot_uniform(seed=0))(X)\n",
    "    X = BatchNormalization(axis=3)(X)\n",
    "    \n",
    "    #shortpath:\n",
    "    X_2 = Conv2D(128, kernel_size=(3, 3), strides=(1, 1), padding='same', \n",
    "             kernel_initializer=glorot_uniform(seed=0))(X_2)\n",
    "    X_2 = MaxPooling2D((3, 3), strides=(2, 2))(X_2)\n",
    "    X_2 = BatchNormalization(axis=3)(X_2)\n",
    "    \n",
    "    X = Add()([X,X_2])\n",
    "    X = Activation('relu')(X)\n",
    "    \n",
    "    #avg_pooling\n",
    "    X = AveragePooling2D(pool_size=(2, 2), padding='same')(X)\n",
    "    \n",
    "    #flattening\n",
    "    X = Flatten()(X)\n",
    "    #fully_connected\n",
    "    X = Dense(128, activation='relu', kernel_initializer=glorot_uniform(seed=0))(X)\n",
    "    X = Dense(4, activation='softmax')(X)\n",
    "    \n",
    "    model = Model(inputs = X_input, outputs=X, name='define_model_4')\n",
    "    return model\n",
    "    \n",
    "   \n",
    "    "
   ]
  },
  {
   "cell_type": "code",
   "execution_count": null,
   "id": "41a780b7",
   "metadata": {},
   "outputs": [],
   "source": [
    "model = Gaip_model_1(input_shape = (224,224,3), outputClasses =4)\n",
    "\n",
    "model.compile(optimizer='adam', loss='categorical_crossentropy', metrics=['accuracy','mse'])\n",
    "model.summary()"
   ]
  }
 ],
 "metadata": {
  "kernelspec": {
   "display_name": "Python 3",
   "language": "python",
   "name": "python3"
  },
  "language_info": {
   "codemirror_mode": {
    "name": "ipython",
    "version": 3
   },
   "file_extension": ".py",
   "mimetype": "text/x-python",
   "name": "python",
   "nbconvert_exporter": "python",
   "pygments_lexer": "ipython3",
   "version": "3.8.11"
  }
 },
 "nbformat": 4,
 "nbformat_minor": 5
}
