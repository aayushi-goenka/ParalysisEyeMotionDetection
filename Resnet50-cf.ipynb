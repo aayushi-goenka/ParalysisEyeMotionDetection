{
  "nbformat": 4,
  "nbformat_minor": 0,
  "metadata": {
    "colab": {
      "name": "Resnet50-cf.ipynb",
      "provenance": [],
      "mount_file_id": "1KVKv3H3-MQeGKXOZ2s4QwMq0aPO2YkR9",
      "authorship_tag": "ABX9TyNLCX1C3HLCoMhFhm6WY7/0",
      "include_colab_link": true
    },
    "kernelspec": {
      "name": "python3",
      "display_name": "Python 3"
    },
    "language_info": {
      "name": "python"
    }
  },
  "cells": [
    {
      "cell_type": "markdown",
      "metadata": {
        "id": "view-in-github",
        "colab_type": "text"
      },
      "source": [
        "<a href=\"https://colab.research.google.com/github/aayushi-goenka/ParalysisEyeMotionDetection/blob/main/Resnet50-cf.ipynb\" target=\"_parent\"><img src=\"https://colab.research.google.com/assets/colab-badge.svg\" alt=\"Open In Colab\"/></a>"
      ]
    },
    {
      "cell_type": "code",
      "source": [
        ""
      ],
      "metadata": {
        "id": "Jo-NPrQI6e5v"
      },
      "execution_count": null,
      "outputs": []
    },
    {
      "cell_type": "code",
      "source": [
        "from google.colab import drive\n",
        "drive.mount('/gdrive')"
      ],
      "metadata": {
        "colab": {
          "base_uri": "https://localhost:8080/"
        },
        "id": "nji5kpjb6hpW",
        "outputId": "b44ea6c6-8fa2-4430-8b38-9a6251a9ae84"
      },
      "execution_count": null,
      "outputs": [
        {
          "output_type": "stream",
          "name": "stdout",
          "text": [
            "Mounted at /gdrive\n"
          ]
        }
      ]
    },
    {
      "cell_type": "code",
      "execution_count": null,
      "metadata": {
        "id": "Ea37qiyA543D"
      },
      "outputs": [],
      "source": [
        "from tensorflow.keras.preprocessing.image import ImageDataGenerator,load_img\n",
        "from tensorflow.keras.preprocessing import image\n",
        "from tensorflow.keras.optimizers import RMSprop\n",
        "import tensorflow as tf\n",
        "import cv2\n",
        "import pandas as pd\n",
        "import numpy as np\n",
        "import os\n",
        "import matplotlib.pyplot as plt"
      ]
    },
    {
      "cell_type": "code",
      "source": [
        "from tensorflow.keras.layers import Conv2D,Flatten,Dense,MaxPool2D,GlobalAveragePooling2D\n",
        "from tensorflow.keras.applications.resnet50 import preprocess_input, decode_predictions\n",
        "from tensorflow.keras.applications.resnet_v2 import preprocess_input, decode_predictions\n",
        "from tensorflow.keras.preprocessing.image import ImageDataGenerator,load_img\n",
        "from tensorflow.keras.applications import EfficientNetB4\n",
        "from tensorflow.keras.applications.resnet50 import ResNet50\n",
        "from tensorflow.keras.preprocessing import image\n",
        "from tensorflow.keras.models import Sequential\n",
        "from tensorflow.keras.models import Model\n",
        "import matplotlib.pyplot as plt\n",
        "from tensorflow import keras \n",
        "from sklearn import metrics\n",
        "from sklearn.metrics import roc_curve, auc\n",
        "import sklearn\n",
        "from sklearn.metrics import roc_auc_score\n",
        "from sklearn.tree import DecisionTreeClassifier\n",
        "from sklearn import tree\n",
        "import tensorflow as tf\n",
        "import pandas as pd\n",
        "import numpy as np\n",
        "import os\n",
        "import tensorflow"
      ],
      "metadata": {
        "id": "mvuSnYAX58sm"
      },
      "execution_count": null,
      "outputs": []
    },
    {
      "cell_type": "code",
      "source": [
        "img_height, img_width = (224,224)\n",
        "batch_size = 32\n",
        "\n",
        "train_data_dir = r\"/gdrive/MyDrive/Augmeny_Trial_output.after.splitting/train\"\n",
        "valid_data_dir = r\"/gdrive/MyDrive/Augmeny_Trial_output.after.splitting/val\"\n",
        "test_data_dir = r\"/gdrive/MyDrive/Augmeny_Trial_output.after.splitting/test\"\n",
        "#test_data_dir = r\"/content/drive/MyDrive/outputfolder/test\"\n",
        "#image.open()"
      ],
      "metadata": {
        "id": "OrD0jVFU5-Iv"
      },
      "execution_count": null,
      "outputs": []
    },
    {
      "cell_type": "code",
      "source": [
        "\n",
        "train_datagen = ImageDataGenerator(\n",
        "                                     shear_range=0.2,zoom_range=0.2,\n",
        "                                 horizontal_flip=True,\n",
        "                                   validation_split=0.4,\n",
        "                                    rescale=1/255)\n",
        "\n",
        "train_generator = train_datagen.flow_from_directory(train_data_dir,\n",
        "                                                    target_size=(img_height, img_width),\n",
        "                                                    batch_size = batch_size, \n",
        "                                                      class_mode='categorical')\n",
        "                       \n",
        "                                       #   subset='training')# set as training data\n",
        "\n",
        "valid_generator = train_datagen.flow_from_directory(valid_data_dir,\n",
        "                                                    target_size=(img_height, img_width),\n",
        "                                                    batch_size = batch_size, \n",
        "                                                    class_mode='categorical')\n",
        "                                                    #subset='validation') #set as validation data  \n",
        "                                                                                                       "
      ],
      "metadata": {
        "colab": {
          "base_uri": "https://localhost:8080/"
        },
        "id": "MY6JZ7hd6Av1",
        "outputId": "17096a8d-1050-462e-af43-132908d2c96a"
      },
      "execution_count": null,
      "outputs": [
        {
          "output_type": "stream",
          "name": "stdout",
          "text": [
            "Found 3074 images belonging to 4 classes.\n",
            "Found 383 images belonging to 4 classes.\n"
          ]
        }
      ]
    },
    {
      "cell_type": "code",
      "source": [
        "train_generator.class_indices"
      ],
      "metadata": {
        "colab": {
          "base_uri": "https://localhost:8080/"
        },
        "id": "B7pvM4_u7G5M",
        "outputId": "ee985e0a-c56b-4f4e-c6c3-94c7acc70448"
      },
      "execution_count": null,
      "outputs": [
        {
          "output_type": "execute_result",
          "data": {
            "text/plain": [
              "{'center': 0, 'closed': 1, 'left': 2, 'right': 3}"
            ]
          },
          "metadata": {},
          "execution_count": 11
        }
      ]
    },
    {
      "cell_type": "code",
      "source": [
        "y_train = train_generator.classes\n",
        "len(y_train)"
      ],
      "metadata": {
        "colab": {
          "base_uri": "https://localhost:8080/"
        },
        "id": "4I40dFfA7cun",
        "outputId": "519515f5-7e81-43dd-8d79-dfce2a448d67"
      },
      "execution_count": null,
      "outputs": [
        {
          "output_type": "execute_result",
          "data": {
            "text/plain": [
              "3074"
            ]
          },
          "metadata": {},
          "execution_count": 12
        }
      ]
    },
    {
      "cell_type": "code",
      "source": [
        "nb_validation_samples = 383"
      ],
      "metadata": {
        "id": "_nzpM0dW7csU"
      },
      "execution_count": null,
      "outputs": []
    },
    {
      "cell_type": "code",
      "source": [
        "dir(train_generator)\n",
        "#type(train_generator.labels)\n",
        "print(train_generator.classes)\n",
        "#y_train = train_generator.classes\n",
        "y_train = train_generator.classes\n",
        "y_train.shape"
      ],
      "metadata": {
        "colab": {
          "base_uri": "https://localhost:8080/"
        },
        "id": "aey14Dqc7cp_",
        "outputId": "d138d7db-e317-4c32-df37-49a55a17332f"
      },
      "execution_count": null,
      "outputs": [
        {
          "output_type": "stream",
          "name": "stdout",
          "text": [
            "[0 0 0 ... 3 3 3]\n"
          ]
        },
        {
          "output_type": "execute_result",
          "data": {
            "text/plain": [
              "(3074,)"
            ]
          },
          "metadata": {},
          "execution_count": 15
        }
      ]
    },
    {
      "cell_type": "code",
      "source": [
        "test_generator = train_datagen.flow_from_directory(test_data_dir,\n",
        "                                                    target_size=(img_height, img_width),\n",
        "                                   \n",
        "                                                   batch_size = 1, \n",
        "                                                    class_mode='categorical')\n",
        "                                                    #subset='validation') #set as testing data"
      ],
      "metadata": {
        "colab": {
          "base_uri": "https://localhost:8080/"
        },
        "id": "GXjhN5kd7cnS",
        "outputId": "59c0ff0a-b08b-44b7-f89d-76a518ba870e"
      },
      "execution_count": null,
      "outputs": [
        {
          "output_type": "stream",
          "name": "stdout",
          "text": [
            "Found 388 images belonging to 4 classes.\n"
          ]
        }
      ]
    },
    {
      "cell_type": "code",
      "source": [
        "x,y = test_generator.next()\n",
        "x.shape"
      ],
      "metadata": {
        "colab": {
          "base_uri": "https://localhost:8080/"
        },
        "id": "GUXGh0zm7chB",
        "outputId": "e0221713-dc89-473d-d6b9-1e5202a22a7c"
      },
      "execution_count": null,
      "outputs": [
        {
          "output_type": "execute_result",
          "data": {
            "text/plain": [
              "(1, 224, 224, 3)"
            ]
          },
          "metadata": {},
          "execution_count": 17
        }
      ]
    },
    {
      "cell_type": "code",
      "source": [
        ""
      ],
      "metadata": {
        "id": "hxp3jCdq7xbE"
      },
      "execution_count": null,
      "outputs": []
    }
  ]
}