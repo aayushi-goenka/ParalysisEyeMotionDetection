{
  "cells": [
    {
      "cell_type": "markdown",
      "metadata": {
        "id": "view-in-github",
        "colab_type": "text"
      },
      "source": [
        "<a href=\"https://colab.research.google.com/github/aayushi-goenka/ParalysisEyeMotionDetection/blob/main/VGG19-cf.ipynb\" target=\"_parent\"><img src=\"https://colab.research.google.com/assets/colab-badge.svg\" alt=\"Open In Colab\"/></a>"
      ]
    },
    {
      "cell_type": "code",
      "execution_count": null,
      "metadata": {
        "id": "t4rJMKwxvjLT"
      },
      "outputs": [],
      "source": [
        "from tensorflow.keras.layers import Conv2D,Flatten,Dense,MaxPool2D,GlobalAveragePooling2D\n",
        "from tensorflow.keras.applications.resnet50 import preprocess_input, decode_predictions\n",
        "from tensorflow.keras.applications.resnet_v2 import preprocess_input, decode_predictions\n",
        "from tensorflow.keras.preprocessing.image import ImageDataGenerator,load_img\n",
        "from tensorflow.keras.applications.vgg19 import VGG19\n",
        "from tensorflow.keras.preprocessing import image\n",
        "from tensorflow.keras.models import Sequential\n",
        "from tensorflow.keras.models import Model\n",
        "import matplotlib.pyplot as plt\n",
        "from tensorflow import keras \n",
        "from sklearn import metrics\n",
        "from sklearn.metrics import roc_curve, auc\n",
        "import sklearn\n",
        "from sklearn.metrics import roc_auc_score\n",
        "from sklearn.tree import DecisionTreeClassifier\n",
        "from sklearn import tree\n",
        "import tensorflow as tf\n",
        "import pandas as pd\n",
        "import numpy as np\n",
        "import os\n",
        "import tensorflow"
      ]
    },
    {
      "cell_type": "code",
      "execution_count": null,
      "metadata": {
        "id": "Z0XYNVe_T9CH"
      },
      "outputs": [],
      "source": [
        ""
      ]
    },
    {
      "cell_type": "code",
      "source": [
        "from google.colab import drive\n",
        "drive.mount('/content/drive')"
      ],
      "metadata": {
        "colab": {
          "base_uri": "https://localhost:8080/"
        },
        "id": "SqOoWAuIVgsJ",
        "outputId": "563ac53a-7bbb-4762-d68b-152989d4ef92"
      },
      "execution_count": null,
      "outputs": [
        {
          "output_type": "stream",
          "name": "stdout",
          "text": [
            "Mounted at /content/drive\n"
          ]
        }
      ]
    },
    {
      "cell_type": "markdown",
      "metadata": {
        "id": "65EkSh00xrrs"
      },
      "source": [
        "EXTRACTION OF PRETRAINED NETWORK FROM KERAS\n"
      ]
    },
    {
      "cell_type": "code",
      "execution_count": null,
      "metadata": {
        "id": "csu2JXTkv2HF"
      },
      "outputs": [],
      "source": [
        "img_height, img_width = (224,224)\n",
        "batch_size = 32\n",
        "IMG_SHAPE = (img_height, img_width, 3)#1ST CHANGE\n",
        "train_data_dir = r\"/content/drive/MyDrive/Augmeny_Trial_output.after.splitting/train\"\n",
        "valid_data_dir = r\"/content/drive/MyDrive/Augmeny_Trial_output.after.splitting/val\"\n",
        "test_data_dir = r\"/content/drive/MyDrive/Augmeny_Trial_output.after.splitting/test\"\n",
        "#test_data_dir = r\"/content/drive/MyDrive/outputfolder/test\"\n",
        "#image.open()"
      ]
    },
    {
      "cell_type": "code",
      "execution_count": null,
      "metadata": {
        "colab": {
          "base_uri": "https://localhost:8080/"
        },
        "id": "wUp4rWgrv49r",
        "outputId": "02e53a77-7476-4e9c-908d-13c222006d7a"
      },
      "outputs": [
        {
          "output_type": "stream",
          "name": "stdout",
          "text": [
            "Found 3074 images belonging to 4 classes.\n",
            "Found 383 images belonging to 4 classes.\n"
          ]
        }
      ],
      "source": [
        "\n",
        "train_datagen = ImageDataGenerator(\n",
        "                                   shear_range=0.2,zoom_range=0.2,\n",
        "                                   horizontal_flip=True,\n",
        "                                   validation_split=0.4)\n",
        "                                   # rescale=1/255)\n",
        "\n",
        "train_generator = train_datagen.flow_from_directory(train_data_dir,\n",
        "                                                    target_size=(img_height, img_width),\n",
        "                                                    batch_size = batch_size, \n",
        "                                                    class_mode='categorical')\n",
        "                                                 #   subset='training')# set as training data\n",
        "\n",
        "valid_generator = train_datagen.flow_from_directory(valid_data_dir,\n",
        "                                                    target_size=(img_height, img_width),\n",
        "                                                    batch_size = batch_size, \n",
        "                                                    class_mode='categorical')\n",
        "                                                    #subset='validation') #set as validation data  \n",
        "                                                                  "
      ]
    },
    {
      "cell_type": "code",
      "execution_count": null,
      "metadata": {
        "colab": {
          "base_uri": "https://localhost:8080/"
        },
        "id": "c-Lr6jGkT9CK",
        "outputId": "ba8bcb5f-6db7-44ae-f65f-dc5ee089f187"
      },
      "outputs": [
        {
          "output_type": "execute_result",
          "data": {
            "text/plain": [
              "{'center': 0, 'closed': 1, 'left': 2, 'right': 3}"
            ]
          },
          "metadata": {},
          "execution_count": 5
        }
      ],
      "source": [
        "train_generator.class_indices"
      ]
    },
    {
      "cell_type": "code",
      "execution_count": null,
      "metadata": {
        "colab": {
          "base_uri": "https://localhost:8080/"
        },
        "id": "THvYiHrdT9CK",
        "outputId": "4aafc64c-bf99-4d51-a7c9-e792720ac489"
      },
      "outputs": [
        {
          "output_type": "execute_result",
          "data": {
            "text/plain": [
              "3074"
            ]
          },
          "metadata": {},
          "execution_count": 6
        }
      ],
      "source": [
        "y_train = train_generator.classes\n",
        "len(y_train)"
      ]
    },
    {
      "cell_type": "code",
      "execution_count": null,
      "metadata": {
        "id": "6MmduzRyzcfg"
      },
      "outputs": [],
      "source": [
        "nb_validation_samples = 399"
      ]
    },
    {
      "cell_type": "code",
      "execution_count": null,
      "metadata": {
        "colab": {
          "base_uri": "https://localhost:8080/"
        },
        "id": "5YngzGFaK_2b",
        "outputId": "e12ebff1-9cbc-4d34-e21f-02bf24b08457"
      },
      "outputs": [
        {
          "output_type": "stream",
          "name": "stdout",
          "text": [
            "[0 0 0 ... 3 3 3]\n"
          ]
        },
        {
          "output_type": "execute_result",
          "data": {
            "text/plain": [
              "(3074,)"
            ]
          },
          "metadata": {},
          "execution_count": 8
        }
      ],
      "source": [
        "dir(train_generator)\n",
        "#type(train_generator.labels)\n",
        "print(train_generator.classes)\n",
        "#y_train = train_generator.classes\n",
        "y_train = train_generator.classes\n",
        "y_train.shape"
      ]
    },
    {
      "cell_type": "code",
      "execution_count": null,
      "metadata": {
        "colab": {
          "base_uri": "https://localhost:8080/"
        },
        "id": "OlH7y6Jlv75r",
        "outputId": "56706562-9ecd-4e85-b39c-718516a376ba"
      },
      "outputs": [
        {
          "output_type": "stream",
          "name": "stdout",
          "text": [
            "Found 388 images belonging to 4 classes.\n"
          ]
        }
      ],
      "source": [
        "test_generator = train_datagen.flow_from_directory(test_data_dir,\n",
        "                                                    target_size=(img_height, img_width),\n",
        "                                   \n",
        "                                                   batch_size = 1, \n",
        "                                                    class_mode='categorical')\n",
        "                                                    #subset='validation') #set as testing data"
      ]
    },
    {
      "cell_type": "code",
      "execution_count": null,
      "metadata": {
        "colab": {
          "base_uri": "https://localhost:8080/"
        },
        "id": "9LH8g1p0v8sH",
        "outputId": "73ad4558-405e-4511-b51e-c55aaf3d3fef"
      },
      "outputs": [
        {
          "output_type": "stream",
          "name": "stdout",
          "text": [
            "(1, 224, 224, 3)\n",
            "(1, 4)\n"
          ]
        }
      ],
      "source": [
        "x,y = test_generator.next()\n",
        "print(x.shape)\n",
        "#print(type(x))\n",
        "#x\n",
        "print(y.shape)"
      ]
    },
    {
      "cell_type": "markdown",
      "metadata": {
        "id": "i3pf_ALNw9Ht"
      },
      "source": [
        "VGG19\n",
        "ARCHITECTURE"
      ]
    },
    {
      "cell_type": "code",
      "execution_count": null,
      "metadata": {
        "id": "fmQSnbOswYOD",
        "colab": {
          "base_uri": "https://localhost:8080/"
        },
        "outputId": "18e7cd70-0f26-417d-a91b-5641d57b101d"
      },
      "outputs": [
        {
          "output_type": "stream",
          "name": "stdout",
          "text": [
            "Downloading data from https://storage.googleapis.com/tensorflow/keras-applications/vgg19/vgg19_weights_tf_dim_ordering_tf_kernels_notop.h5\n",
            "80142336/80134624 [==============================] - 1s 0us/step\n",
            "80150528/80134624 [==============================] - 1s 0us/step\n",
            "Model: \"model\"\n",
            "_________________________________________________________________\n",
            " Layer (type)                Output Shape              Param #   \n",
            "=================================================================\n",
            " input_1 (InputLayer)        [(None, 224, 224, 3)]     0         \n",
            "                                                                 \n",
            " block1_conv1 (Conv2D)       (None, 224, 224, 64)      1792      \n",
            "                                                                 \n",
            " block1_conv2 (Conv2D)       (None, 224, 224, 64)      36928     \n",
            "                                                                 \n",
            " block1_pool (MaxPooling2D)  (None, 112, 112, 64)      0         \n",
            "                                                                 \n",
            " block2_conv1 (Conv2D)       (None, 112, 112, 128)     73856     \n",
            "                                                                 \n",
            " block2_conv2 (Conv2D)       (None, 112, 112, 128)     147584    \n",
            "                                                                 \n",
            " block2_pool (MaxPooling2D)  (None, 56, 56, 128)       0         \n",
            "                                                                 \n",
            " block3_conv1 (Conv2D)       (None, 56, 56, 256)       295168    \n",
            "                                                                 \n",
            " block3_conv2 (Conv2D)       (None, 56, 56, 256)       590080    \n",
            "                                                                 \n",
            " block3_conv3 (Conv2D)       (None, 56, 56, 256)       590080    \n",
            "                                                                 \n",
            " block3_conv4 (Conv2D)       (None, 56, 56, 256)       590080    \n",
            "                                                                 \n",
            " block3_pool (MaxPooling2D)  (None, 28, 28, 256)       0         \n",
            "                                                                 \n",
            " block4_conv1 (Conv2D)       (None, 28, 28, 512)       1180160   \n",
            "                                                                 \n",
            " block4_conv2 (Conv2D)       (None, 28, 28, 512)       2359808   \n",
            "                                                                 \n",
            " block4_conv3 (Conv2D)       (None, 28, 28, 512)       2359808   \n",
            "                                                                 \n",
            " block4_conv4 (Conv2D)       (None, 28, 28, 512)       2359808   \n",
            "                                                                 \n",
            " block4_pool (MaxPooling2D)  (None, 14, 14, 512)       0         \n",
            "                                                                 \n",
            " block5_conv1 (Conv2D)       (None, 14, 14, 512)       2359808   \n",
            "                                                                 \n",
            " block5_conv2 (Conv2D)       (None, 14, 14, 512)       2359808   \n",
            "                                                                 \n",
            " block5_conv3 (Conv2D)       (None, 14, 14, 512)       2359808   \n",
            "                                                                 \n",
            " block5_conv4 (Conv2D)       (None, 14, 14, 512)       2359808   \n",
            "                                                                 \n",
            " block5_pool (MaxPooling2D)  (None, 7, 7, 512)         0         \n",
            "                                                                 \n",
            " global_average_pooling2d (G  (None, 512)              0         \n",
            " lobalAveragePooling2D)                                          \n",
            "                                                                 \n",
            " dense (Dense)               (None, 1024)              525312    \n",
            "                                                                 \n",
            " dense_1 (Dense)             (None, 4)                 4100      \n",
            "                                                                 \n",
            "=================================================================\n",
            "Total params: 20,553,796\n",
            "Trainable params: 529,412\n",
            "Non-trainable params: 20,024,384\n",
            "_________________________________________________________________\n"
          ]
        }
      ],
      "source": [
        "def create_model():\n",
        "\n",
        "  base_model_3 = VGG19(include_top = False, weights='imagenet',input_shape=IMG_SHAPE)#2ND CHANGE\n",
        " \n",
        " #the top layer is false coz we want to classify our own classes\n",
        "#we use weights from imagenet(pre-trained weights) to classify our model\n",
        "  x = base_model_3.output\n",
        "#taking the top layer of Resnet50 and connecting with dense layers\n",
        "  x = GlobalAveragePooling2D()(x)\n",
        "\n",
        "  x = Dense(1024, activation='relu')(x)\n",
        "  predictions = Dense(train_generator.num_classes, activation='softmax')(x)\n",
        "  model = Model(inputs=base_model_3.input, outputs=predictions)\n",
        "\n",
        "  for layer in base_model_3.layers:\n",
        "    layer.trainable = False\n",
        "    \n",
        "  opt = keras.optimizers.Adam(learning_rate=0.0001)#learning rate as 0.01\n",
        "  model.compile(loss='categorical_crossentropy', optimizer=opt,\n",
        "               metrics = ['accuracy','mse'])\n",
        "\n",
        "  #model.compile(optimizer='adam', loss='categorical_crossentropy', \n",
        "            #   metrics = ['accuracy','mse'])\n",
        " # model.fit(train_generator, epochs = 10)\n",
        "  return model\n",
        "\n",
        "model = create_model()\n",
        "model.summary()\n",
        "\n",
        "#plot_model(model, show_layer_names=True, show_shapes =True, to_file='model.png', dpi=350)"
      ]
    },
    {
      "cell_type": "code",
      "execution_count": null,
      "metadata": {
        "id": "6vzPfH-xT9CN"
      },
      "outputs": [],
      "source": [
        ""
      ]
    },
    {
      "cell_type": "code",
      "execution_count": null,
      "metadata": {
        "colab": {
          "base_uri": "https://localhost:8080/"
        },
        "id": "1N9LKP3RIqqr",
        "outputId": "38f85808-4a83-494a-b437-8a79759580c6"
      },
      "outputs": [
        {
          "output_type": "stream",
          "name": "stdout",
          "text": [
            "Epoch 1/50\n",
            "97/97 [==============================] - ETA: 0s - loss: 1.4933 - accuracy: 0.3777 - mse: 0.1945\n",
            "Epoch 1: val_accuracy improved from -inf to 0.43342, saving model to /content/drive/MyDrive/cp-0021.ckpt.data-00000-of-00001\n",
            "97/97 [==============================] - 467s 5s/step - loss: 1.4933 - accuracy: 0.3777 - mse: 0.1945 - val_loss: 1.2429 - val_accuracy: 0.4334 - val_mse: 0.1724 - lr: 1.0000e-04\n",
            "Epoch 2/50\n",
            "97/97 [==============================] - ETA: 0s - loss: 1.0988 - accuracy: 0.5179 - mse: 0.1506\n",
            "Epoch 2: val_accuracy improved from 0.43342 to 0.48042, saving model to /content/drive/MyDrive/cp-0021.ckpt.data-00000-of-00001\n",
            "97/97 [==============================] - 49s 500ms/step - loss: 1.0988 - accuracy: 0.5179 - mse: 0.1506 - val_loss: 1.1648 - val_accuracy: 0.4804 - val_mse: 0.1589 - lr: 1.0000e-04\n",
            "Epoch 3/50\n",
            "97/97 [==============================] - ETA: 0s - loss: 0.9802 - accuracy: 0.5774 - mse: 0.1350\n",
            "Epoch 3: val_accuracy improved from 0.48042 to 0.53786, saving model to /content/drive/MyDrive/cp-0021.ckpt.data-00000-of-00001\n",
            "97/97 [==============================] - 48s 493ms/step - loss: 0.9802 - accuracy: 0.5774 - mse: 0.1350 - val_loss: 1.0508 - val_accuracy: 0.5379 - val_mse: 0.1423 - lr: 1.0000e-04\n",
            "Epoch 4/50\n",
            "97/97 [==============================] - ETA: 0s - loss: 0.9333 - accuracy: 0.5956 - mse: 0.1285\n",
            "Epoch 4: val_accuracy improved from 0.53786 to 0.57441, saving model to /content/drive/MyDrive/cp-0021.ckpt.data-00000-of-00001\n",
            "97/97 [==============================] - 48s 493ms/step - loss: 0.9333 - accuracy: 0.5956 - mse: 0.1285 - val_loss: 0.9616 - val_accuracy: 0.5744 - val_mse: 0.1322 - lr: 1.0000e-04\n",
            "Epoch 5/50\n",
            "96/97 [============================>.] - ETA: 0s - loss: 0.8453 - accuracy: 0.6452 - mse: 0.1167\n",
            "Epoch 5: val_accuracy improved from 0.57441 to 0.59269, saving model to /content/drive/MyDrive/cp-0021.ckpt.data-00000-of-00001\n",
            "97/97 [==============================] - 49s 504ms/step - loss: 0.8452 - accuracy: 0.6451 - mse: 0.1167 - val_loss: 0.8910 - val_accuracy: 0.5927 - val_mse: 0.1237 - lr: 1.0000e-04\n",
            "Epoch 6/50\n",
            "97/97 [==============================] - ETA: 0s - loss: 0.7975 - accuracy: 0.6640 - mse: 0.1112\n",
            "Epoch 6: val_accuracy did not improve from 0.59269\n",
            "97/97 [==============================] - 48s 496ms/step - loss: 0.7975 - accuracy: 0.6640 - mse: 0.1112 - val_loss: 1.0356 - val_accuracy: 0.5561 - val_mse: 0.1449 - lr: 1.0000e-04\n",
            "Epoch 7/50\n",
            "97/97 [==============================] - ETA: 0s - loss: 0.7751 - accuracy: 0.6766 - mse: 0.1069\n",
            "Epoch 7: val_accuracy improved from 0.59269 to 0.61619, saving model to /content/drive/MyDrive/cp-0021.ckpt.data-00000-of-00001\n",
            "97/97 [==============================] - 48s 489ms/step - loss: 0.7751 - accuracy: 0.6766 - mse: 0.1069 - val_loss: 0.9023 - val_accuracy: 0.6162 - val_mse: 0.1265 - lr: 1.0000e-04\n",
            "Epoch 8/50\n",
            "97/97 [==============================] - ETA: 0s - loss: 0.7242 - accuracy: 0.6942 - mse: 0.1008\n",
            "Epoch 8: val_accuracy did not improve from 0.61619\n",
            "97/97 [==============================] - 47s 488ms/step - loss: 0.7242 - accuracy: 0.6942 - mse: 0.1008 - val_loss: 0.8560 - val_accuracy: 0.6031 - val_mse: 0.1218 - lr: 1.0000e-04\n",
            "Epoch 9/50\n",
            "97/97 [==============================] - ETA: 0s - loss: 0.7158 - accuracy: 0.7085 - mse: 0.0983\n",
            "Epoch 9: val_accuracy improved from 0.61619 to 0.62402, saving model to /content/drive/MyDrive/cp-0021.ckpt.data-00000-of-00001\n",
            "97/97 [==============================] - 47s 488ms/step - loss: 0.7158 - accuracy: 0.7085 - mse: 0.0983 - val_loss: 0.8508 - val_accuracy: 0.6240 - val_mse: 0.1194 - lr: 1.0000e-04\n",
            "Epoch 10/50\n",
            "97/97 [==============================] - ETA: 0s - loss: 0.6974 - accuracy: 0.7160 - mse: 0.0955\n",
            "Epoch 10: val_accuracy improved from 0.62402 to 0.63185, saving model to /content/drive/MyDrive/cp-0021.ckpt.data-00000-of-00001\n",
            "97/97 [==============================] - 48s 491ms/step - loss: 0.6974 - accuracy: 0.7160 - mse: 0.0955 - val_loss: 0.8850 - val_accuracy: 0.6319 - val_mse: 0.1239 - lr: 1.0000e-04\n",
            "Epoch 11/50\n",
            "97/97 [==============================] - ETA: 0s - loss: 0.6778 - accuracy: 0.7232 - mse: 0.0936\n",
            "Epoch 11: val_accuracy improved from 0.63185 to 0.64230, saving model to /content/drive/MyDrive/cp-0021.ckpt.data-00000-of-00001\n",
            "97/97 [==============================] - 49s 501ms/step - loss: 0.6778 - accuracy: 0.7232 - mse: 0.0936 - val_loss: 0.8035 - val_accuracy: 0.6423 - val_mse: 0.1137 - lr: 1.0000e-04\n",
            "Epoch 12/50\n",
            "97/97 [==============================] - ETA: 0s - loss: 0.6367 - accuracy: 0.7398 - mse: 0.0875\n",
            "Epoch 12: val_accuracy did not improve from 0.64230\n",
            "97/97 [==============================] - 48s 494ms/step - loss: 0.6367 - accuracy: 0.7398 - mse: 0.0875 - val_loss: 0.8497 - val_accuracy: 0.6240 - val_mse: 0.1179 - lr: 1.0000e-04\n",
            "Epoch 13/50\n",
            "97/97 [==============================] - ETA: 0s - loss: 0.6209 - accuracy: 0.7528 - mse: 0.0856\n",
            "Epoch 13: val_accuracy improved from 0.64230 to 0.66841, saving model to /content/drive/MyDrive/cp-0021.ckpt.data-00000-of-00001\n",
            "97/97 [==============================] - 48s 497ms/step - loss: 0.6209 - accuracy: 0.7528 - mse: 0.0856 - val_loss: 0.7711 - val_accuracy: 0.6684 - val_mse: 0.1096 - lr: 1.0000e-04\n",
            "Epoch 14/50\n",
            "97/97 [==============================] - ETA: 0s - loss: 0.6191 - accuracy: 0.7602 - mse: 0.0845\n",
            "Epoch 14: val_accuracy did not improve from 0.66841\n",
            "97/97 [==============================] - 48s 495ms/step - loss: 0.6191 - accuracy: 0.7602 - mse: 0.0845 - val_loss: 0.8179 - val_accuracy: 0.6632 - val_mse: 0.1125 - lr: 1.0000e-04\n",
            "Epoch 15/50\n",
            "97/97 [==============================] - ETA: 0s - loss: 0.6070 - accuracy: 0.7596 - mse: 0.0834\n",
            "Epoch 15: val_accuracy did not improve from 0.66841\n",
            "97/97 [==============================] - 48s 494ms/step - loss: 0.6070 - accuracy: 0.7596 - mse: 0.0834 - val_loss: 0.7541 - val_accuracy: 0.6606 - val_mse: 0.1077 - lr: 1.0000e-04\n",
            "Epoch 16/50\n",
            "97/97 [==============================] - ETA: 0s - loss: 0.5570 - accuracy: 0.7902 - mse: 0.0752\n",
            "Epoch 16: val_accuracy improved from 0.66841 to 0.67624, saving model to /content/drive/MyDrive/cp-0021.ckpt.data-00000-of-00001\n",
            "97/97 [==============================] - 48s 498ms/step - loss: 0.5570 - accuracy: 0.7902 - mse: 0.0752 - val_loss: 0.7220 - val_accuracy: 0.6762 - val_mse: 0.1024 - lr: 2.0000e-05\n",
            "Epoch 17/50\n",
            "97/97 [==============================] - ETA: 0s - loss: 0.5535 - accuracy: 0.7895 - mse: 0.0750\n",
            "Epoch 17: val_accuracy did not improve from 0.67624\n",
            "97/97 [==============================] - 48s 497ms/step - loss: 0.5535 - accuracy: 0.7895 - mse: 0.0750 - val_loss: 0.7353 - val_accuracy: 0.6658 - val_mse: 0.1041 - lr: 2.0000e-05\n",
            "Epoch 18/50\n",
            "97/97 [==============================] - ETA: 0s - loss: 0.5324 - accuracy: 0.8022 - mse: 0.0715\n",
            "Epoch 18: val_accuracy improved from 0.67624 to 0.69974, saving model to /content/drive/MyDrive/cp-0021.ckpt.data-00000-of-00001\n",
            "97/97 [==============================] - 50s 519ms/step - loss: 0.5324 - accuracy: 0.8022 - mse: 0.0715 - val_loss: 0.7476 - val_accuracy: 0.6997 - val_mse: 0.1047 - lr: 2.0000e-05\n",
            "Epoch 19/50\n",
            "97/97 [==============================] - ETA: 0s - loss: 0.5367 - accuracy: 0.8042 - mse: 0.0722\n",
            "Epoch 19: val_accuracy did not improve from 0.69974\n",
            "97/97 [==============================] - 49s 503ms/step - loss: 0.5367 - accuracy: 0.8042 - mse: 0.0722 - val_loss: 0.7586 - val_accuracy: 0.6658 - val_mse: 0.1081 - lr: 2.0000e-05\n",
            "Epoch 20/50\n",
            "97/97 [==============================] - ETA: 0s - loss: 0.5269 - accuracy: 0.8100 - mse: 0.0709\n",
            "Epoch 20: val_accuracy did not improve from 0.69974\n",
            "97/97 [==============================] - 48s 499ms/step - loss: 0.5269 - accuracy: 0.8100 - mse: 0.0709 - val_loss: 0.7433 - val_accuracy: 0.6789 - val_mse: 0.1058 - lr: 2.0000e-05\n",
            "Epoch 21/50\n",
            "97/97 [==============================] - ETA: 0s - loss: 0.5255 - accuracy: 0.8048 - mse: 0.0706\n",
            "Epoch 21: val_accuracy improved from 0.69974 to 0.70757, saving model to /content/drive/MyDrive/cp-0021.ckpt.data-00000-of-00001\n",
            "97/97 [==============================] - 49s 502ms/step - loss: 0.5255 - accuracy: 0.8048 - mse: 0.0706 - val_loss: 0.7132 - val_accuracy: 0.7076 - val_mse: 0.0988 - lr: 1.0000e-05\n",
            "Epoch 22/50\n",
            "97/97 [==============================] - ETA: 0s - loss: 0.5139 - accuracy: 0.8116 - mse: 0.0687\n",
            "Epoch 22: val_accuracy improved from 0.70757 to 0.71279, saving model to /content/drive/MyDrive/cp-0021.ckpt.data-00000-of-00001\n",
            "97/97 [==============================] - 49s 503ms/step - loss: 0.5139 - accuracy: 0.8116 - mse: 0.0687 - val_loss: 0.7363 - val_accuracy: 0.7128 - val_mse: 0.1024 - lr: 1.0000e-05\n",
            "Epoch 23/50\n",
            "97/97 [==============================] - ETA: 0s - loss: 0.5259 - accuracy: 0.8113 - mse: 0.0707\n",
            "Epoch 23: val_accuracy did not improve from 0.71279\n",
            "97/97 [==============================] - 48s 497ms/step - loss: 0.5259 - accuracy: 0.8113 - mse: 0.0707 - val_loss: 0.7528 - val_accuracy: 0.6997 - val_mse: 0.1048 - lr: 1.0000e-05\n",
            "Epoch 24/50\n",
            "97/97 [==============================] - ETA: 0s - loss: 0.5158 - accuracy: 0.8185 - mse: 0.0691\n",
            "Epoch 24: val_accuracy did not improve from 0.71279\n",
            "97/97 [==============================] - 50s 513ms/step - loss: 0.5158 - accuracy: 0.8185 - mse: 0.0691 - val_loss: 0.7374 - val_accuracy: 0.6945 - val_mse: 0.1015 - lr: 1.0000e-05\n",
            "Epoch 25/50\n",
            "97/97 [==============================] - ETA: 0s - loss: 0.5120 - accuracy: 0.8110 - mse: 0.0690\n",
            "Epoch 25: val_accuracy did not improve from 0.71279\n",
            "97/97 [==============================] - 48s 495ms/step - loss: 0.5120 - accuracy: 0.8110 - mse: 0.0690 - val_loss: 0.7435 - val_accuracy: 0.6945 - val_mse: 0.1025 - lr: 1.0000e-05\n",
            "Epoch 26/50\n",
            "97/97 [==============================] - ETA: 0s - loss: 0.5155 - accuracy: 0.8058 - mse: 0.0697\n",
            "Epoch 26: val_accuracy did not improve from 0.71279\n",
            "97/97 [==============================] - 48s 494ms/step - loss: 0.5155 - accuracy: 0.8058 - mse: 0.0697 - val_loss: 0.7218 - val_accuracy: 0.6997 - val_mse: 0.1004 - lr: 1.0000e-05\n",
            "Epoch 27/50\n",
            "97/97 [==============================] - ETA: 0s - loss: 0.5206 - accuracy: 0.8090 - mse: 0.0701\n",
            "Epoch 27: val_accuracy did not improve from 0.71279\n",
            "97/97 [==============================] - 48s 494ms/step - loss: 0.5206 - accuracy: 0.8090 - mse: 0.0701 - val_loss: 0.7117 - val_accuracy: 0.7076 - val_mse: 0.0995 - lr: 1.0000e-05\n",
            "Epoch 28/50\n",
            "97/97 [==============================] - ETA: 0s - loss: 0.5114 - accuracy: 0.8074 - mse: 0.0686\n",
            "Epoch 28: val_accuracy did not improve from 0.71279\n",
            "97/97 [==============================] - 48s 495ms/step - loss: 0.5114 - accuracy: 0.8074 - mse: 0.0686 - val_loss: 0.7333 - val_accuracy: 0.7050 - val_mse: 0.1024 - lr: 1.0000e-05\n",
            "Epoch 29/50\n",
            "97/97 [==============================] - ETA: 0s - loss: 0.5066 - accuracy: 0.8159 - mse: 0.0680\n",
            "Epoch 29: val_accuracy did not improve from 0.71279\n",
            "97/97 [==============================] - 48s 496ms/step - loss: 0.5066 - accuracy: 0.8159 - mse: 0.0680 - val_loss: 0.6995 - val_accuracy: 0.6945 - val_mse: 0.0988 - lr: 1.0000e-05\n",
            "Epoch 30/50\n",
            "97/97 [==============================] - ETA: 0s - loss: 0.5077 - accuracy: 0.8178 - mse: 0.0678\n",
            "Epoch 30: val_accuracy did not improve from 0.71279\n",
            "97/97 [==============================] - 48s 496ms/step - loss: 0.5077 - accuracy: 0.8178 - mse: 0.0678 - val_loss: 0.7166 - val_accuracy: 0.7076 - val_mse: 0.1010 - lr: 1.0000e-05\n",
            "Epoch 31/50\n",
            "97/97 [==============================] - ETA: 0s - loss: 0.4989 - accuracy: 0.8289 - mse: 0.0666\n",
            "Epoch 31: val_accuracy did not improve from 0.71279\n",
            "97/97 [==============================] - 50s 512ms/step - loss: 0.4989 - accuracy: 0.8289 - mse: 0.0666 - val_loss: 0.7190 - val_accuracy: 0.7023 - val_mse: 0.1017 - lr: 1.0000e-05\n",
            "Epoch 32/50\n",
            "97/97 [==============================] - ETA: 0s - loss: 0.5256 - accuracy: 0.8064 - mse: 0.0704\n",
            "Epoch 32: val_accuracy did not improve from 0.71279\n",
            "97/97 [==============================] - 48s 495ms/step - loss: 0.5256 - accuracy: 0.8064 - mse: 0.0704 - val_loss: 0.7120 - val_accuracy: 0.6893 - val_mse: 0.0985 - lr: 1.0000e-05\n",
            "Epoch 33/50\n",
            "97/97 [==============================] - ETA: 0s - loss: 0.5081 - accuracy: 0.8211 - mse: 0.0680\n",
            "Epoch 33: val_accuracy did not improve from 0.71279\n",
            "97/97 [==============================] - 48s 495ms/step - loss: 0.5081 - accuracy: 0.8211 - mse: 0.0680 - val_loss: 0.7123 - val_accuracy: 0.7023 - val_mse: 0.1013 - lr: 1.0000e-05\n",
            "Epoch 34/50\n",
            "97/97 [==============================] - ETA: 0s - loss: 0.5022 - accuracy: 0.8224 - mse: 0.0673\n",
            "Epoch 34: val_accuracy did not improve from 0.71279\n",
            "97/97 [==============================] - 48s 495ms/step - loss: 0.5022 - accuracy: 0.8224 - mse: 0.0673 - val_loss: 0.7484 - val_accuracy: 0.6815 - val_mse: 0.1041 - lr: 1.0000e-05\n",
            "Epoch 35/50\n",
            "97/97 [==============================] - ETA: 0s - loss: 0.5012 - accuracy: 0.8178 - mse: 0.0669\n",
            "Epoch 35: val_accuracy did not improve from 0.71279\n",
            "97/97 [==============================] - 48s 496ms/step - loss: 0.5012 - accuracy: 0.8178 - mse: 0.0669 - val_loss: 0.7029 - val_accuracy: 0.7076 - val_mse: 0.0972 - lr: 1.0000e-05\n",
            "Epoch 36/50\n",
            "97/97 [==============================] - ETA: 0s - loss: 0.4948 - accuracy: 0.8227 - mse: 0.0657\n",
            "Epoch 36: val_accuracy did not improve from 0.71279\n",
            "97/97 [==============================] - 48s 494ms/step - loss: 0.4948 - accuracy: 0.8227 - mse: 0.0657 - val_loss: 0.7082 - val_accuracy: 0.7023 - val_mse: 0.0988 - lr: 1.0000e-05\n",
            "Epoch 37/50\n",
            "97/97 [==============================] - ETA: 0s - loss: 0.4958 - accuracy: 0.8208 - mse: 0.0664\n",
            "Epoch 37: val_accuracy did not improve from 0.71279\n",
            "97/97 [==============================] - 49s 501ms/step - loss: 0.4958 - accuracy: 0.8208 - mse: 0.0664 - val_loss: 0.7376 - val_accuracy: 0.6815 - val_mse: 0.1015 - lr: 1.0000e-05\n",
            "Epoch 38/50\n",
            "97/97 [==============================] - ETA: 0s - loss: 0.4960 - accuracy: 0.8165 - mse: 0.0668\n",
            "Epoch 38: val_accuracy did not improve from 0.71279\n",
            "97/97 [==============================] - 49s 505ms/step - loss: 0.4960 - accuracy: 0.8165 - mse: 0.0668 - val_loss: 0.7295 - val_accuracy: 0.6945 - val_mse: 0.1028 - lr: 1.0000e-05\n",
            "Epoch 39/50\n",
            "97/97 [==============================] - ETA: 0s - loss: 0.4956 - accuracy: 0.8198 - mse: 0.0664\n",
            "Epoch 39: val_accuracy did not improve from 0.71279\n",
            "97/97 [==============================] - 48s 494ms/step - loss: 0.4956 - accuracy: 0.8198 - mse: 0.0664 - val_loss: 0.6998 - val_accuracy: 0.7128 - val_mse: 0.0982 - lr: 1.0000e-05\n",
            "Epoch 40/50\n",
            "97/97 [==============================] - ETA: 0s - loss: 0.4914 - accuracy: 0.8208 - mse: 0.0658\n",
            "Epoch 40: val_accuracy did not improve from 0.71279\n",
            "97/97 [==============================] - 48s 493ms/step - loss: 0.4914 - accuracy: 0.8208 - mse: 0.0658 - val_loss: 0.7586 - val_accuracy: 0.6971 - val_mse: 0.1043 - lr: 1.0000e-05\n",
            "Epoch 41/50\n",
            "97/97 [==============================] - ETA: 0s - loss: 0.4985 - accuracy: 0.8224 - mse: 0.0669\n",
            "Epoch 41: val_accuracy did not improve from 0.71279\n",
            "97/97 [==============================] - 48s 495ms/step - loss: 0.4985 - accuracy: 0.8224 - mse: 0.0669 - val_loss: 0.7169 - val_accuracy: 0.7023 - val_mse: 0.1003 - lr: 1.0000e-05\n",
            "Epoch 42/50\n",
            "96/97 [============================>.] - ETA: 0s - loss: 0.4903 - accuracy: 0.8242 - mse: 0.0656\n",
            "Epoch 42: val_accuracy did not improve from 0.71279\n",
            "97/97 [==============================] - 48s 493ms/step - loss: 0.4901 - accuracy: 0.8243 - mse: 0.0656 - val_loss: 0.7228 - val_accuracy: 0.6971 - val_mse: 0.0998 - lr: 1.0000e-05\n",
            "Epoch 43/50\n",
            "97/97 [==============================] - ETA: 0s - loss: 0.4858 - accuracy: 0.8334 - mse: 0.0642\n",
            "Epoch 43: val_accuracy did not improve from 0.71279\n",
            "97/97 [==============================] - 48s 498ms/step - loss: 0.4858 - accuracy: 0.8334 - mse: 0.0642 - val_loss: 0.6853 - val_accuracy: 0.7076 - val_mse: 0.0958 - lr: 1.0000e-05\n",
            "Epoch 44/50\n",
            "97/97 [==============================] - ETA: 0s - loss: 0.4806 - accuracy: 0.8338 - mse: 0.0637\n",
            "Epoch 44: val_accuracy improved from 0.71279 to 0.72063, saving model to /content/drive/MyDrive/cp-0021.ckpt.data-00000-of-00001\n",
            "97/97 [==============================] - 50s 510ms/step - loss: 0.4806 - accuracy: 0.8338 - mse: 0.0637 - val_loss: 0.6838 - val_accuracy: 0.7206 - val_mse: 0.0961 - lr: 1.0000e-05\n",
            "Epoch 45/50\n",
            "97/97 [==============================] - ETA: 0s - loss: 0.4831 - accuracy: 0.8334 - mse: 0.0642\n",
            "Epoch 45: val_accuracy did not improve from 0.72063\n",
            "97/97 [==============================] - 48s 495ms/step - loss: 0.4831 - accuracy: 0.8334 - mse: 0.0642 - val_loss: 0.6976 - val_accuracy: 0.7050 - val_mse: 0.0980 - lr: 1.0000e-05\n",
            "Epoch 46/50\n",
            "97/97 [==============================] - ETA: 0s - loss: 0.4801 - accuracy: 0.8260 - mse: 0.0644\n",
            "Epoch 46: val_accuracy did not improve from 0.72063\n",
            "97/97 [==============================] - 48s 494ms/step - loss: 0.4801 - accuracy: 0.8260 - mse: 0.0644 - val_loss: 0.7131 - val_accuracy: 0.6841 - val_mse: 0.1016 - lr: 1.0000e-05\n",
            "Epoch 47/50\n",
            "97/97 [==============================] - ETA: 0s - loss: 0.4902 - accuracy: 0.8273 - mse: 0.0656\n",
            "Epoch 47: val_accuracy did not improve from 0.72063\n",
            "97/97 [==============================] - 48s 495ms/step - loss: 0.4902 - accuracy: 0.8273 - mse: 0.0656 - val_loss: 0.7309 - val_accuracy: 0.6893 - val_mse: 0.1031 - lr: 1.0000e-05\n",
            "Epoch 48/50\n",
            "97/97 [==============================] - ETA: 0s - loss: 0.4793 - accuracy: 0.8321 - mse: 0.0638\n",
            "Epoch 48: val_accuracy did not improve from 0.72063\n",
            "97/97 [==============================] - 48s 494ms/step - loss: 0.4793 - accuracy: 0.8321 - mse: 0.0638 - val_loss: 0.6985 - val_accuracy: 0.7206 - val_mse: 0.0964 - lr: 1.0000e-05\n",
            "Epoch 49/50\n",
            "97/97 [==============================] - ETA: 0s - loss: 0.4835 - accuracy: 0.8328 - mse: 0.0641\n",
            "Epoch 49: val_accuracy did not improve from 0.72063\n",
            "97/97 [==============================] - 48s 499ms/step - loss: 0.4835 - accuracy: 0.8328 - mse: 0.0641 - val_loss: 0.7479 - val_accuracy: 0.6684 - val_mse: 0.1060 - lr: 1.0000e-05\n",
            "Epoch 50/50\n",
            "97/97 [==============================] - ETA: 0s - loss: 0.4797 - accuracy: 0.8253 - mse: 0.0643\n",
            "Epoch 50: val_accuracy did not improve from 0.72063\n",
            "97/97 [==============================] - 49s 506ms/step - loss: 0.4797 - accuracy: 0.8253 - mse: 0.0643 - val_loss: 0.6876 - val_accuracy: 0.7076 - val_mse: 0.0958 - lr: 1.0000e-05\n"
          ]
        }
      ],
      "source": [
        "# 50 epochs for VGG19 model\n",
        "from tensorflow.keras.callbacks import ModelCheckpoint, EarlyStopping, ReduceLROnPlateau, CSVLogger\n",
        "\n",
        "#checkpointing\n",
        "checkpoint_path = \"/content/drive/MyDrive/cp-0021.ckpt.data-00000-of-00001\"\n",
        "# checkpoint_path = \"C:/Users/user/Desktop/vcg/cp-0021.ckpt.data-00000-of-00001\"\n",
        "checkpoint_dir = os.path.dirname(checkpoint_path)\n",
        "\n",
        "#Create a callback that saves the model's weights\n",
        "cp_callback = tensorflow.keras.callbacks.ModelCheckpoint(monitor = 'val_accuracy',\n",
        "   filepath=checkpoint_path, \n",
        "    verbose=1,\n",
        "    save_weights_only=True,\n",
        "    #save_freq=5*batch_size,\n",
        "     save_best_only = True,                                                    \n",
        "      mode='max')\n",
        "\n",
        "\n",
        "#Reduce learning rate when a metric has stopped improving.\n",
        "# Models often benefit \n",
        "#from reducing the learning rate by a factor of 2-10\n",
        "reduce_lr = ReduceLROnPlateau(monitor='val_accuracy', \n",
        "                              factor=0.2, patience=2, min_lr=0.00001)\n",
        "\n",
        "\n",
        "\n",
        "# Save the weights using the `checkpoint_path` format\n",
        "model.save_weights(checkpoint_path.format(epoch=0))\n",
        "\n",
        "# Train the model with the new callback\n",
        "model_history = model.fit(train_generator, epochs = 50,callbacks=[cp_callback, reduce_lr],\n",
        "                          validation_data=valid_generator,\n",
        "    validation_steps=nb_validation_samples // batch_size)\n",
        "           # Pass callback to training\n",
        "    "
      ]
    },
    {
      "cell_type": "code",
      "execution_count": null,
      "metadata": {
        "id": "I3BRVhcfT9CO"
      },
      "outputs": [],
      "source": [
        "model.save('/content/drive/MyDrive/Colab Notebooks/vgg19.h5')\n",
        "model_1 = tensorflow.keras.models.load_model('/content/drive/MyDrive/Colab Notebooks/vgg19.h5')"
      ]
    },
    {
      "cell_type": "code",
      "execution_count": null,
      "metadata": {
        "colab": {
          "base_uri": "https://localhost:8080/",
          "height": 236
        },
        "id": "ZvBu7XKbT9CO",
        "outputId": "e0abb0ee-78f8-4be5-83e2-fb80fbf72968"
      },
      "outputs": [
        {
          "output_type": "display_data",
          "data": {
            "text/plain": [
              "<Figure size 720x360 with 2 Axes>"
            ],
            "image/png": "[encoded data removed]"
          },
          "metadata": {
            "needs_background": "light"
          }
        },
        {
          "output_type": "display_data",
          "data": {
            "text/plain": [
              "<Figure size 432x288 with 0 Axes>"
            ]
          },
          "metadata": {}
        },
        {
          "output_type": "display_data",
          "data": {
            "text/plain": [
              "<Figure size 432x288 with 0 Axes>"
            ]
          },
          "metadata": {}
        }
      ],
      "source": [
        "def plot_accuracy_loss(history):\n",
        "    \n",
        "    fig = plt.figure(figsize=(10,5))\n",
        "\n",
        "    plt.subplot(221)\n",
        "    #plt.plot(history.history['accuracy'],'bo--', label = \"train_acc\")\n",
        "    plt.plot(history.history['accuracy'],marker = ',',ms = 10, label = \"train_acc\")\n",
        "    plt.plot(history.history['val_accuracy'], marker = ',', label = \"val_acc\")\n",
        "    plt.title(\"(train_acc & val_acc) vs epoch\")\n",
        "    plt.ylabel(\"accuracy\")\n",
        "    plt.xlabel(\"epochs\")\n",
        "    plt.legend()\n",
        "\n",
        "    plt.subplot(222)\n",
        "    plt.plot(history.history['loss'],marker= ',', label = \"train_loss\")\n",
        "    plt.plot(history.history['val_loss'], marker=',' , label = \"val_loss\")\n",
        "    plt.title(\"(train_loss & val_loss) vs epoch\")\n",
        "    plt.ylabel(\"loss\")\n",
        "    plt.xlabel(\"epochs\")\n",
        "\n",
        "    plt.legend()\n",
        "    f = plt.figure()\n",
        "    plt.show()\n",
        "  \n",
        "\n",
        "\n",
        "plot_accuracy_loss(model_history)\n",
        "f = plt.figure()\n",
        "f.savefig('C:/Users/user/Desktop/vcg/', bbox_inches='tight', dpi=600)"
      ]
    },
    {
      "cell_type": "code",
      "execution_count": null,
      "metadata": {
        "id": "5zCJobWKT9CP"
      },
      "outputs": [],
      "source": [
        "#model _1 = tensorflow.keras.models.load_model('ResNet50_100_epochs.h5')"
      ]
    },
    {
      "cell_type": "code",
      "execution_count": null,
      "metadata": {
        "id": "y6dj7ILfHTCS",
        "colab": {
          "base_uri": "https://localhost:8080/",
          "height": 296
        },
        "outputId": "b33560b8-0c7c-4a47-8063-4eebf081426e"
      },
      "outputs": [
        {
          "output_type": "display_data",
          "data": {
            "text/plain": [
              "<Figure size 432x288 with 2 Axes>"
            ],
            "image/png": "[encoded data removed]"
          },
          "metadata": {
            "needs_background": "light"
          }
        },
        {
          "output_type": "stream",
          "name": "stdout",
          "text": [
            "test accuracy: 74.48453608247422\n"
          ]
        }
      ],
      "source": [
        "#to plot confusion matrix for 100 epochs\n",
        "import pandas as pd\n",
        "import seaborn as sn\n",
        "import tensorflow as tf\n",
        "\n",
        "#model = tf.keras.models.load_model(\"Reflection_dataset\\Saved_Model\\Mobilenet_reflection.h5\")\n",
        "model = model_1\n",
        "filenames = test_generator.filenames\n",
        "nb_samples = len(test_generator)\n",
        "y_prob=[]\n",
        "y_act=[]\n",
        "test_generator.reset()\n",
        "for _ in range(nb_samples):\n",
        "  X_test,Y_test = test_generator.next()\n",
        "  y_prob.append(model.predict(X_test))\n",
        "  y_act.append(Y_test)\n",
        "\n",
        "predicted_class = [list(train_generator.class_indices.keys())[i.argmax()]for i in y_prob]\n",
        "actual_class = [list(train_generator.class_indices.keys())[i.argmax()]for i in y_act]\n",
        "\n",
        "out_df = pd.DataFrame(np.vstack([predicted_class,actual_class]).T,columns = ['predicted_class','actual_class'])\n",
        "confusion_matrix = pd.crosstab(out_df['actual_class'],out_df['predicted_class'], rownames=['Actual'], colnames=['Predicted'])\n",
        "sn.heatmap(confusion_matrix,cmap=\"YlGnBu\", annot = True,fmt='d')\n",
        "plt.show()\n",
        "print('test accuracy: {}'.format((np.diagonal(confusion_matrix).sum()/confusion_matrix.sum().sum()*100)))"
      ]
    },
    {
      "cell_type": "code",
      "execution_count": null,
      "metadata": {
        "colab": {
          "base_uri": "https://localhost:8080/"
        },
        "id": "GdGRWoI6T9CP",
        "outputId": "ee7bf82c-8693-4396-be55-47f5f17590db"
      },
      "outputs": [
        {
          "output_type": "execute_result",
          "data": {
            "text/plain": [
              "['center', 'closed', 'left', 'right']"
            ]
          },
          "metadata": {},
          "execution_count": 24
        }
      ],
      "source": [
        "target = []\n",
        "for x in train_generator.class_indices.keys():\n",
        "  target.append(x)\n",
        "\n",
        "target"
      ]
    },
    {
      "cell_type": "code",
      "execution_count": null,
      "metadata": {
        "colab": {
          "base_uri": "https://localhost:8080/",
          "height": 514
        },
        "id": "8r12MfNRT9CQ",
        "outputId": "3e2c82c0-6577-43cc-a614-3e268b279590"
      },
      "outputs": [
        {
          "output_type": "stream",
          "name": "stdout",
          "text": [
            "ROC AUC score: 0.8325797228755446\n"
          ]
        },
        {
          "output_type": "display_data",
          "data": {
            "text/plain": [
              "<Figure size 864x576 with 1 Axes>"
            ],
            "image/png": "[encoded data removed]"
          },
          "metadata": {
            "needs_background": "light"
          }
        }
      ],
      "source": [
        "import matplotlib.pyplot as plt \n",
        "from sklearn.preprocessing import LabelBinarizer\n",
        "from sklearn.metrics import roc_curve, auc, roc_auc_score\n",
        "\n",
        "\n",
        "#target= ['airplane', 'automobile', 'bird', 'cat', 'deer',\n",
        "   #       'dog', 'frog', 'horse', 'ship', 'truck']\n",
        "\n",
        "# set plot figure size\n",
        "fig, c_ax = plt.subplots(1,1, figsize = (12, 8))\n",
        "\n",
        "# function for scoring roc auc score for multi-class\n",
        "def multiclass_roc_auc_score(y_test, ypred, average=\"weighted\"):\n",
        "    lb = LabelBinarizer()\n",
        "    lb.fit(y_test)\n",
        "    y_test = lb.transform(y_test)\n",
        "    ypred = lb.transform(ypred)\n",
        "\n",
        "    for (idx, c_label) in enumerate(target):\n",
        "        fpr, tpr, thresholds = roc_curve(y_test[:,idx].astype(int), ypred[:,idx])\n",
        "        c_ax.plot(fpr, tpr, label = '%s (AUC:%0.2f)'  % (c_label, auc(fpr, tpr)))\n",
        "    c_ax.plot(fpr, fpr, 'b-', label = 'Random Guessing')\n",
        "    return roc_auc_score(y_test, ypred, average=average)\n",
        "\n",
        "\n",
        "print('ROC AUC score:', multiclass_roc_auc_score(predicted_class, actual_class))\n",
        "\n",
        "c_ax.legend()\n",
        "c_ax.set_xlabel('False Positive Rate')\n",
        "c_ax.set_ylabel('True Positive Rate')\n",
        "plt.show()"
      ]
    },
    {
      "cell_type": "code",
      "execution_count": null,
      "metadata": {
        "id": "nHlW9NujT9CQ"
      },
      "outputs": [],
      "source": [
        "model_1 = tf.keras.models.load_model('/content/drive/MyDrive/Colab Notebooks/vgg19.h5')"
      ]
    },
    {
      "cell_type": "markdown",
      "metadata": {
        "id": "8cN2h-DRHBYD"
      },
      "source": [
        ""
      ]
    },
    {
      "cell_type": "code",
      "source": [
        "# finetuning\n",
        "for layer in model_1.layers:\n",
        "    layer.trainable = True\n",
        "    print(\"number of layers in model_1:\", len(model_1.layers))\n",
        "    fine_tune_at = 17\n",
        "for layer in model_1.layers[:fine_tune_at]:\n",
        "    layer.trainable = False\n",
        "\n",
        "opt = keras.optimizers.Adam(learning_rate=0.0001)#learning rate as 0.01\n",
        "model_1.compile(loss='categorical_crossentropy', optimizer=opt,\n",
        "               metrics = ['accuracy','mse'])\n",
        "\n",
        "model = model_1\n",
        "model.summary()"
      ],
      "metadata": {
        "colab": {
          "base_uri": "https://localhost:8080/"
        },
        "id": "aE8FSry0keHg",
        "outputId": "0c42ab13-7c47-4df5-ce9e-4d318c40487c"
      },
      "execution_count": null,
      "outputs": [
        {
          "output_type": "stream",
          "name": "stdout",
          "text": [
            "number of layers in model_1: 25\n",
            "number of layers in model_1: 25\n",
            "number of layers in model_1: 25\n",
            "number of layers in model_1: 25\n",
            "number of layers in model_1: 25\n",
            "number of layers in model_1: 25\n",
            "number of layers in model_1: 25\n",
            "number of layers in model_1: 25\n",
            "number of layers in model_1: 25\n",
            "number of layers in model_1: 25\n",
            "number of layers in model_1: 25\n",
            "number of layers in model_1: 25\n",
            "number of layers in model_1: 25\n",
            "number of layers in model_1: 25\n",
            "number of layers in model_1: 25\n",
            "number of layers in model_1: 25\n",
            "number of layers in model_1: 25\n",
            "number of layers in model_1: 25\n",
            "number of layers in model_1: 25\n",
            "number of layers in model_1: 25\n",
            "number of layers in model_1: 25\n",
            "number of layers in model_1: 25\n",
            "number of layers in model_1: 25\n",
            "number of layers in model_1: 25\n",
            "number of layers in model_1: 25\n",
            "Model: \"model\"\n",
            "_________________________________________________________________\n",
            " Layer (type)                Output Shape              Param #   \n",
            "=================================================================\n",
            " input_1 (InputLayer)        [(None, 224, 224, 3)]     0         \n",
            "                                                                 \n",
            " block1_conv1 (Conv2D)       (None, 224, 224, 64)      1792      \n",
            "                                                                 \n",
            " block1_conv2 (Conv2D)       (None, 224, 224, 64)      36928     \n",
            "                                                                 \n",
            " block1_pool (MaxPooling2D)  (None, 112, 112, 64)      0         \n",
            "                                                                 \n",
            " block2_conv1 (Conv2D)       (None, 112, 112, 128)     73856     \n",
            "                                                                 \n",
            " block2_conv2 (Conv2D)       (None, 112, 112, 128)     147584    \n",
            "                                                                 \n",
            " block2_pool (MaxPooling2D)  (None, 56, 56, 128)       0         \n",
            "                                                                 \n",
            " block3_conv1 (Conv2D)       (None, 56, 56, 256)       295168    \n",
            "                                                                 \n",
            " block3_conv2 (Conv2D)       (None, 56, 56, 256)       590080    \n",
            "                                                                 \n",
            " block3_conv3 (Conv2D)       (None, 56, 56, 256)       590080    \n",
            "                                                                 \n",
            " block3_conv4 (Conv2D)       (None, 56, 56, 256)       590080    \n",
            "                                                                 \n",
            " block3_pool (MaxPooling2D)  (None, 28, 28, 256)       0         \n",
            "                                                                 \n",
            " block4_conv1 (Conv2D)       (None, 28, 28, 512)       1180160   \n",
            "                                                                 \n",
            " block4_conv2 (Conv2D)       (None, 28, 28, 512)       2359808   \n",
            "                                                                 \n",
            " block4_conv3 (Conv2D)       (None, 28, 28, 512)       2359808   \n",
            "                                                                 \n",
            " block4_conv4 (Conv2D)       (None, 28, 28, 512)       2359808   \n",
            "                                                                 \n",
            " block4_pool (MaxPooling2D)  (None, 14, 14, 512)       0         \n",
            "                                                                 \n",
            " block5_conv1 (Conv2D)       (None, 14, 14, 512)       2359808   \n",
            "                                                                 \n",
            " block5_conv2 (Conv2D)       (None, 14, 14, 512)       2359808   \n",
            "                                                                 \n",
            " block5_conv3 (Conv2D)       (None, 14, 14, 512)       2359808   \n",
            "                                                                 \n",
            " block5_conv4 (Conv2D)       (None, 14, 14, 512)       2359808   \n",
            "                                                                 \n",
            " block5_pool (MaxPooling2D)  (None, 7, 7, 512)         0         \n",
            "                                                                 \n",
            " global_average_pooling2d (G  (None, 512)              0         \n",
            " lobalAveragePooling2D)                                          \n",
            "                                                                 \n",
            " dense (Dense)               (None, 1024)              525312    \n",
            "                                                                 \n",
            " dense_1 (Dense)             (None, 4)                 4100      \n",
            "                                                                 \n",
            "=================================================================\n",
            "Total params: 20,553,796\n",
            "Trainable params: 9,968,644\n",
            "Non-trainable params: 10,585,152\n",
            "_________________________________________________________________\n"
          ]
        }
      ]
    },
    {
      "cell_type": "code",
      "source": [
        "# 50 epochs for VGG model finetuning[finetuning from 17th layer]\n",
        "from tensorflow.keras.callbacks import ModelCheckpoint, EarlyStopping, ReduceLROnPlateau, CSVLogger\n",
        "\n",
        "#checkpointing\n",
        "checkpoint_path = \"/content/drive/MyDrive/cp-0021.ckpt.data-00000-of-00001\"\n",
        "# checkpoint_path = \"C:/Users/Janani/GAIP_NUS/Eye Motion/cp-0021.ckpt.data-00000-of-00001\"\n",
        "checkpoint_dir = os.path.dirname(checkpoint_path)\n",
        "\n",
        "#Create a callback that saves the model's weights\n",
        "cp_callback = tensorflow.keras.callbacks.ModelCheckpoint(monitor = 'val_accuracy',\n",
        "   filepath=checkpoint_path, \n",
        "    verbose=1,\n",
        "    save_weights_only=True,\n",
        "    #save_freq=5*batch_size,\n",
        "     save_best_only = True,                                                    \n",
        "      mode='max')\n",
        "\n",
        "\n",
        "#Reduce learning rate when a metric has stopped improving.\n",
        "# Models often benefit \n",
        "#from reducing the learning rate by a factor of 2-10\n",
        "reduce_lr = ReduceLROnPlateau(monitor='val_accuracy', \n",
        "                              factor=0.2, patience=2, min_lr=0.000001)\n",
        "\n",
        "#csv_logger = CSVLogger('train_log1.csv', separator=',')\n",
        "\n",
        "# Save the weights using the `checkpoint_path` format\n",
        "model_1.save_weights(checkpoint_path.format(epoch=0))\n",
        "\n",
        "# Train the model with the new callback\n",
        "model_history = model_1.fit(train_generator, epochs = 30,callbacks=[cp_callback, reduce_lr],\n",
        "                          validation_data=valid_generator,\n",
        "    validation_steps=nb_validation_samples // batch_size)\n",
        "           # Pass callback to training"
      ],
      "metadata": {
        "colab": {
          "base_uri": "https://localhost:8080/"
        },
        "id": "2aJCaqipk5MD",
        "outputId": "d88c48b5-aab1-4550-a02b-cb3020913d6e"
      },
      "execution_count": null,
      "outputs": [
        {
          "output_type": "stream",
          "name": "stdout",
          "text": [
            "Epoch 1/30\n",
            "97/97 [==============================] - ETA: 0s - loss: 1.1405 - accuracy: 0.5159 - mse: 0.1511\n",
            "Epoch 1: val_accuracy improved from -inf to 0.58225, saving model to /content/drive/MyDrive/cp-0021.ckpt.data-00000-of-00001\n",
            "97/97 [==============================] - 53s 514ms/step - loss: 1.1405 - accuracy: 0.5159 - mse: 0.1511 - val_loss: 0.8620 - val_accuracy: 0.5822 - val_mse: 0.1216 - lr: 1.0000e-04\n",
            "Epoch 2/30\n",
            "97/97 [==============================] - ETA: 0s - loss: 0.7288 - accuracy: 0.6848 - mse: 0.1033\n",
            "Epoch 2: val_accuracy improved from 0.58225 to 0.67102, saving model to /content/drive/MyDrive/cp-0021.ckpt.data-00000-of-00001\n",
            "97/97 [==============================] - 51s 529ms/step - loss: 0.7288 - accuracy: 0.6848 - mse: 0.1033 - val_loss: 0.7018 - val_accuracy: 0.6710 - val_mse: 0.1024 - lr: 1.0000e-04\n",
            "Epoch 3/30\n",
            "97/97 [==============================] - ETA: 0s - loss: 0.5642 - accuracy: 0.7645 - mse: 0.0803\n",
            "Epoch 3: val_accuracy improved from 0.67102 to 0.68407, saving model to /content/drive/MyDrive/cp-0021.ckpt.data-00000-of-00001\n",
            "97/97 [==============================] - 50s 518ms/step - loss: 0.5642 - accuracy: 0.7645 - mse: 0.0803 - val_loss: 0.7171 - val_accuracy: 0.6841 - val_mse: 0.1039 - lr: 1.0000e-04\n",
            "Epoch 4/30\n",
            "97/97 [==============================] - ETA: 0s - loss: 0.4622 - accuracy: 0.8090 - mse: 0.0651\n",
            "Epoch 4: val_accuracy improved from 0.68407 to 0.83029, saving model to /content/drive/MyDrive/cp-0021.ckpt.data-00000-of-00001\n",
            "97/97 [==============================] - 51s 522ms/step - loss: 0.4622 - accuracy: 0.8090 - mse: 0.0651 - val_loss: 0.4547 - val_accuracy: 0.8303 - val_mse: 0.0614 - lr: 1.0000e-04\n",
            "Epoch 5/30\n",
            "97/97 [==============================] - ETA: 0s - loss: 0.3392 - accuracy: 0.8660 - mse: 0.0479\n",
            "Epoch 5: val_accuracy improved from 0.83029 to 0.83290, saving model to /content/drive/MyDrive/cp-0021.ckpt.data-00000-of-00001\n",
            "97/97 [==============================] - 52s 534ms/step - loss: 0.3392 - accuracy: 0.8660 - mse: 0.0479 - val_loss: 0.4900 - val_accuracy: 0.8329 - val_mse: 0.0651 - lr: 1.0000e-04\n",
            "Epoch 6/30\n",
            "97/97 [==============================] - ETA: 0s - loss: 0.2100 - accuracy: 0.9161 - mse: 0.0295\n",
            "Epoch 6: val_accuracy improved from 0.83290 to 0.87206, saving model to /content/drive/MyDrive/cp-0021.ckpt.data-00000-of-00001\n",
            "97/97 [==============================] - 50s 516ms/step - loss: 0.2100 - accuracy: 0.9161 - mse: 0.0295 - val_loss: 0.3769 - val_accuracy: 0.8721 - val_mse: 0.0498 - lr: 1.0000e-04\n",
            "Epoch 7/30\n",
            "97/97 [==============================] - ETA: 0s - loss: 0.1687 - accuracy: 0.9388 - mse: 0.0237\n",
            "Epoch 7: val_accuracy did not improve from 0.87206\n",
            "97/97 [==============================] - 50s 517ms/step - loss: 0.1687 - accuracy: 0.9388 - mse: 0.0237 - val_loss: 0.3937 - val_accuracy: 0.8486 - val_mse: 0.0521 - lr: 1.0000e-04\n",
            "Epoch 8/30\n",
            "97/97 [==============================] - ETA: 0s - loss: 0.1466 - accuracy: 0.9440 - mse: 0.0203\n",
            "Epoch 8: val_accuracy improved from 0.87206 to 0.89556, saving model to /content/drive/MyDrive/cp-0021.ckpt.data-00000-of-00001\n",
            "97/97 [==============================] - 50s 516ms/step - loss: 0.1466 - accuracy: 0.9440 - mse: 0.0203 - val_loss: 0.3225 - val_accuracy: 0.8956 - val_mse: 0.0394 - lr: 1.0000e-04\n",
            "Epoch 9/30\n",
            "97/97 [==============================] - ETA: 0s - loss: 0.1422 - accuracy: 0.9502 - mse: 0.0189\n",
            "Epoch 9: val_accuracy did not improve from 0.89556\n",
            "97/97 [==============================] - 50s 516ms/step - loss: 0.1422 - accuracy: 0.9502 - mse: 0.0189 - val_loss: 0.3238 - val_accuracy: 0.8773 - val_mse: 0.0444 - lr: 1.0000e-04\n",
            "Epoch 10/30\n",
            "97/97 [==============================] - ETA: 0s - loss: 0.1258 - accuracy: 0.9587 - mse: 0.0162\n",
            "Epoch 10: val_accuracy improved from 0.89556 to 0.91384, saving model to /content/drive/MyDrive/cp-0021.ckpt.data-00000-of-00001\n",
            "97/97 [==============================] - 50s 511ms/step - loss: 0.1258 - accuracy: 0.9587 - mse: 0.0162 - val_loss: 0.2260 - val_accuracy: 0.9138 - val_mse: 0.0288 - lr: 1.0000e-04\n",
            "Epoch 11/30\n",
            "97/97 [==============================] - ETA: 0s - loss: 0.0854 - accuracy: 0.9714 - mse: 0.0116\n",
            "Epoch 11: val_accuracy improved from 0.91384 to 0.92689, saving model to /content/drive/MyDrive/cp-0021.ckpt.data-00000-of-00001\n",
            "97/97 [==============================] - 51s 527ms/step - loss: 0.0854 - accuracy: 0.9714 - mse: 0.0116 - val_loss: 0.1994 - val_accuracy: 0.9269 - val_mse: 0.0292 - lr: 1.0000e-04\n",
            "Epoch 12/30\n",
            "97/97 [==============================] - ETA: 0s - loss: 0.0894 - accuracy: 0.9675 - mse: 0.0117\n",
            "Epoch 12: val_accuracy did not improve from 0.92689\n",
            "97/97 [==============================] - 50s 511ms/step - loss: 0.0894 - accuracy: 0.9675 - mse: 0.0117 - val_loss: 0.2797 - val_accuracy: 0.8956 - val_mse: 0.0390 - lr: 1.0000e-04\n",
            "Epoch 13/30\n",
            "97/97 [==============================] - ETA: 0s - loss: 0.0622 - accuracy: 0.9792 - mse: 0.0084\n",
            "Epoch 13: val_accuracy did not improve from 0.92689\n",
            "97/97 [==============================] - 49s 505ms/step - loss: 0.0622 - accuracy: 0.9792 - mse: 0.0084 - val_loss: 0.2687 - val_accuracy: 0.9269 - val_mse: 0.0312 - lr: 1.0000e-04\n",
            "Epoch 14/30\n",
            "97/97 [==============================] - ETA: 0s - loss: 0.0245 - accuracy: 0.9922 - mse: 0.0031\n",
            "Epoch 14: val_accuracy improved from 0.92689 to 0.93473, saving model to /content/drive/MyDrive/cp-0021.ckpt.data-00000-of-00001\n",
            "97/97 [==============================] - 50s 517ms/step - loss: 0.0245 - accuracy: 0.9922 - mse: 0.0031 - val_loss: 0.1861 - val_accuracy: 0.9347 - val_mse: 0.0254 - lr: 2.0000e-05\n",
            "Epoch 15/30\n",
            "97/97 [==============================] - ETA: 0s - loss: 0.0114 - accuracy: 0.9971 - mse: 0.0013\n",
            "Epoch 15: val_accuracy improved from 0.93473 to 0.97389, saving model to /content/drive/MyDrive/cp-0021.ckpt.data-00000-of-00001\n",
            "97/97 [==============================] - 51s 521ms/step - loss: 0.0114 - accuracy: 0.9971 - mse: 0.0013 - val_loss: 0.0956 - val_accuracy: 0.9739 - val_mse: 0.0115 - lr: 2.0000e-05\n",
            "Epoch 16/30\n",
            "97/97 [==============================] - ETA: 0s - loss: 0.0058 - accuracy: 0.9987 - mse: 5.3775e-04\n",
            "Epoch 16: val_accuracy did not improve from 0.97389\n",
            "97/97 [==============================] - 50s 510ms/step - loss: 0.0058 - accuracy: 0.9987 - mse: 5.3775e-04 - val_loss: 0.1097 - val_accuracy: 0.9661 - val_mse: 0.0134 - lr: 2.0000e-05\n",
            "Epoch 17/30\n",
            "97/97 [==============================] - ETA: 0s - loss: 0.0073 - accuracy: 0.9984 - mse: 7.6963e-04\n",
            "Epoch 17: val_accuracy did not improve from 0.97389\n",
            "97/97 [==============================] - 49s 501ms/step - loss: 0.0073 - accuracy: 0.9984 - mse: 7.6963e-04 - val_loss: 0.0927 - val_accuracy: 0.9608 - val_mse: 0.0138 - lr: 2.0000e-05\n",
            "Epoch 18/30\n",
            "97/97 [==============================] - ETA: 0s - loss: 0.0054 - accuracy: 0.9987 - mse: 6.3154e-04\n",
            "Epoch 18: val_accuracy did not improve from 0.97389\n",
            "97/97 [==============================] - 49s 501ms/step - loss: 0.0054 - accuracy: 0.9987 - mse: 6.3154e-04 - val_loss: 0.0897 - val_accuracy: 0.9661 - val_mse: 0.0124 - lr: 4.0000e-06\n",
            "Epoch 19/30\n",
            "97/97 [==============================] - ETA: 0s - loss: 0.0031 - accuracy: 0.9997 - mse: 2.1925e-04\n",
            "Epoch 19: val_accuracy improved from 0.97389 to 0.97911, saving model to /content/drive/MyDrive/cp-0021.ckpt.data-00000-of-00001\n",
            "97/97 [==============================] - 50s 513ms/step - loss: 0.0031 - accuracy: 0.9997 - mse: 2.1925e-04 - val_loss: 0.0557 - val_accuracy: 0.9791 - val_mse: 0.0077 - lr: 4.0000e-06\n",
            "Epoch 20/30\n",
            "97/97 [==============================] - ETA: 0s - loss: 0.0035 - accuracy: 0.9997 - mse: 2.6791e-04\n",
            "Epoch 20: val_accuracy did not improve from 0.97911\n",
            "97/97 [==============================] - 49s 505ms/step - loss: 0.0035 - accuracy: 0.9997 - mse: 2.6791e-04 - val_loss: 0.1087 - val_accuracy: 0.9634 - val_mse: 0.0146 - lr: 4.0000e-06\n",
            "Epoch 21/30\n",
            "97/97 [==============================] - ETA: 0s - loss: 0.0031 - accuracy: 0.9997 - mse: 2.7151e-04\n",
            "Epoch 21: val_accuracy did not improve from 0.97911\n",
            "97/97 [==============================] - 48s 496ms/step - loss: 0.0031 - accuracy: 0.9997 - mse: 2.7151e-04 - val_loss: 0.0538 - val_accuracy: 0.9791 - val_mse: 0.0080 - lr: 4.0000e-06\n",
            "Epoch 22/30\n",
            "97/97 [==============================] - ETA: 0s - loss: 0.0038 - accuracy: 0.9993 - mse: 3.5377e-04\n",
            "Epoch 22: val_accuracy did not improve from 0.97911\n",
            "97/97 [==============================] - 48s 497ms/step - loss: 0.0038 - accuracy: 0.9993 - mse: 3.5377e-04 - val_loss: 0.0973 - val_accuracy: 0.9765 - val_mse: 0.0105 - lr: 1.0000e-06\n",
            "Epoch 23/30\n",
            "97/97 [==============================] - ETA: 0s - loss: 0.0029 - accuracy: 0.9993 - mse: 2.7395e-04\n",
            "Epoch 23: val_accuracy did not improve from 0.97911\n",
            "97/97 [==============================] - 49s 506ms/step - loss: 0.0029 - accuracy: 0.9993 - mse: 2.7395e-04 - val_loss: 0.0710 - val_accuracy: 0.9687 - val_mse: 0.0107 - lr: 1.0000e-06\n",
            "Epoch 24/30\n",
            "97/97 [==============================] - ETA: 0s - loss: 0.0026 - accuracy: 0.9997 - mse: 2.1002e-04\n",
            "Epoch 24: val_accuracy improved from 0.97911 to 0.98695, saving model to /content/drive/MyDrive/cp-0021.ckpt.data-00000-of-00001\n",
            "97/97 [==============================] - 49s 500ms/step - loss: 0.0026 - accuracy: 0.9997 - mse: 2.1002e-04 - val_loss: 0.0463 - val_accuracy: 0.9869 - val_mse: 0.0066 - lr: 1.0000e-06\n",
            "Epoch 25/30\n",
            "97/97 [==============================] - ETA: 0s - loss: 0.0035 - accuracy: 0.9990 - mse: 3.6980e-04\n",
            "Epoch 25: val_accuracy did not improve from 0.98695\n",
            "97/97 [==============================] - 49s 499ms/step - loss: 0.0035 - accuracy: 0.9990 - mse: 3.6980e-04 - val_loss: 0.0680 - val_accuracy: 0.9661 - val_mse: 0.0107 - lr: 1.0000e-06\n",
            "Epoch 26/30\n",
            "97/97 [==============================] - ETA: 0s - loss: 0.0034 - accuracy: 0.9990 - mse: 3.4492e-04\n",
            "Epoch 26: val_accuracy did not improve from 0.98695\n",
            "97/97 [==============================] - 48s 495ms/step - loss: 0.0034 - accuracy: 0.9990 - mse: 3.4492e-04 - val_loss: 0.0814 - val_accuracy: 0.9687 - val_mse: 0.0102 - lr: 1.0000e-06\n",
            "Epoch 27/30\n",
            "97/97 [==============================] - ETA: 0s - loss: 0.0027 - accuracy: 0.9997 - mse: 1.8747e-04\n",
            "Epoch 27: val_accuracy did not improve from 0.98695\n",
            "97/97 [==============================] - 49s 502ms/step - loss: 0.0027 - accuracy: 0.9997 - mse: 1.8747e-04 - val_loss: 0.0801 - val_accuracy: 0.9791 - val_mse: 0.0077 - lr: 1.0000e-06\n",
            "Epoch 28/30\n",
            "97/97 [==============================] - ETA: 0s - loss: 0.0033 - accuracy: 0.9997 - mse: 2.2984e-04\n",
            "Epoch 28: val_accuracy did not improve from 0.98695\n",
            "97/97 [==============================] - 48s 495ms/step - loss: 0.0033 - accuracy: 0.9997 - mse: 2.2984e-04 - val_loss: 0.0630 - val_accuracy: 0.9765 - val_mse: 0.0090 - lr: 1.0000e-06\n",
            "Epoch 29/30\n",
            "97/97 [==============================] - ETA: 0s - loss: 0.0025 - accuracy: 0.9993 - mse: 2.1986e-04\n",
            "Epoch 29: val_accuracy did not improve from 0.98695\n",
            "97/97 [==============================] - 49s 508ms/step - loss: 0.0025 - accuracy: 0.9993 - mse: 2.1986e-04 - val_loss: 0.0759 - val_accuracy: 0.9713 - val_mse: 0.0108 - lr: 1.0000e-06\n",
            "Epoch 30/30\n",
            "97/97 [==============================] - ETA: 0s - loss: 0.0032 - accuracy: 0.9993 - mse: 3.1683e-04\n",
            "Epoch 30: val_accuracy did not improve from 0.98695\n",
            "97/97 [==============================] - 48s 495ms/step - loss: 0.0032 - accuracy: 0.9993 - mse: 3.1683e-04 - val_loss: 0.0732 - val_accuracy: 0.9791 - val_mse: 0.0092 - lr: 1.0000e-06\n"
          ]
        }
      ]
    },
    {
      "cell_type": "code",
      "source": [
        "model.save('/content/drive/MyDrive/Colab Notebooks/vgg19_finetuning.h5')\n",
        "model_1 = tensorflow.keras.models.load_model('/content/drive/MyDrive/Colab Notebooks/vgg19_finetuning.h5')"
      ],
      "metadata": {
        "id": "G-kPKLMVlUz1"
      },
      "execution_count": null,
      "outputs": []
    },
    {
      "cell_type": "code",
      "source": [
        "#to plot confusion matrix for 100 epochs\n",
        "import pandas as pd\n",
        "import seaborn as sn\n",
        "import tensorflow as tf\n",
        "\n",
        "#model = tf.keras.models.load_model(\"Reflection_dataset\\Saved_Model\\Mobilenet_reflection.h5\")\n",
        "model = model_1\n",
        "filenames = test_generator.filenames\n",
        "nb_samples = len(test_generator)\n",
        "y_prob=[]\n",
        "y_act=[]\n",
        "test_generator.reset()\n",
        "for _ in range(nb_samples):\n",
        "  X_test,Y_test = test_generator.next()\n",
        "  y_prob.append(model.predict(X_test))\n",
        "  y_act.append(Y_test)\n",
        "\n",
        "predicted_class = [list(train_generator.class_indices.keys())[i.argmax()]for i in y_prob]\n",
        "actual_class = [list(train_generator.class_indices.keys())[i.argmax()]for i in y_act]\n",
        "\n",
        "out_df = pd.DataFrame(np.vstack([predicted_class,actual_class]).T,columns = ['predicted_class','actual_class'])\n",
        "confusion_matrix = pd.crosstab(out_df['actual_class'],out_df['predicted_class'], rownames=['Actual'], colnames=['Predicted'])\n",
        "sn.heatmap(confusion_matrix,cmap=\"YlGnBu\", annot = True,fmt='d')\n",
        "plt.show()\n",
        "print('test accuracy: {}'.format((np.diagonal(confusion_matrix).sum()/confusion_matrix.sum().sum()*100)))"
      ],
      "metadata": {
        "colab": {
          "base_uri": "https://localhost:8080/",
          "height": 298
        },
        "id": "YMwu81zVrmVJ",
        "outputId": "23871466-6d51-40e1-c905-e69bde016f65"
      },
      "execution_count": null,
      "outputs": [
        {
          "output_type": "display_data",
          "data": {
            "text/plain": [
              "<Figure size 432x288 with 2 Axes>"
            ],
            "image/png": "[encoded data removed]"
          },
          "metadata": {
            "needs_background": "light"
          }
        },
        {
          "output_type": "stream",
          "name": "stdout",
          "text": [
            "test accuracy: 97.68041237113401\n"
          ]
        }
      ]
    },
    {
      "cell_type": "code",
      "source": [
        "target = []\n",
        "for x in train_generator.class_indices.keys():\n",
        "  target.append(x)\n",
        "\n",
        "target"
      ],
      "metadata": {
        "colab": {
          "base_uri": "https://localhost:8080/"
        },
        "id": "fR0-HxtFvn-Q",
        "outputId": "9555edfb-8ab8-4063-ed9e-96470b7d0f13"
      },
      "execution_count": null,
      "outputs": [
        {
          "output_type": "execute_result",
          "data": {
            "text/plain": [
              "['center', 'closed', 'left', 'right']"
            ]
          },
          "metadata": {},
          "execution_count": 36
        }
      ]
    },
    {
      "cell_type": "code",
      "source": [
        "import matplotlib.pyplot as plt \n",
        "from sklearn.preprocessing import LabelBinarizer\n",
        "from sklearn.metrics import roc_curve, auc, roc_auc_score\n",
        "\n",
        "\n",
        "#target= ['airplane', 'automobile', 'bird', 'cat', 'deer',\n",
        "   #       'dog', 'frog', 'horse', 'ship', 'truck']\n",
        "\n",
        "# set plot figure size\n",
        "fig, c_ax = plt.subplots(1,1, figsize = (12, 8))\n",
        "\n",
        "# function for scoring roc auc score for multi-class\n",
        "def multiclass_roc_auc_score(y_test, ypred, average=\"weighted\"):\n",
        "    lb = LabelBinarizer()\n",
        "    lb.fit(y_test)\n",
        "    y_test = lb.transform(y_test)\n",
        "    ypred = lb.transform(ypred)\n",
        "\n",
        "    for (idx, c_label) in enumerate(target):\n",
        "        fpr, tpr, thresholds = roc_curve(y_test[:,idx].astype(int), ypred[:,idx])\n",
        "        c_ax.plot(fpr, tpr, label = '%s (AUC:%0.2f)'  % (c_label, auc(fpr, tpr)))\n",
        "    c_ax.plot(fpr, fpr, 'b-', label = 'Random Guessing')\n",
        "    return roc_auc_score(y_test, ypred, average=average)\n",
        "\n",
        "\n",
        "print('ROC AUC score:', multiclass_roc_auc_score(predicted_class, actual_class))\n",
        "\n",
        "c_ax.legend()\n",
        "c_ax.set_xlabel('False Positive Rate')\n",
        "c_ax.set_ylabel('True Positive Rate')\n",
        "plt.show()"
      ],
      "metadata": {
        "colab": {
          "base_uri": "https://localhost:8080/",
          "height": 514
        },
        "id": "nZDxnwO0viTX",
        "outputId": "a3ec6fc7-b68f-46cf-ebdd-6ba76d1c71f2"
      },
      "execution_count": null,
      "outputs": [
        {
          "output_type": "stream",
          "name": "stdout",
          "text": [
            "ROC AUC score: 0.984534647178467\n"
          ]
        },
        {
          "output_type": "display_data",
          "data": {
            "text/plain": [
              "<Figure size 864x576 with 1 Axes>"
            ],
            "image/png": "[encoded data removed]"
          },
          "metadata": {
            "needs_background": "light"
          }
        }
      ]
    },
    {
      "cell_type": "code",
      "source": [
        "\n",
        "y_act"
      ],
      "metadata": {
        "colab": {
          "base_uri": "https://localhost:8080/"
        },
        "id": "VBJhhhjCr2LG",
        "outputId": "5a4a9a18-2635-4742-cb76-9a4876c40e3c"
      },
      "execution_count": null,
      "outputs": [
        {
          "output_type": "execute_result",
          "data": {
            "text/plain": [
              "[array([[0., 0., 0., 1.]], dtype=float32),\n",
              " array([[0., 1., 0., 0.]], dtype=float32),\n",
              " array([[0., 0., 0., 1.]], dtype=float32),\n",
              " array([[0., 0., 1., 0.]], dtype=float32),\n",
              " array([[1., 0., 0., 0.]], dtype=float32),\n",
              " array([[0., 0., 0., 1.]], dtype=float32),\n",
              " array([[0., 0., 0., 1.]], dtype=float32),\n",
              " array([[0., 0., 1., 0.]], dtype=float32),\n",
              " array([[0., 0., 1., 0.]], dtype=float32),\n",
              " array([[1., 0., 0., 0.]], dtype=float32),\n",
              " array([[0., 1., 0., 0.]], dtype=float32),\n",
              " array([[0., 0., 1., 0.]], dtype=float32),\n",
              " array([[0., 0., 1., 0.]], dtype=float32),\n",
              " array([[0., 0., 1., 0.]], dtype=float32),\n",
              " array([[1., 0., 0., 0.]], dtype=float32),\n",
              " array([[0., 0., 0., 1.]], dtype=float32),\n",
              " array([[0., 1., 0., 0.]], dtype=float32),\n",
              " array([[0., 0., 1., 0.]], dtype=float32),\n",
              " array([[0., 0., 1., 0.]], dtype=float32),\n",
              " array([[0., 0., 0., 1.]], dtype=float32),\n",
              " array([[0., 0., 0., 1.]], dtype=float32),\n",
              " array([[0., 0., 1., 0.]], dtype=float32),\n",
              " array([[1., 0., 0., 0.]], dtype=float32),\n",
              " array([[1., 0., 0., 0.]], dtype=float32),\n",
              " array([[0., 0., 1., 0.]], dtype=float32),\n",
              " array([[1., 0., 0., 0.]], dtype=float32),\n",
              " array([[0., 0., 0., 1.]], dtype=float32),\n",
              " array([[0., 0., 1., 0.]], dtype=float32),\n",
              " array([[0., 0., 1., 0.]], dtype=float32),\n",
              " array([[1., 0., 0., 0.]], dtype=float32),\n",
              " array([[0., 0., 0., 1.]], dtype=float32),\n",
              " array([[0., 0., 0., 1.]], dtype=float32),\n",
              " array([[1., 0., 0., 0.]], dtype=float32),\n",
              " array([[0., 0., 0., 1.]], dtype=float32),\n",
              " array([[0., 0., 1., 0.]], dtype=float32),\n",
              " array([[0., 0., 0., 1.]], dtype=float32),\n",
              " array([[0., 0., 1., 0.]], dtype=float32),\n",
              " array([[0., 0., 1., 0.]], dtype=float32),\n",
              " array([[0., 0., 0., 1.]], dtype=float32),\n",
              " array([[0., 1., 0., 0.]], dtype=float32),\n",
              " array([[0., 0., 0., 1.]], dtype=float32),\n",
              " array([[0., 0., 0., 1.]], dtype=float32),\n",
              " array([[0., 0., 1., 0.]], dtype=float32),\n",
              " array([[0., 1., 0., 0.]], dtype=float32),\n",
              " array([[0., 1., 0., 0.]], dtype=float32),\n",
              " array([[0., 0., 0., 1.]], dtype=float32),\n",
              " array([[0., 1., 0., 0.]], dtype=float32),\n",
              " array([[1., 0., 0., 0.]], dtype=float32),\n",
              " array([[0., 1., 0., 0.]], dtype=float32),\n",
              " array([[0., 0., 1., 0.]], dtype=float32),\n",
              " array([[0., 0., 1., 0.]], dtype=float32),\n",
              " array([[0., 1., 0., 0.]], dtype=float32),\n",
              " array([[1., 0., 0., 0.]], dtype=float32),\n",
              " array([[0., 1., 0., 0.]], dtype=float32),\n",
              " array([[0., 1., 0., 0.]], dtype=float32),\n",
              " array([[1., 0., 0., 0.]], dtype=float32),\n",
              " array([[1., 0., 0., 0.]], dtype=float32),\n",
              " array([[0., 1., 0., 0.]], dtype=float32),\n",
              " array([[0., 0., 0., 1.]], dtype=float32),\n",
              " array([[0., 1., 0., 0.]], dtype=float32),\n",
              " array([[0., 0., 0., 1.]], dtype=float32),\n",
              " array([[0., 1., 0., 0.]], dtype=float32),\n",
              " array([[0., 1., 0., 0.]], dtype=float32),\n",
              " array([[0., 0., 1., 0.]], dtype=float32),\n",
              " array([[0., 0., 0., 1.]], dtype=float32),\n",
              " array([[1., 0., 0., 0.]], dtype=float32),\n",
              " array([[0., 0., 0., 1.]], dtype=float32),\n",
              " array([[1., 0., 0., 0.]], dtype=float32),\n",
              " array([[1., 0., 0., 0.]], dtype=float32),\n",
              " array([[0., 0., 1., 0.]], dtype=float32),\n",
              " array([[1., 0., 0., 0.]], dtype=float32),\n",
              " array([[1., 0., 0., 0.]], dtype=float32),\n",
              " array([[1., 0., 0., 0.]], dtype=float32),\n",
              " array([[0., 0., 1., 0.]], dtype=float32),\n",
              " array([[1., 0., 0., 0.]], dtype=float32),\n",
              " array([[0., 0., 0., 1.]], dtype=float32),\n",
              " array([[0., 0., 1., 0.]], dtype=float32),\n",
              " array([[1., 0., 0., 0.]], dtype=float32),\n",
              " array([[0., 0., 0., 1.]], dtype=float32),\n",
              " array([[0., 1., 0., 0.]], dtype=float32),\n",
              " array([[0., 0., 0., 1.]], dtype=float32),\n",
              " array([[0., 1., 0., 0.]], dtype=float32),\n",
              " array([[1., 0., 0., 0.]], dtype=float32),\n",
              " array([[0., 1., 0., 0.]], dtype=float32),\n",
              " array([[0., 0., 0., 1.]], dtype=float32),\n",
              " array([[0., 0., 0., 1.]], dtype=float32),\n",
              " array([[1., 0., 0., 0.]], dtype=float32),\n",
              " array([[0., 1., 0., 0.]], dtype=float32),\n",
              " array([[1., 0., 0., 0.]], dtype=float32),\n",
              " array([[0., 0., 0., 1.]], dtype=float32),\n",
              " array([[0., 1., 0., 0.]], dtype=float32),\n",
              " array([[0., 0., 1., 0.]], dtype=float32),\n",
              " array([[0., 0., 1., 0.]], dtype=float32),\n",
              " array([[0., 1., 0., 0.]], dtype=float32),\n",
              " array([[0., 0., 0., 1.]], dtype=float32),\n",
              " array([[0., 1., 0., 0.]], dtype=float32),\n",
              " array([[0., 0., 0., 1.]], dtype=float32),\n",
              " array([[0., 0., 0., 1.]], dtype=float32),\n",
              " array([[0., 0., 1., 0.]], dtype=float32),\n",
              " array([[0., 0., 0., 1.]], dtype=float32),\n",
              " array([[0., 0., 1., 0.]], dtype=float32),\n",
              " array([[1., 0., 0., 0.]], dtype=float32),\n",
              " array([[0., 0., 1., 0.]], dtype=float32),\n",
              " array([[0., 0., 1., 0.]], dtype=float32),\n",
              " array([[0., 0., 0., 1.]], dtype=float32),\n",
              " array([[0., 0., 1., 0.]], dtype=float32),\n",
              " array([[0., 0., 1., 0.]], dtype=float32),\n",
              " array([[0., 0., 0., 1.]], dtype=float32),\n",
              " array([[1., 0., 0., 0.]], dtype=float32),\n",
              " array([[0., 1., 0., 0.]], dtype=float32),\n",
              " array([[1., 0., 0., 0.]], dtype=float32),\n",
              " array([[0., 1., 0., 0.]], dtype=float32),\n",
              " array([[1., 0., 0., 0.]], dtype=float32),\n",
              " array([[1., 0., 0., 0.]], dtype=float32),\n",
              " array([[0., 1., 0., 0.]], dtype=float32),\n",
              " array([[1., 0., 0., 0.]], dtype=float32),\n",
              " array([[1., 0., 0., 0.]], dtype=float32),\n",
              " array([[1., 0., 0., 0.]], dtype=float32),\n",
              " array([[0., 0., 1., 0.]], dtype=float32),\n",
              " array([[0., 1., 0., 0.]], dtype=float32),\n",
              " array([[0., 0., 1., 0.]], dtype=float32),\n",
              " array([[1., 0., 0., 0.]], dtype=float32),\n",
              " array([[0., 0., 1., 0.]], dtype=float32),\n",
              " array([[0., 1., 0., 0.]], dtype=float32),\n",
              " array([[1., 0., 0., 0.]], dtype=float32),\n",
              " array([[0., 1., 0., 0.]], dtype=float32),\n",
              " array([[0., 0., 1., 0.]], dtype=float32),\n",
              " array([[0., 1., 0., 0.]], dtype=float32),\n",
              " array([[0., 0., 1., 0.]], dtype=float32),\n",
              " array([[1., 0., 0., 0.]], dtype=float32),\n",
              " array([[0., 0., 1., 0.]], dtype=float32),\n",
              " array([[0., 0., 0., 1.]], dtype=float32),\n",
              " array([[0., 0., 0., 1.]], dtype=float32),\n",
              " array([[0., 0., 1., 0.]], dtype=float32),\n",
              " array([[0., 0., 1., 0.]], dtype=float32),\n",
              " array([[0., 0., 1., 0.]], dtype=float32),\n",
              " array([[0., 1., 0., 0.]], dtype=float32),\n",
              " array([[0., 0., 0., 1.]], dtype=float32),\n",
              " array([[1., 0., 0., 0.]], dtype=float32),\n",
              " array([[0., 0., 1., 0.]], dtype=float32),\n",
              " array([[0., 1., 0., 0.]], dtype=float32),\n",
              " array([[1., 0., 0., 0.]], dtype=float32),\n",
              " array([[0., 1., 0., 0.]], dtype=float32),\n",
              " array([[1., 0., 0., 0.]], dtype=float32),\n",
              " array([[1., 0., 0., 0.]], dtype=float32),\n",
              " array([[0., 1., 0., 0.]], dtype=float32),\n",
              " array([[1., 0., 0., 0.]], dtype=float32),\n",
              " array([[1., 0., 0., 0.]], dtype=float32),\n",
              " array([[0., 1., 0., 0.]], dtype=float32),\n",
              " array([[0., 1., 0., 0.]], dtype=float32),\n",
              " array([[1., 0., 0., 0.]], dtype=float32),\n",
              " array([[0., 0., 1., 0.]], dtype=float32),\n",
              " array([[1., 0., 0., 0.]], dtype=float32),\n",
              " array([[0., 0., 0., 1.]], dtype=float32),\n",
              " array([[0., 0., 1., 0.]], dtype=float32),\n",
              " array([[0., 0., 0., 1.]], dtype=float32),\n",
              " array([[0., 0., 1., 0.]], dtype=float32),\n",
              " array([[0., 0., 0., 1.]], dtype=float32),\n",
              " array([[0., 1., 0., 0.]], dtype=float32),\n",
              " array([[1., 0., 0., 0.]], dtype=float32),\n",
              " array([[0., 1., 0., 0.]], dtype=float32),\n",
              " array([[0., 0., 1., 0.]], dtype=float32),\n",
              " array([[0., 0., 0., 1.]], dtype=float32),\n",
              " array([[1., 0., 0., 0.]], dtype=float32),\n",
              " array([[0., 0., 0., 1.]], dtype=float32),\n",
              " array([[0., 1., 0., 0.]], dtype=float32),\n",
              " array([[0., 0., 0., 1.]], dtype=float32),\n",
              " array([[0., 1., 0., 0.]], dtype=float32),\n",
              " array([[0., 0., 1., 0.]], dtype=float32),\n",
              " array([[0., 1., 0., 0.]], dtype=float32),\n",
              " array([[0., 0., 0., 1.]], dtype=float32),\n",
              " array([[0., 0., 0., 1.]], dtype=float32),\n",
              " array([[0., 1., 0., 0.]], dtype=float32),\n",
              " array([[1., 0., 0., 0.]], dtype=float32),\n",
              " array([[1., 0., 0., 0.]], dtype=float32),\n",
              " array([[0., 0., 0., 1.]], dtype=float32),\n",
              " array([[1., 0., 0., 0.]], dtype=float32),\n",
              " array([[1., 0., 0., 0.]], dtype=float32),\n",
              " array([[0., 1., 0., 0.]], dtype=float32),\n",
              " array([[1., 0., 0., 0.]], dtype=float32),\n",
              " array([[0., 1., 0., 0.]], dtype=float32),\n",
              " array([[0., 0., 0., 1.]], dtype=float32),\n",
              " array([[1., 0., 0., 0.]], dtype=float32),\n",
              " array([[0., 0., 1., 0.]], dtype=float32),\n",
              " array([[1., 0., 0., 0.]], dtype=float32),\n",
              " array([[0., 0., 0., 1.]], dtype=float32),\n",
              " array([[0., 0., 0., 1.]], dtype=float32),\n",
              " array([[0., 0., 0., 1.]], dtype=float32),\n",
              " array([[0., 1., 0., 0.]], dtype=float32),\n",
              " array([[0., 0., 0., 1.]], dtype=float32),\n",
              " array([[1., 0., 0., 0.]], dtype=float32),\n",
              " array([[1., 0., 0., 0.]], dtype=float32),\n",
              " array([[0., 0., 0., 1.]], dtype=float32),\n",
              " array([[0., 0., 0., 1.]], dtype=float32),\n",
              " array([[0., 0., 1., 0.]], dtype=float32),\n",
              " array([[0., 0., 1., 0.]], dtype=float32),\n",
              " array([[0., 1., 0., 0.]], dtype=float32),\n",
              " array([[0., 1., 0., 0.]], dtype=float32),\n",
              " array([[0., 0., 1., 0.]], dtype=float32),\n",
              " array([[1., 0., 0., 0.]], dtype=float32),\n",
              " array([[1., 0., 0., 0.]], dtype=float32),\n",
              " array([[0., 0., 1., 0.]], dtype=float32),\n",
              " array([[0., 0., 1., 0.]], dtype=float32),\n",
              " array([[0., 0., 1., 0.]], dtype=float32),\n",
              " array([[0., 0., 0., 1.]], dtype=float32),\n",
              " array([[1., 0., 0., 0.]], dtype=float32),\n",
              " array([[0., 0., 1., 0.]], dtype=float32),\n",
              " array([[0., 0., 0., 1.]], dtype=float32),\n",
              " array([[0., 1., 0., 0.]], dtype=float32),\n",
              " array([[0., 0., 1., 0.]], dtype=float32),\n",
              " array([[0., 1., 0., 0.]], dtype=float32),\n",
              " array([[0., 0., 0., 1.]], dtype=float32),\n",
              " array([[0., 0., 0., 1.]], dtype=float32),\n",
              " array([[0., 0., 0., 1.]], dtype=float32),\n",
              " array([[0., 0., 0., 1.]], dtype=float32),\n",
              " array([[0., 1., 0., 0.]], dtype=float32),\n",
              " array([[0., 0., 0., 1.]], dtype=float32),\n",
              " array([[0., 0., 0., 1.]], dtype=float32),\n",
              " array([[0., 0., 1., 0.]], dtype=float32),\n",
              " array([[0., 1., 0., 0.]], dtype=float32),\n",
              " array([[0., 1., 0., 0.]], dtype=float32),\n",
              " array([[0., 0., 1., 0.]], dtype=float32),\n",
              " array([[1., 0., 0., 0.]], dtype=float32),\n",
              " array([[0., 0., 0., 1.]], dtype=float32),\n",
              " array([[1., 0., 0., 0.]], dtype=float32),\n",
              " array([[0., 0., 0., 1.]], dtype=float32),\n",
              " array([[0., 0., 1., 0.]], dtype=float32),\n",
              " array([[0., 0., 1., 0.]], dtype=float32),\n",
              " array([[0., 0., 0., 1.]], dtype=float32),\n",
              " array([[0., 0., 1., 0.]], dtype=float32),\n",
              " array([[0., 0., 0., 1.]], dtype=float32),\n",
              " array([[0., 0., 1., 0.]], dtype=float32),\n",
              " array([[0., 0., 0., 1.]], dtype=float32),\n",
              " array([[1., 0., 0., 0.]], dtype=float32),\n",
              " array([[0., 1., 0., 0.]], dtype=float32),\n",
              " array([[1., 0., 0., 0.]], dtype=float32),\n",
              " array([[0., 1., 0., 0.]], dtype=float32),\n",
              " array([[1., 0., 0., 0.]], dtype=float32),\n",
              " array([[1., 0., 0., 0.]], dtype=float32),\n",
              " array([[0., 1., 0., 0.]], dtype=float32),\n",
              " array([[1., 0., 0., 0.]], dtype=float32),\n",
              " array([[0., 0., 0., 1.]], dtype=float32),\n",
              " array([[0., 0., 0., 1.]], dtype=float32),\n",
              " array([[0., 0., 1., 0.]], dtype=float32),\n",
              " array([[0., 0., 1., 0.]], dtype=float32),\n",
              " array([[1., 0., 0., 0.]], dtype=float32),\n",
              " array([[0., 0., 1., 0.]], dtype=float32),\n",
              " array([[0., 1., 0., 0.]], dtype=float32),\n",
              " array([[1., 0., 0., 0.]], dtype=float32),\n",
              " array([[0., 1., 0., 0.]], dtype=float32),\n",
              " array([[1., 0., 0., 0.]], dtype=float32),\n",
              " array([[0., 0., 1., 0.]], dtype=float32),\n",
              " array([[0., 1., 0., 0.]], dtype=float32),\n",
              " array([[0., 1., 0., 0.]], dtype=float32),\n",
              " array([[1., 0., 0., 0.]], dtype=float32),\n",
              " array([[1., 0., 0., 0.]], dtype=float32),\n",
              " array([[0., 0., 1., 0.]], dtype=float32),\n",
              " array([[0., 1., 0., 0.]], dtype=float32),\n",
              " array([[0., 0., 0., 1.]], dtype=float32),\n",
              " array([[1., 0., 0., 0.]], dtype=float32),\n",
              " array([[0., 0., 0., 1.]], dtype=float32),\n",
              " array([[0., 1., 0., 0.]], dtype=float32),\n",
              " array([[1., 0., 0., 0.]], dtype=float32),\n",
              " array([[0., 1., 0., 0.]], dtype=float32),\n",
              " array([[0., 1., 0., 0.]], dtype=float32),\n",
              " array([[0., 0., 1., 0.]], dtype=float32),\n",
              " array([[1., 0., 0., 0.]], dtype=float32),\n",
              " array([[0., 0., 0., 1.]], dtype=float32),\n",
              " array([[0., 0., 1., 0.]], dtype=float32),\n",
              " array([[0., 1., 0., 0.]], dtype=float32),\n",
              " array([[0., 0., 0., 1.]], dtype=float32),\n",
              " array([[0., 1., 0., 0.]], dtype=float32),\n",
              " array([[0., 1., 0., 0.]], dtype=float32),\n",
              " array([[0., 0., 0., 1.]], dtype=float32),\n",
              " array([[1., 0., 0., 0.]], dtype=float32),\n",
              " array([[1., 0., 0., 0.]], dtype=float32),\n",
              " array([[0., 0., 1., 0.]], dtype=float32),\n",
              " array([[0., 1., 0., 0.]], dtype=float32),\n",
              " array([[1., 0., 0., 0.]], dtype=float32),\n",
              " array([[0., 0., 1., 0.]], dtype=float32),\n",
              " array([[1., 0., 0., 0.]], dtype=float32),\n",
              " array([[0., 0., 0., 1.]], dtype=float32),\n",
              " array([[0., 1., 0., 0.]], dtype=float32),\n",
              " array([[0., 0., 1., 0.]], dtype=float32),\n",
              " array([[1., 0., 0., 0.]], dtype=float32),\n",
              " array([[0., 1., 0., 0.]], dtype=float32),\n",
              " array([[1., 0., 0., 0.]], dtype=float32),\n",
              " array([[1., 0., 0., 0.]], dtype=float32),\n",
              " array([[1., 0., 0., 0.]], dtype=float32),\n",
              " array([[0., 0., 0., 1.]], dtype=float32),\n",
              " array([[0., 0., 0., 1.]], dtype=float32),\n",
              " array([[0., 0., 1., 0.]], dtype=float32),\n",
              " array([[0., 0., 0., 1.]], dtype=float32),\n",
              " array([[0., 0., 1., 0.]], dtype=float32),\n",
              " array([[1., 0., 0., 0.]], dtype=float32),\n",
              " array([[0., 0., 1., 0.]], dtype=float32),\n",
              " array([[0., 0., 0., 1.]], dtype=float32),\n",
              " array([[1., 0., 0., 0.]], dtype=float32),\n",
              " array([[0., 0., 1., 0.]], dtype=float32),\n",
              " array([[1., 0., 0., 0.]], dtype=float32),\n",
              " array([[0., 1., 0., 0.]], dtype=float32),\n",
              " array([[0., 1., 0., 0.]], dtype=float32),\n",
              " array([[0., 1., 0., 0.]], dtype=float32),\n",
              " array([[0., 0., 1., 0.]], dtype=float32),\n",
              " array([[0., 1., 0., 0.]], dtype=float32),\n",
              " array([[0., 0., 0., 1.]], dtype=float32),\n",
              " array([[0., 1., 0., 0.]], dtype=float32),\n",
              " array([[1., 0., 0., 0.]], dtype=float32),\n",
              " array([[1., 0., 0., 0.]], dtype=float32),\n",
              " array([[0., 0., 0., 1.]], dtype=float32),\n",
              " array([[0., 0., 0., 1.]], dtype=float32),\n",
              " array([[0., 1., 0., 0.]], dtype=float32),\n",
              " array([[0., 0., 1., 0.]], dtype=float32),\n",
              " array([[0., 1., 0., 0.]], dtype=float32),\n",
              " array([[0., 0., 1., 0.]], dtype=float32),\n",
              " array([[0., 1., 0., 0.]], dtype=float32),\n",
              " array([[1., 0., 0., 0.]], dtype=float32),\n",
              " array([[1., 0., 0., 0.]], dtype=float32),\n",
              " array([[0., 1., 0., 0.]], dtype=float32),\n",
              " array([[0., 0., 1., 0.]], dtype=float32),\n",
              " array([[0., 0., 0., 1.]], dtype=float32),\n",
              " array([[1., 0., 0., 0.]], dtype=float32),\n",
              " array([[1., 0., 0., 0.]], dtype=float32),\n",
              " array([[1., 0., 0., 0.]], dtype=float32),\n",
              " array([[0., 0., 1., 0.]], dtype=float32),\n",
              " array([[0., 1., 0., 0.]], dtype=float32),\n",
              " array([[1., 0., 0., 0.]], dtype=float32),\n",
              " array([[1., 0., 0., 0.]], dtype=float32),\n",
              " array([[0., 0., 0., 1.]], dtype=float32),\n",
              " array([[0., 0., 1., 0.]], dtype=float32),\n",
              " array([[0., 0., 1., 0.]], dtype=float32),\n",
              " array([[0., 1., 0., 0.]], dtype=float32),\n",
              " array([[0., 0., 0., 1.]], dtype=float32),\n",
              " array([[0., 1., 0., 0.]], dtype=float32),\n",
              " array([[0., 1., 0., 0.]], dtype=float32),\n",
              " array([[1., 0., 0., 0.]], dtype=float32),\n",
              " array([[0., 1., 0., 0.]], dtype=float32),\n",
              " array([[0., 0., 0., 1.]], dtype=float32),\n",
              " array([[0., 1., 0., 0.]], dtype=float32),\n",
              " array([[1., 0., 0., 0.]], dtype=float32),\n",
              " array([[0., 1., 0., 0.]], dtype=float32),\n",
              " array([[1., 0., 0., 0.]], dtype=float32),\n",
              " array([[0., 0., 1., 0.]], dtype=float32),\n",
              " array([[1., 0., 0., 0.]], dtype=float32),\n",
              " array([[1., 0., 0., 0.]], dtype=float32),\n",
              " array([[0., 1., 0., 0.]], dtype=float32),\n",
              " array([[0., 1., 0., 0.]], dtype=float32),\n",
              " array([[0., 0., 1., 0.]], dtype=float32),\n",
              " array([[1., 0., 0., 0.]], dtype=float32),\n",
              " array([[0., 0., 1., 0.]], dtype=float32),\n",
              " array([[0., 0., 0., 1.]], dtype=float32),\n",
              " array([[0., 1., 0., 0.]], dtype=float32),\n",
              " array([[0., 0., 0., 1.]], dtype=float32),\n",
              " array([[0., 1., 0., 0.]], dtype=float32),\n",
              " array([[0., 0., 0., 1.]], dtype=float32),\n",
              " array([[0., 0., 1., 0.]], dtype=float32),\n",
              " array([[0., 0., 1., 0.]], dtype=float32),\n",
              " array([[0., 0., 0., 1.]], dtype=float32),\n",
              " array([[0., 0., 0., 1.]], dtype=float32),\n",
              " array([[0., 0., 0., 1.]], dtype=float32),\n",
              " array([[0., 0., 1., 0.]], dtype=float32),\n",
              " array([[0., 0., 1., 0.]], dtype=float32),\n",
              " array([[0., 1., 0., 0.]], dtype=float32),\n",
              " array([[0., 0., 0., 1.]], dtype=float32),\n",
              " array([[0., 0., 1., 0.]], dtype=float32),\n",
              " array([[0., 0., 1., 0.]], dtype=float32),\n",
              " array([[0., 0., 0., 1.]], dtype=float32),\n",
              " array([[1., 0., 0., 0.]], dtype=float32),\n",
              " array([[0., 0., 1., 0.]], dtype=float32),\n",
              " array([[1., 0., 0., 0.]], dtype=float32),\n",
              " array([[0., 0., 0., 1.]], dtype=float32),\n",
              " array([[1., 0., 0., 0.]], dtype=float32),\n",
              " array([[0., 0., 1., 0.]], dtype=float32),\n",
              " array([[0., 0., 1., 0.]], dtype=float32),\n",
              " array([[1., 0., 0., 0.]], dtype=float32),\n",
              " array([[0., 0., 0., 1.]], dtype=float32),\n",
              " array([[1., 0., 0., 0.]], dtype=float32),\n",
              " array([[0., 1., 0., 0.]], dtype=float32),\n",
              " array([[0., 0., 0., 1.]], dtype=float32),\n",
              " array([[0., 1., 0., 0.]], dtype=float32),\n",
              " array([[0., 1., 0., 0.]], dtype=float32),\n",
              " array([[0., 0., 0., 1.]], dtype=float32),\n",
              " array([[1., 0., 0., 0.]], dtype=float32),\n",
              " array([[0., 0., 0., 1.]], dtype=float32),\n",
              " array([[0., 0., 1., 0.]], dtype=float32),\n",
              " array([[0., 1., 0., 0.]], dtype=float32),\n",
              " array([[0., 0., 0., 1.]], dtype=float32),\n",
              " array([[0., 1., 0., 0.]], dtype=float32)]"
            ]
          },
          "metadata": {},
          "execution_count": 38
        }
      ]
    }
  ],
  "metadata": {
    "accelerator": "GPU",
    "colab": {
      "collapsed_sections": [],
      "name": "VGG19.ipynb",
      "provenance": [],
      "include_colab_link": true
    },
    "kernelspec": {
      "display_name": "Python 3",
      "language": "python",
      "name": "python3"
    },
    "language_info": {
      "codemirror_mode": {
        "name": "ipython",
        "version": 3
      },
      "file_extension": ".py",
      "mimetype": "text/x-python",
      "name": "python",
      "nbconvert_exporter": "python",
      "pygments_lexer": "ipython3",
      "version": "3.8.8"
    }
  },
  "nbformat": 4,
  "nbformat_minor": 0
}